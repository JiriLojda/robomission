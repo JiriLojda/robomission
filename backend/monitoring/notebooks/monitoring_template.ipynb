{
 "cells": [
  {
   "cell_type": "markdown",
   "metadata": {},
   "source": [
    "### Settings, imports, data"
   ]
  },
  {
   "cell_type": "code",
   "execution_count": 1,
   "metadata": {},
   "outputs": [],
   "source": [
    "%matplotlib inline\n",
    "from collections import OrderedDict\n",
    "from IPython.display import display, Markdown\n",
    "import numpy as np\n",
    "import matplotlib.pyplot as plt\n",
    "import pandas as pd\n",
    "import seaborn as sns\n",
    "import learn\n",
    "from monitoring.data import get_production_data\n",
    "from monitoring.visualization import display_level_overview\n",
    "\n",
    "sns.set()\n",
    "pd.options.display.float_format = '{:.2f}'.format"
   ]
  },
  {
   "cell_type": "code",
   "execution_count": 28,
   "metadata": {
    "scrolled": false
   },
   "outputs": [
    {
     "name": "stdout",
     "output_type": "stream",
     "text": [
      "Data loaded from cache (/home/xeffenb1/projects/robomission/.prodcache/robomission-2018-01-13/).\n"
     ]
    }
   ],
   "source": [
    "# Load data from local cache, fetch and store if not available.\n",
    "data = get_production_data('2018-01-13')"
   ]
  },
  {
   "cell_type": "markdown",
   "metadata": {},
   "source": [
    "# All task sessions"
   ]
  },
  {
   "cell_type": "code",
   "execution_count": 53,
   "metadata": {},
   "outputs": [],
   "source": [
    "ts = data['task_sessions']\n",
    "ts = ts[ts.time_spent > 0]"
   ]
  },
  {
   "cell_type": "code",
   "execution_count": 55,
   "metadata": {},
   "outputs": [
    {
     "data": {
      "text/html": [
       "<div>\n",
       "<style>\n",
       "    .dataframe thead tr:only-child th {\n",
       "        text-align: right;\n",
       "    }\n",
       "\n",
       "    .dataframe thead th {\n",
       "        text-align: left;\n",
       "    }\n",
       "\n",
       "    .dataframe tbody tr th {\n",
       "        vertical-align: top;\n",
       "    }\n",
       "</style>\n",
       "<table border=\"1\" class=\"dataframe\">\n",
       "  <thead>\n",
       "    <tr style=\"text-align: right;\">\n",
       "      <th></th>\n",
       "      <th>student</th>\n",
       "      <th>task</th>\n",
       "      <th>solved</th>\n",
       "      <th>start</th>\n",
       "      <th>end</th>\n",
       "      <th>time_spent</th>\n",
       "    </tr>\n",
       "    <tr>\n",
       "      <th>id</th>\n",
       "      <th></th>\n",
       "      <th></th>\n",
       "      <th></th>\n",
       "      <th></th>\n",
       "      <th></th>\n",
       "      <th></th>\n",
       "    </tr>\n",
       "  </thead>\n",
       "  <tbody>\n",
       "  </tbody>\n",
       "</table>\n",
       "</div>"
      ],
      "text/plain": [
       "Empty DataFrame\n",
       "Columns: [student, task, solved, start, end, time_spent]\n",
       "Index: []"
      ]
     },
     "execution_count": 55,
     "metadata": {},
     "output_type": "execute_result"
    }
   ],
   "source": [
    "ts[ts.task == 74]"
   ]
  },
  {
   "cell_type": "markdown",
   "metadata": {},
   "source": [
    "### Histogram of log-times"
   ]
  },
  {
   "cell_type": "code",
   "execution_count": 39,
   "metadata": {},
   "outputs": [
    {
     "data": {
      "text/plain": [
       "<matplotlib.axes._subplots.AxesSubplot at 0x7fb04c954c88>"
      ]
     },
     "execution_count": 39,
     "metadata": {},
     "output_type": "execute_result"
    },
    {
     "data": {
      "image/png": "[encoded data removed]",
      "text/plain": [
       "<matplotlib.figure.Figure at 0x7fb04c90a860>"
      ]
     },
     "metadata": {},
     "output_type": "display_data"
    }
   ],
   "source": [
    "ts.time_spent.apply(np.log).hist()"
   ]
  },
  {
   "cell_type": "markdown",
   "metadata": {},
   "source": [
    "# All tasks"
   ]
  },
  {
   "cell_type": "code",
   "execution_count": 72,
   "metadata": {},
   "outputs": [
    {
     "data": {
      "text/html": [
       "<div>\n",
       "<style>\n",
       "    .dataframe thead tr:only-child th {\n",
       "        text-align: right;\n",
       "    }\n",
       "\n",
       "    .dataframe thead th {\n",
       "        text-align: left;\n",
       "    }\n",
       "\n",
       "    .dataframe tbody tr th {\n",
       "        vertical-align: top;\n",
       "    }\n",
       "</style>\n",
       "<table border=\"1\" class=\"dataframe\">\n",
       "  <thead>\n",
       "    <tr style=\"text-align: right;\">\n",
       "      <th></th>\n",
       "      <th>n_solved</th>\n",
       "      <th>success</th>\n",
       "      <th>time</th>\n",
       "      <th>n_attempts</th>\n",
       "    </tr>\n",
       "    <tr>\n",
       "      <th>task</th>\n",
       "      <th></th>\n",
       "      <th></th>\n",
       "      <th></th>\n",
       "      <th></th>\n",
       "    </tr>\n",
       "  </thead>\n",
       "  <tbody>\n",
       "    <tr>\n",
       "      <th>66</th>\n",
       "      <td>13.00</td>\n",
       "      <td>0.81</td>\n",
       "      <td>50.00</td>\n",
       "      <td>16</td>\n",
       "    </tr>\n",
       "    <tr>\n",
       "      <th>67</th>\n",
       "      <td>19.00</td>\n",
       "      <td>0.79</td>\n",
       "      <td>33.50</td>\n",
       "      <td>24</td>\n",
       "    </tr>\n",
       "    <tr>\n",
       "      <th>68</th>\n",
       "      <td>6.00</td>\n",
       "      <td>1.00</td>\n",
       "      <td>60.00</td>\n",
       "      <td>6</td>\n",
       "    </tr>\n",
       "    <tr>\n",
       "      <th>69</th>\n",
       "      <td>10.00</td>\n",
       "      <td>1.00</td>\n",
       "      <td>110.00</td>\n",
       "      <td>10</td>\n",
       "    </tr>\n",
       "    <tr>\n",
       "      <th>70</th>\n",
       "      <td>11.00</td>\n",
       "      <td>1.00</td>\n",
       "      <td>55.00</td>\n",
       "      <td>11</td>\n",
       "    </tr>\n",
       "    <tr>\n",
       "      <th>71</th>\n",
       "      <td>9.00</td>\n",
       "      <td>1.00</td>\n",
       "      <td>45.00</td>\n",
       "      <td>9</td>\n",
       "    </tr>\n",
       "    <tr>\n",
       "      <th>72</th>\n",
       "      <td>4.00</td>\n",
       "      <td>1.00</td>\n",
       "      <td>93.00</td>\n",
       "      <td>4</td>\n",
       "    </tr>\n",
       "    <tr>\n",
       "      <th>73</th>\n",
       "      <td>8.00</td>\n",
       "      <td>1.00</td>\n",
       "      <td>61.00</td>\n",
       "      <td>8</td>\n",
       "    </tr>\n",
       "    <tr>\n",
       "      <th>75</th>\n",
       "      <td>1.00</td>\n",
       "      <td>0.50</td>\n",
       "      <td>152.50</td>\n",
       "      <td>2</td>\n",
       "    </tr>\n",
       "    <tr>\n",
       "      <th>76</th>\n",
       "      <td>9.00</td>\n",
       "      <td>0.90</td>\n",
       "      <td>89.50</td>\n",
       "      <td>10</td>\n",
       "    </tr>\n",
       "    <tr>\n",
       "      <th>77</th>\n",
       "      <td>2.00</td>\n",
       "      <td>0.67</td>\n",
       "      <td>1094.00</td>\n",
       "      <td>3</td>\n",
       "    </tr>\n",
       "    <tr>\n",
       "      <th>78</th>\n",
       "      <td>1.00</td>\n",
       "      <td>0.33</td>\n",
       "      <td>342.00</td>\n",
       "      <td>3</td>\n",
       "    </tr>\n",
       "    <tr>\n",
       "      <th>79</th>\n",
       "      <td>17.00</td>\n",
       "      <td>0.74</td>\n",
       "      <td>99.00</td>\n",
       "      <td>23</td>\n",
       "    </tr>\n",
       "    <tr>\n",
       "      <th>80</th>\n",
       "      <td>2.00</td>\n",
       "      <td>1.00</td>\n",
       "      <td>147.50</td>\n",
       "      <td>2</td>\n",
       "    </tr>\n",
       "    <tr>\n",
       "      <th>81</th>\n",
       "      <td>1.00</td>\n",
       "      <td>0.20</td>\n",
       "      <td>252.00</td>\n",
       "      <td>5</td>\n",
       "    </tr>\n",
       "    <tr>\n",
       "      <th>82</th>\n",
       "      <td>2.00</td>\n",
       "      <td>0.50</td>\n",
       "      <td>233.00</td>\n",
       "      <td>4</td>\n",
       "    </tr>\n",
       "    <tr>\n",
       "      <th>83</th>\n",
       "      <td>1.00</td>\n",
       "      <td>0.50</td>\n",
       "      <td>103.50</td>\n",
       "      <td>2</td>\n",
       "    </tr>\n",
       "    <tr>\n",
       "      <th>84</th>\n",
       "      <td>6.00</td>\n",
       "      <td>0.75</td>\n",
       "      <td>117.50</td>\n",
       "      <td>8</td>\n",
       "    </tr>\n",
       "    <tr>\n",
       "      <th>85</th>\n",
       "      <td>1.00</td>\n",
       "      <td>0.33</td>\n",
       "      <td>73.00</td>\n",
       "      <td>3</td>\n",
       "    </tr>\n",
       "    <tr>\n",
       "      <th>86</th>\n",
       "      <td>15.00</td>\n",
       "      <td>0.79</td>\n",
       "      <td>34.00</td>\n",
       "      <td>19</td>\n",
       "    </tr>\n",
       "  </tbody>\n",
       "</table>\n",
       "</div>"
      ],
      "text/plain": [
       "      n_solved  success    time  n_attempts\n",
       "task                                       \n",
       "66       13.00     0.81   50.00          16\n",
       "67       19.00     0.79   33.50          24\n",
       "68        6.00     1.00   60.00           6\n",
       "69       10.00     1.00  110.00          10\n",
       "70       11.00     1.00   55.00          11\n",
       "71        9.00     1.00   45.00           9\n",
       "72        4.00     1.00   93.00           4\n",
       "73        8.00     1.00   61.00           8\n",
       "75        1.00     0.50  152.50           2\n",
       "76        9.00     0.90   89.50          10\n",
       "77        2.00     0.67 1094.00           3\n",
       "78        1.00     0.33  342.00           3\n",
       "79       17.00     0.74   99.00          23\n",
       "80        2.00     1.00  147.50           2\n",
       "81        1.00     0.20  252.00           5\n",
       "82        2.00     0.50  233.00           4\n",
       "83        1.00     0.50  103.50           2\n",
       "84        6.00     0.75  117.50           8\n",
       "85        1.00     0.33   73.00           3\n",
       "86       15.00     0.79   34.00          19"
      ]
     },
     "execution_count": 72,
     "metadata": {},
     "output_type": "execute_result"
    }
   ],
   "source": [
    "grouped_ts = ts.groupby('task')\n",
    "metrics = pd.DataFrame(OrderedDict(\n",
    "    time=grouped_ts.time_spent.median(),\n",
    "    success=grouped_ts.solved.mean(),\n",
    "    n_attempts=grouped_ts.task.count(),\n",
    "    n_solved=grouped_ts.solved.sum(),\n",
    "))\n",
    "metrics['n_unsolved'] = metrics.n_attempts - metrics.n_solved\n",
    "tasks = data['tasks'].join(metrics).fill"
   ]
  },
  {
   "cell_type": "code",
   "execution_count": 69,
   "metadata": {},
   "outputs": [
    {
     "data": {
      "text/html": [
       "<div>\n",
       "<style>\n",
       "    .dataframe thead tr:only-child th {\n",
       "        text-align: right;\n",
       "    }\n",
       "\n",
       "    .dataframe thead th {\n",
       "        text-align: left;\n",
       "    }\n",
       "\n",
       "    .dataframe tbody tr th {\n",
       "        vertical-align: top;\n",
       "    }\n",
       "</style>\n",
       "<table border=\"1\" class=\"dataframe\">\n",
       "  <thead>\n",
       "    <tr style=\"text-align: right;\">\n",
       "      <th></th>\n",
       "      <th>n_solved</th>\n",
       "      <th>success</th>\n",
       "      <th>time</th>\n",
       "      <th>n_attempts</th>\n",
       "      <th>n_unsolved</th>\n",
       "    </tr>\n",
       "    <tr>\n",
       "      <th>task</th>\n",
       "      <th></th>\n",
       "      <th></th>\n",
       "      <th></th>\n",
       "      <th></th>\n",
       "      <th></th>\n",
       "    </tr>\n",
       "  </thead>\n",
       "  <tbody>\n",
       "    <tr>\n",
       "      <th>1</th>\n",
       "      <td>35.00</td>\n",
       "      <td>0.90</td>\n",
       "      <td>84.00</td>\n",
       "      <td>39</td>\n",
       "      <td>4.00</td>\n",
       "    </tr>\n",
       "    <tr>\n",
       "      <th>2</th>\n",
       "      <td>89.00</td>\n",
       "      <td>0.85</td>\n",
       "      <td>43.00</td>\n",
       "      <td>105</td>\n",
       "      <td>16.00</td>\n",
       "    </tr>\n",
       "    <tr>\n",
       "      <th>3</th>\n",
       "      <td>24.00</td>\n",
       "      <td>0.77</td>\n",
       "      <td>74.00</td>\n",
       "      <td>31</td>\n",
       "      <td>7.00</td>\n",
       "    </tr>\n",
       "    <tr>\n",
       "      <th>4</th>\n",
       "      <td>2.00</td>\n",
       "      <td>0.33</td>\n",
       "      <td>251.50</td>\n",
       "      <td>6</td>\n",
       "      <td>4.00</td>\n",
       "    </tr>\n",
       "    <tr>\n",
       "      <th>5</th>\n",
       "      <td>4.00</td>\n",
       "      <td>0.44</td>\n",
       "      <td>198.00</td>\n",
       "      <td>9</td>\n",
       "      <td>5.00</td>\n",
       "    </tr>\n",
       "    <tr>\n",
       "      <th>6</th>\n",
       "      <td>55.00</td>\n",
       "      <td>0.80</td>\n",
       "      <td>175.00</td>\n",
       "      <td>69</td>\n",
       "      <td>14.00</td>\n",
       "    </tr>\n",
       "    <tr>\n",
       "      <th>7</th>\n",
       "      <td>4.00</td>\n",
       "      <td>1.00</td>\n",
       "      <td>722.00</td>\n",
       "      <td>4</td>\n",
       "      <td>0.00</td>\n",
       "    </tr>\n",
       "    <tr>\n",
       "      <th>8</th>\n",
       "      <td>74.00</td>\n",
       "      <td>0.93</td>\n",
       "      <td>39.00</td>\n",
       "      <td>80</td>\n",
       "      <td>6.00</td>\n",
       "    </tr>\n",
       "    <tr>\n",
       "      <th>9</th>\n",
       "      <td>2.00</td>\n",
       "      <td>1.00</td>\n",
       "      <td>134.50</td>\n",
       "      <td>2</td>\n",
       "      <td>0.00</td>\n",
       "    </tr>\n",
       "    <tr>\n",
       "      <th>10</th>\n",
       "      <td>73.00</td>\n",
       "      <td>0.97</td>\n",
       "      <td>18.00</td>\n",
       "      <td>75</td>\n",
       "      <td>2.00</td>\n",
       "    </tr>\n",
       "    <tr>\n",
       "      <th>11</th>\n",
       "      <td>46.00</td>\n",
       "      <td>0.96</td>\n",
       "      <td>64.50</td>\n",
       "      <td>48</td>\n",
       "      <td>2.00</td>\n",
       "    </tr>\n",
       "    <tr>\n",
       "      <th>12</th>\n",
       "      <td>79.00</td>\n",
       "      <td>0.96</td>\n",
       "      <td>26.00</td>\n",
       "      <td>82</td>\n",
       "      <td>3.00</td>\n",
       "    </tr>\n",
       "    <tr>\n",
       "      <th>13</th>\n",
       "      <td>39.00</td>\n",
       "      <td>0.81</td>\n",
       "      <td>115.50</td>\n",
       "      <td>48</td>\n",
       "      <td>9.00</td>\n",
       "    </tr>\n",
       "    <tr>\n",
       "      <th>14</th>\n",
       "      <td>81.00</td>\n",
       "      <td>0.90</td>\n",
       "      <td>37.50</td>\n",
       "      <td>90</td>\n",
       "      <td>9.00</td>\n",
       "    </tr>\n",
       "    <tr>\n",
       "      <th>15</th>\n",
       "      <td>2.00</td>\n",
       "      <td>0.18</td>\n",
       "      <td>275.00</td>\n",
       "      <td>11</td>\n",
       "      <td>9.00</td>\n",
       "    </tr>\n",
       "    <tr>\n",
       "      <th>16</th>\n",
       "      <td>1.00</td>\n",
       "      <td>0.50</td>\n",
       "      <td>174.50</td>\n",
       "      <td>2</td>\n",
       "      <td>1.00</td>\n",
       "    </tr>\n",
       "    <tr>\n",
       "      <th>17</th>\n",
       "      <td>17.00</td>\n",
       "      <td>0.71</td>\n",
       "      <td>78.00</td>\n",
       "      <td>24</td>\n",
       "      <td>7.00</td>\n",
       "    </tr>\n",
       "    <tr>\n",
       "      <th>18</th>\n",
       "      <td>26.00</td>\n",
       "      <td>0.63</td>\n",
       "      <td>171.00</td>\n",
       "      <td>41</td>\n",
       "      <td>15.00</td>\n",
       "    </tr>\n",
       "    <tr>\n",
       "      <th>19</th>\n",
       "      <td>44.00</td>\n",
       "      <td>0.75</td>\n",
       "      <td>150.00</td>\n",
       "      <td>59</td>\n",
       "      <td>15.00</td>\n",
       "    </tr>\n",
       "    <tr>\n",
       "      <th>20</th>\n",
       "      <td>3.00</td>\n",
       "      <td>0.60</td>\n",
       "      <td>134.00</td>\n",
       "      <td>5</td>\n",
       "      <td>2.00</td>\n",
       "    </tr>\n",
       "    <tr>\n",
       "      <th>21</th>\n",
       "      <td>41.00</td>\n",
       "      <td>0.75</td>\n",
       "      <td>151.00</td>\n",
       "      <td>55</td>\n",
       "      <td>14.00</td>\n",
       "    </tr>\n",
       "    <tr>\n",
       "      <th>22</th>\n",
       "      <td>2.00</td>\n",
       "      <td>0.67</td>\n",
       "      <td>219.00</td>\n",
       "      <td>3</td>\n",
       "      <td>1.00</td>\n",
       "    </tr>\n",
       "    <tr>\n",
       "      <th>23</th>\n",
       "      <td>47.00</td>\n",
       "      <td>0.69</td>\n",
       "      <td>136.00</td>\n",
       "      <td>68</td>\n",
       "      <td>21.00</td>\n",
       "    </tr>\n",
       "    <tr>\n",
       "      <th>24</th>\n",
       "      <td>2.00</td>\n",
       "      <td>0.50</td>\n",
       "      <td>93.00</td>\n",
       "      <td>4</td>\n",
       "      <td>2.00</td>\n",
       "    </tr>\n",
       "    <tr>\n",
       "      <th>25</th>\n",
       "      <td>75.00</td>\n",
       "      <td>0.82</td>\n",
       "      <td>17.00</td>\n",
       "      <td>91</td>\n",
       "      <td>16.00</td>\n",
       "    </tr>\n",
       "    <tr>\n",
       "      <th>26</th>\n",
       "      <td>64.00</td>\n",
       "      <td>0.78</td>\n",
       "      <td>33.50</td>\n",
       "      <td>82</td>\n",
       "      <td>18.00</td>\n",
       "    </tr>\n",
       "    <tr>\n",
       "      <th>27</th>\n",
       "      <td>3.00</td>\n",
       "      <td>0.43</td>\n",
       "      <td>315.00</td>\n",
       "      <td>7</td>\n",
       "      <td>4.00</td>\n",
       "    </tr>\n",
       "    <tr>\n",
       "      <th>28</th>\n",
       "      <td>4.00</td>\n",
       "      <td>0.57</td>\n",
       "      <td>383.00</td>\n",
       "      <td>7</td>\n",
       "      <td>3.00</td>\n",
       "    </tr>\n",
       "    <tr>\n",
       "      <th>29</th>\n",
       "      <td>2.00</td>\n",
       "      <td>1.00</td>\n",
       "      <td>89.50</td>\n",
       "      <td>2</td>\n",
       "      <td>0.00</td>\n",
       "    </tr>\n",
       "    <tr>\n",
       "      <th>30</th>\n",
       "      <td>2.00</td>\n",
       "      <td>0.67</td>\n",
       "      <td>191.00</td>\n",
       "      <td>3</td>\n",
       "      <td>1.00</td>\n",
       "    </tr>\n",
       "    <tr>\n",
       "      <th>...</th>\n",
       "      <td>...</td>\n",
       "      <td>...</td>\n",
       "      <td>...</td>\n",
       "      <td>...</td>\n",
       "      <td>...</td>\n",
       "    </tr>\n",
       "    <tr>\n",
       "      <th>56</th>\n",
       "      <td>16.00</td>\n",
       "      <td>0.89</td>\n",
       "      <td>51.50</td>\n",
       "      <td>18</td>\n",
       "      <td>2.00</td>\n",
       "    </tr>\n",
       "    <tr>\n",
       "      <th>57</th>\n",
       "      <td>31.00</td>\n",
       "      <td>0.69</td>\n",
       "      <td>137.00</td>\n",
       "      <td>45</td>\n",
       "      <td>14.00</td>\n",
       "    </tr>\n",
       "    <tr>\n",
       "      <th>58</th>\n",
       "      <td>7.00</td>\n",
       "      <td>0.78</td>\n",
       "      <td>155.00</td>\n",
       "      <td>9</td>\n",
       "      <td>2.00</td>\n",
       "    </tr>\n",
       "    <tr>\n",
       "      <th>59</th>\n",
       "      <td>1.00</td>\n",
       "      <td>0.17</td>\n",
       "      <td>268.00</td>\n",
       "      <td>6</td>\n",
       "      <td>5.00</td>\n",
       "    </tr>\n",
       "    <tr>\n",
       "      <th>60</th>\n",
       "      <td>2.00</td>\n",
       "      <td>0.29</td>\n",
       "      <td>109.00</td>\n",
       "      <td>7</td>\n",
       "      <td>5.00</td>\n",
       "    </tr>\n",
       "    <tr>\n",
       "      <th>61</th>\n",
       "      <td>1.00</td>\n",
       "      <td>0.17</td>\n",
       "      <td>240.50</td>\n",
       "      <td>6</td>\n",
       "      <td>5.00</td>\n",
       "    </tr>\n",
       "    <tr>\n",
       "      <th>62</th>\n",
       "      <td>1.00</td>\n",
       "      <td>0.33</td>\n",
       "      <td>222.00</td>\n",
       "      <td>3</td>\n",
       "      <td>2.00</td>\n",
       "    </tr>\n",
       "    <tr>\n",
       "      <th>63</th>\n",
       "      <td>6.00</td>\n",
       "      <td>0.86</td>\n",
       "      <td>140.00</td>\n",
       "      <td>7</td>\n",
       "      <td>1.00</td>\n",
       "    </tr>\n",
       "    <tr>\n",
       "      <th>64</th>\n",
       "      <td>1.00</td>\n",
       "      <td>1.00</td>\n",
       "      <td>111.00</td>\n",
       "      <td>1</td>\n",
       "      <td>0.00</td>\n",
       "    </tr>\n",
       "    <tr>\n",
       "      <th>65</th>\n",
       "      <td>0.00</td>\n",
       "      <td>0.00</td>\n",
       "      <td>346.00</td>\n",
       "      <td>3</td>\n",
       "      <td>3.00</td>\n",
       "    </tr>\n",
       "    <tr>\n",
       "      <th>66</th>\n",
       "      <td>13.00</td>\n",
       "      <td>0.81</td>\n",
       "      <td>50.00</td>\n",
       "      <td>16</td>\n",
       "      <td>3.00</td>\n",
       "    </tr>\n",
       "    <tr>\n",
       "      <th>67</th>\n",
       "      <td>19.00</td>\n",
       "      <td>0.79</td>\n",
       "      <td>33.50</td>\n",
       "      <td>24</td>\n",
       "      <td>5.00</td>\n",
       "    </tr>\n",
       "    <tr>\n",
       "      <th>68</th>\n",
       "      <td>6.00</td>\n",
       "      <td>1.00</td>\n",
       "      <td>60.00</td>\n",
       "      <td>6</td>\n",
       "      <td>0.00</td>\n",
       "    </tr>\n",
       "    <tr>\n",
       "      <th>69</th>\n",
       "      <td>10.00</td>\n",
       "      <td>1.00</td>\n",
       "      <td>110.00</td>\n",
       "      <td>10</td>\n",
       "      <td>0.00</td>\n",
       "    </tr>\n",
       "    <tr>\n",
       "      <th>70</th>\n",
       "      <td>11.00</td>\n",
       "      <td>1.00</td>\n",
       "      <td>55.00</td>\n",
       "      <td>11</td>\n",
       "      <td>0.00</td>\n",
       "    </tr>\n",
       "    <tr>\n",
       "      <th>71</th>\n",
       "      <td>9.00</td>\n",
       "      <td>1.00</td>\n",
       "      <td>45.00</td>\n",
       "      <td>9</td>\n",
       "      <td>0.00</td>\n",
       "    </tr>\n",
       "    <tr>\n",
       "      <th>72</th>\n",
       "      <td>4.00</td>\n",
       "      <td>1.00</td>\n",
       "      <td>93.00</td>\n",
       "      <td>4</td>\n",
       "      <td>0.00</td>\n",
       "    </tr>\n",
       "    <tr>\n",
       "      <th>73</th>\n",
       "      <td>8.00</td>\n",
       "      <td>1.00</td>\n",
       "      <td>61.00</td>\n",
       "      <td>8</td>\n",
       "      <td>0.00</td>\n",
       "    </tr>\n",
       "    <tr>\n",
       "      <th>75</th>\n",
       "      <td>1.00</td>\n",
       "      <td>0.50</td>\n",
       "      <td>152.50</td>\n",
       "      <td>2</td>\n",
       "      <td>1.00</td>\n",
       "    </tr>\n",
       "    <tr>\n",
       "      <th>76</th>\n",
       "      <td>9.00</td>\n",
       "      <td>0.90</td>\n",
       "      <td>89.50</td>\n",
       "      <td>10</td>\n",
       "      <td>1.00</td>\n",
       "    </tr>\n",
       "    <tr>\n",
       "      <th>77</th>\n",
       "      <td>2.00</td>\n",
       "      <td>0.67</td>\n",
       "      <td>1094.00</td>\n",
       "      <td>3</td>\n",
       "      <td>1.00</td>\n",
       "    </tr>\n",
       "    <tr>\n",
       "      <th>78</th>\n",
       "      <td>1.00</td>\n",
       "      <td>0.33</td>\n",
       "      <td>342.00</td>\n",
       "      <td>3</td>\n",
       "      <td>2.00</td>\n",
       "    </tr>\n",
       "    <tr>\n",
       "      <th>79</th>\n",
       "      <td>17.00</td>\n",
       "      <td>0.74</td>\n",
       "      <td>99.00</td>\n",
       "      <td>23</td>\n",
       "      <td>6.00</td>\n",
       "    </tr>\n",
       "    <tr>\n",
       "      <th>80</th>\n",
       "      <td>2.00</td>\n",
       "      <td>1.00</td>\n",
       "      <td>147.50</td>\n",
       "      <td>2</td>\n",
       "      <td>0.00</td>\n",
       "    </tr>\n",
       "    <tr>\n",
       "      <th>81</th>\n",
       "      <td>1.00</td>\n",
       "      <td>0.20</td>\n",
       "      <td>252.00</td>\n",
       "      <td>5</td>\n",
       "      <td>4.00</td>\n",
       "    </tr>\n",
       "    <tr>\n",
       "      <th>82</th>\n",
       "      <td>2.00</td>\n",
       "      <td>0.50</td>\n",
       "      <td>233.00</td>\n",
       "      <td>4</td>\n",
       "      <td>2.00</td>\n",
       "    </tr>\n",
       "    <tr>\n",
       "      <th>83</th>\n",
       "      <td>1.00</td>\n",
       "      <td>0.50</td>\n",
       "      <td>103.50</td>\n",
       "      <td>2</td>\n",
       "      <td>1.00</td>\n",
       "    </tr>\n",
       "    <tr>\n",
       "      <th>84</th>\n",
       "      <td>6.00</td>\n",
       "      <td>0.75</td>\n",
       "      <td>117.50</td>\n",
       "      <td>8</td>\n",
       "      <td>2.00</td>\n",
       "    </tr>\n",
       "    <tr>\n",
       "      <th>85</th>\n",
       "      <td>1.00</td>\n",
       "      <td>0.33</td>\n",
       "      <td>73.00</td>\n",
       "      <td>3</td>\n",
       "      <td>2.00</td>\n",
       "    </tr>\n",
       "    <tr>\n",
       "      <th>86</th>\n",
       "      <td>15.00</td>\n",
       "      <td>0.79</td>\n",
       "      <td>34.00</td>\n",
       "      <td>19</td>\n",
       "      <td>4.00</td>\n",
       "    </tr>\n",
       "  </tbody>\n",
       "</table>\n",
       "<p>85 rows × 5 columns</p>\n",
       "</div>"
      ],
      "text/plain": [
       "      n_solved  success    time  n_attempts  n_unsolved\n",
       "task                                                   \n",
       "1        35.00     0.90   84.00          39        4.00\n",
       "2        89.00     0.85   43.00         105       16.00\n",
       "3        24.00     0.77   74.00          31        7.00\n",
       "4         2.00     0.33  251.50           6        4.00\n",
       "5         4.00     0.44  198.00           9        5.00\n",
       "6        55.00     0.80  175.00          69       14.00\n",
       "7         4.00     1.00  722.00           4        0.00\n",
       "8        74.00     0.93   39.00          80        6.00\n",
       "9         2.00     1.00  134.50           2        0.00\n",
       "10       73.00     0.97   18.00          75        2.00\n",
       "11       46.00     0.96   64.50          48        2.00\n",
       "12       79.00     0.96   26.00          82        3.00\n",
       "13       39.00     0.81  115.50          48        9.00\n",
       "14       81.00     0.90   37.50          90        9.00\n",
       "15        2.00     0.18  275.00          11        9.00\n",
       "16        1.00     0.50  174.50           2        1.00\n",
       "17       17.00     0.71   78.00          24        7.00\n",
       "18       26.00     0.63  171.00          41       15.00\n",
       "19       44.00     0.75  150.00          59       15.00\n",
       "20        3.00     0.60  134.00           5        2.00\n",
       "21       41.00     0.75  151.00          55       14.00\n",
       "22        2.00     0.67  219.00           3        1.00\n",
       "23       47.00     0.69  136.00          68       21.00\n",
       "24        2.00     0.50   93.00           4        2.00\n",
       "25       75.00     0.82   17.00          91       16.00\n",
       "26       64.00     0.78   33.50          82       18.00\n",
       "27        3.00     0.43  315.00           7        4.00\n",
       "28        4.00     0.57  383.00           7        3.00\n",
       "29        2.00     1.00   89.50           2        0.00\n",
       "30        2.00     0.67  191.00           3        1.00\n",
       "...        ...      ...     ...         ...         ...\n",
       "56       16.00     0.89   51.50          18        2.00\n",
       "57       31.00     0.69  137.00          45       14.00\n",
       "58        7.00     0.78  155.00           9        2.00\n",
       "59        1.00     0.17  268.00           6        5.00\n",
       "60        2.00     0.29  109.00           7        5.00\n",
       "61        1.00     0.17  240.50           6        5.00\n",
       "62        1.00     0.33  222.00           3        2.00\n",
       "63        6.00     0.86  140.00           7        1.00\n",
       "64        1.00     1.00  111.00           1        0.00\n",
       "65        0.00     0.00  346.00           3        3.00\n",
       "66       13.00     0.81   50.00          16        3.00\n",
       "67       19.00     0.79   33.50          24        5.00\n",
       "68        6.00     1.00   60.00           6        0.00\n",
       "69       10.00     1.00  110.00          10        0.00\n",
       "70       11.00     1.00   55.00          11        0.00\n",
       "71        9.00     1.00   45.00           9        0.00\n",
       "72        4.00     1.00   93.00           4        0.00\n",
       "73        8.00     1.00   61.00           8        0.00\n",
       "75        1.00     0.50  152.50           2        1.00\n",
       "76        9.00     0.90   89.50          10        1.00\n",
       "77        2.00     0.67 1094.00           3        1.00\n",
       "78        1.00     0.33  342.00           3        2.00\n",
       "79       17.00     0.74   99.00          23        6.00\n",
       "80        2.00     1.00  147.50           2        0.00\n",
       "81        1.00     0.20  252.00           5        4.00\n",
       "82        2.00     0.50  233.00           4        2.00\n",
       "83        1.00     0.50  103.50           2        1.00\n",
       "84        6.00     0.75  117.50           8        2.00\n",
       "85        1.00     0.33   73.00           3        2.00\n",
       "86       15.00     0.79   34.00          19        4.00\n",
       "\n",
       "[85 rows x 5 columns]"
      ]
     },
     "execution_count": 69,
     "metadata": {},
     "output_type": "execute_result"
    }
   ],
   "source": [
    "metrics"
   ]
  },
  {
   "cell_type": "code",
   "execution_count": 65,
   "metadata": {
    "scrolled": false
   },
   "outputs": [
    {
     "data": {
      "text/html": [
       "<div>\n",
       "<style>\n",
       "    .dataframe thead tr:only-child th {\n",
       "        text-align: right;\n",
       "    }\n",
       "\n",
       "    .dataframe thead th {\n",
       "        text-align: left;\n",
       "    }\n",
       "\n",
       "    .dataframe tbody tr th {\n",
       "        vertical-align: top;\n",
       "    }\n",
       "</style>\n",
       "<table border=\"1\" class=\"dataframe\">\n",
       "  <thead>\n",
       "    <tr style=\"text-align: right;\">\n",
       "      <th></th>\n",
       "      <th>name</th>\n",
       "      <th>level</th>\n",
       "      <th>setting</th>\n",
       "      <th>solution</th>\n",
       "      <th>n_solved</th>\n",
       "      <th>success</th>\n",
       "      <th>time</th>\n",
       "      <th>n_attempts</th>\n",
       "      <th>n_unsolved</th>\n",
       "    </tr>\n",
       "    <tr>\n",
       "      <th>id</th>\n",
       "      <th></th>\n",
       "      <th></th>\n",
       "      <th></th>\n",
       "      <th></th>\n",
       "      <th></th>\n",
       "      <th></th>\n",
       "      <th></th>\n",
       "      <th></th>\n",
       "      <th></th>\n",
       "    </tr>\n",
       "  </thead>\n",
       "  <tbody>\n",
       "    <tr>\n",
       "      <th>74</th>\n",
       "      <td>turning-in-square</td>\n",
       "      <td>final-challenge</td>\n",
       "      <td>{\"length\": 10, \"fields\": [[[\"b\", []], [\"b\", []...</td>\n",
       "      <td>W!b{fIy{Ix=3{ll}Ix=2{R3{r}}}}</td>\n",
       "      <td>nan</td>\n",
       "      <td>nan</td>\n",
       "      <td>nan</td>\n",
       "      <td>nan</td>\n",
       "      <td>nan</td>\n",
       "    </tr>\n",
       "  </tbody>\n",
       "</table>\n",
       "</div>"
      ],
      "text/plain": [
       "                 name            level  \\\n",
       "id                                       \n",
       "74  turning-in-square  final-challenge   \n",
       "\n",
       "                                              setting  \\\n",
       "id                                                      \n",
       "74  {\"length\": 10, \"fields\": [[[\"b\", []], [\"b\", []...   \n",
       "\n",
       "                         solution  n_solved  success  time  n_attempts  \\\n",
       "id                                                                       \n",
       "74  W!b{fIy{Ix=3{ll}Ix=2{R3{r}}}}       nan      nan   nan         nan   \n",
       "\n",
       "    n_unsolved  \n",
       "id              \n",
       "74         nan  "
      ]
     },
     "execution_count": 65,
     "metadata": {},
     "output_type": "execute_result"
    }
   ],
   "source": [
    "tasks[tasks.name == 'turning-in-square']"
   ]
  },
  {
   "cell_type": "markdown",
   "metadata": {},
   "source": [
    "### Solved and Unsolved Attempts"
   ]
  },
  {
   "cell_type": "code",
   "execution_count": 41,
   "metadata": {},
   "outputs": [
    {
     "data": {
      "image/png": "[encoded data removed]",
      "text/plain": [
       "<matplotlib.figure.Figure at 0x7fb04cab5a20>"
      ]
     },
     "metadata": {},
     "output_type": "display_data"
    }
   ],
   "source": [
    "ordered_tasks = tasks.sort_values('n_attempts', ascending=False)\n",
    "ax = ordered_tasks[['n_solved', 'n_unsolved']].plot.bar(\n",
    "    title='Attempts',\n",
    "    stacked=True,\n",
    "    color=[sns.xkcd_rgb['medium green'], sns.xkcd_rgb['pale red']],\n",
    "    figsize=(9,6))\n",
    "ax.set_xticklabels([])\n",
    "ax.set_xlabel('task');"
   ]
  },
  {
   "cell_type": "markdown",
   "metadata": {},
   "source": [
    "### Success rate distribution"
   ]
  },
  {
   "cell_type": "code",
   "execution_count": 42,
   "metadata": {},
   "outputs": [
    {
     "data": {
      "image/png": "[encoded data removed]",
      "text/plain": [
       "<matplotlib.figure.Figure at 0x7fb04ca2ab00>"
      ]
     },
     "metadata": {},
     "output_type": "display_data"
    }
   ],
   "source": [
    "ax = tasks.success.plot.hist(title='success rate')"
   ]
  },
  {
   "cell_type": "markdown",
   "metadata": {},
   "source": [
    "### Median time distribution"
   ]
  },
  {
   "cell_type": "code",
   "execution_count": 43,
   "metadata": {},
   "outputs": [
    {
     "data": {
      "image/png": "[encoded data removed]",
      "text/plain": [
       "<matplotlib.figure.Figure at 0x7fb04cef23c8>"
      ]
     },
     "metadata": {},
     "output_type": "display_data"
    }
   ],
   "source": [
    "ax = tasks.time.plot.hist(title='median time')"
   ]
  },
  {
   "cell_type": "markdown",
   "metadata": {},
   "source": [
    "### Median Time vs Success Rate"
   ]
  },
  {
   "cell_type": "code",
   "execution_count": 46,
   "metadata": {},
   "outputs": [
    {
     "data": {
      "text/plain": [
       "<matplotlib.axes._subplots.AxesSubplot at 0x7fb04c7775c0>"
      ]
     },
     "execution_count": 46,
     "metadata": {},
     "output_type": "execute_result"
    },
    {
     "data": {
      "image/png": "[encoded data removed]",
      "text/plain": [
       "<matplotlib.figure.Figure at 0x7fb04cd4c588>"
      ]
     },
     "metadata": {},
     "output_type": "display_data"
    }
   ],
   "source": [
    "tasks.plot.scatter(x='success', y='time', logy=True)"
   ]
  },
  {
   "cell_type": "markdown",
   "metadata": {},
   "source": [
    "# Levels Overview"
   ]
  },
  {
   "cell_type": "code",
   "execution_count": 47,
   "metadata": {
    "scrolled": true
   },
   "outputs": [
    {
     "data": {
      "text/html": [
       "<style  type=\"text/css\" >\n",
       "    #T_628281e4_fb89_11e7_9302_94de80a9d52f tr {\n",
       "          background-color: white;\n",
       "    }    #T_628281e4_fb89_11e7_9302_94de80a9d52f .row_heading, .blank {\n",
       "          display: none;;\n",
       "    }    #T_628281e4_fb89_11e7_9302_94de80a9d52frow0_col3 {\n",
       "            background-color:  rgba(144, 214, 67, 0.6);\n",
       "        }    #T_628281e4_fb89_11e7_9302_94de80a9d52frow0_col4 {\n",
       "            background-color:  rgba(178, 221, 44, 0.6);\n",
       "        }    #T_628281e4_fb89_11e7_9302_94de80a9d52frow1_col3 {\n",
       "            background-color:  rgba(141, 214, 68, 0.6);\n",
       "        }    #T_628281e4_fb89_11e7_9302_94de80a9d52frow1_col4 {\n",
       "            background-color:  rgba(53, 183, 120, 0.6);\n",
       "        }    #T_628281e4_fb89_11e7_9302_94de80a9d52frow2_col3 {\n",
       "            background-color:  rgba(134, 212, 73, 0.6);\n",
       "        }    #T_628281e4_fb89_11e7_9302_94de80a9d52frow2_col4 {\n",
       "            background-color:  rgba(36, 170, 130, 0.6);\n",
       "        }    #T_628281e4_fb89_11e7_9302_94de80a9d52frow3_col3 {\n",
       "            background-color:  rgba(157, 217, 58, 0.6);\n",
       "        }    #T_628281e4_fb89_11e7_9302_94de80a9d52frow3_col4 {\n",
       "            background-color:  rgba(94, 201, 97, 0.6);\n",
       "        }    #T_628281e4_fb89_11e7_9302_94de80a9d52frow4_col3 {\n",
       "            background-color:  rgba(112, 206, 86, 0.6);\n",
       "        }    #T_628281e4_fb89_11e7_9302_94de80a9d52frow4_col4 {\n",
       "            background-color:  rgba(44, 177, 125, 0.6);\n",
       "        }    #T_628281e4_fb89_11e7_9302_94de80a9d52frow5_col3 {\n",
       "            background-color:  rgba(46, 107, 142, 0.6);\n",
       "        }    #T_628281e4_fb89_11e7_9302_94de80a9d52frow5_col4 {\n",
       "            background-color:  rgba(69, 54, 129, 0.6);\n",
       "        }    #T_628281e4_fb89_11e7_9302_94de80a9d52frow6_col3 {\n",
       "            background-color:  rgba(35, 169, 130, 0.6);\n",
       "        }    #T_628281e4_fb89_11e7_9302_94de80a9d52frow6_col4 {\n",
       "            background-color:  rgba(62, 73, 137, 0.6);\n",
       "        }    #T_628281e4_fb89_11e7_9302_94de80a9d52frow7_col3 {\n",
       "            background-color:  rgba(62, 188, 115, 0.6);\n",
       "        }    #T_628281e4_fb89_11e7_9302_94de80a9d52frow7_col4 {\n",
       "            background-color:  rgba(33, 141, 140, 0.6);\n",
       "        }    #T_628281e4_fb89_11e7_9302_94de80a9d52frow8_col3 {\n",
       "            background-color:  rgba(38, 128, 142, 0.6);\n",
       "        }    #T_628281e4_fb89_11e7_9302_94de80a9d52frow8_col4 {\n",
       "            background-color:  rgba(63, 71, 136, 0.6);\n",
       "        }</style>  \n",
       "<table id=\"T_628281e4_fb89_11e7_9302_94de80a9d52f\" > \n",
       "<thead>    <tr> \n",
       "        <th class=\"blank level0\" ></th> \n",
       "        <th class=\"col_heading level0 col0\" >id</th> \n",
       "        <th class=\"col_heading level0 col1\" >name</th> \n",
       "        <th class=\"col_heading level0 col2\" >n_attempts</th> \n",
       "        <th class=\"col_heading level0 col3\" >success</th> \n",
       "        <th class=\"col_heading level0 col4\" >time</th> \n",
       "    </tr></thead> \n",
       "<tbody>    <tr> \n",
       "        <th id=\"T_628281e4_fb89_11e7_9302_94de80a9d52flevel0_row0\" class=\"row_heading level0 row0\" >0</th> \n",
       "        <td id=\"T_628281e4_fb89_11e7_9302_94de80a9d52frow0_col0\" class=\"data row0 col0\" >1</td> \n",
       "        <td id=\"T_628281e4_fb89_11e7_9302_94de80a9d52frow0_col1\" class=\"data row0 col1\" >moves</td> \n",
       "        <td id=\"T_628281e4_fb89_11e7_9302_94de80a9d52frow0_col2\" class=\"data row0 col2\" >787</td> \n",
       "        <td id=\"T_628281e4_fb89_11e7_9302_94de80a9d52frow0_col3\" class=\"data row0 col3\" >84%</td> \n",
       "        <td id=\"T_628281e4_fb89_11e7_9302_94de80a9d52frow0_col4\" class=\"data row0 col4\" >34s</td> \n",
       "    </tr>    <tr> \n",
       "        <th id=\"T_628281e4_fb89_11e7_9302_94de80a9d52flevel0_row1\" class=\"row_heading level0 row1\" >1</th> \n",
       "        <td id=\"T_628281e4_fb89_11e7_9302_94de80a9d52frow1_col0\" class=\"data row1 col0\" >2</td> \n",
       "        <td id=\"T_628281e4_fb89_11e7_9302_94de80a9d52frow1_col1\" class=\"data row1 col1\" >world</td> \n",
       "        <td id=\"T_628281e4_fb89_11e7_9302_94de80a9d52frow1_col2\" class=\"data row1 col2\" >456</td> \n",
       "        <td id=\"T_628281e4_fb89_11e7_9302_94de80a9d52frow1_col3\" class=\"data row1 col3\" >83%</td> \n",
       "        <td id=\"T_628281e4_fb89_11e7_9302_94de80a9d52frow1_col4\" class=\"data row1 col4\" >99s</td> \n",
       "    </tr>    <tr> \n",
       "        <th id=\"T_628281e4_fb89_11e7_9302_94de80a9d52flevel0_row2\" class=\"row_heading level0 row2\" >2</th> \n",
       "        <td id=\"T_628281e4_fb89_11e7_9302_94de80a9d52frow2_col0\" class=\"data row2 col0\" >3</td> \n",
       "        <td id=\"T_628281e4_fb89_11e7_9302_94de80a9d52frow2_col1\" class=\"data row2 col1\" >repeat</td> \n",
       "        <td id=\"T_628281e4_fb89_11e7_9302_94de80a9d52frow2_col2\" class=\"data row2 col2\" >359</td> \n",
       "        <td id=\"T_628281e4_fb89_11e7_9302_94de80a9d52frow2_col3\" class=\"data row2 col3\" >82%</td> \n",
       "        <td id=\"T_628281e4_fb89_11e7_9302_94de80a9d52frow2_col4\" class=\"data row2 col4\" >116s</td> \n",
       "    </tr>    <tr> \n",
       "        <th id=\"T_628281e4_fb89_11e7_9302_94de80a9d52flevel0_row3\" class=\"row_heading level0 row3\" >3</th> \n",
       "        <td id=\"T_628281e4_fb89_11e7_9302_94de80a9d52frow3_col0\" class=\"data row3 col0\" >4</td> \n",
       "        <td id=\"T_628281e4_fb89_11e7_9302_94de80a9d52frow3_col1\" class=\"data row3 col1\" >while</td> \n",
       "        <td id=\"T_628281e4_fb89_11e7_9302_94de80a9d52frow3_col2\" class=\"data row3 col2\" >159</td> \n",
       "        <td id=\"T_628281e4_fb89_11e7_9302_94de80a9d52frow3_col3\" class=\"data row3 col3\" >86%</td> \n",
       "        <td id=\"T_628281e4_fb89_11e7_9302_94de80a9d52frow3_col4\" class=\"data row3 col4\" >74s</td> \n",
       "    </tr>    <tr> \n",
       "        <th id=\"T_628281e4_fb89_11e7_9302_94de80a9d52flevel0_row4\" class=\"row_heading level0 row4\" >4</th> \n",
       "        <td id=\"T_628281e4_fb89_11e7_9302_94de80a9d52frow4_col0\" class=\"data row4 col0\" >5</td> \n",
       "        <td id=\"T_628281e4_fb89_11e7_9302_94de80a9d52frow4_col1\" class=\"data row4 col1\" >loops</td> \n",
       "        <td id=\"T_628281e4_fb89_11e7_9302_94de80a9d52frow4_col2\" class=\"data row4 col2\" >114</td> \n",
       "        <td id=\"T_628281e4_fb89_11e7_9302_94de80a9d52frow4_col3\" class=\"data row4 col3\" >78%</td> \n",
       "        <td id=\"T_628281e4_fb89_11e7_9302_94de80a9d52frow4_col4\" class=\"data row4 col4\" >107s</td> \n",
       "    </tr>    <tr> \n",
       "        <th id=\"T_628281e4_fb89_11e7_9302_94de80a9d52flevel0_row5\" class=\"row_heading level0 row5\" >5</th> \n",
       "        <td id=\"T_628281e4_fb89_11e7_9302_94de80a9d52frow5_col0\" class=\"data row5 col0\" >6</td> \n",
       "        <td id=\"T_628281e4_fb89_11e7_9302_94de80a9d52frow5_col1\" class=\"data row5 col1\" >if</td> \n",
       "        <td id=\"T_628281e4_fb89_11e7_9302_94de80a9d52frow5_col2\" class=\"data row5 col2\" >42</td> \n",
       "        <td id=\"T_628281e4_fb89_11e7_9302_94de80a9d52frow5_col3\" class=\"data row5 col3\" >35%</td> \n",
       "        <td id=\"T_628281e4_fb89_11e7_9302_94de80a9d52frow5_col4\" class=\"data row5 col4\" >252s</td> \n",
       "    </tr>    <tr> \n",
       "        <th id=\"T_628281e4_fb89_11e7_9302_94de80a9d52flevel0_row6\" class=\"row_heading level0 row6\" >6</th> \n",
       "        <td id=\"T_628281e4_fb89_11e7_9302_94de80a9d52frow6_col0\" class=\"data row6 col0\" >7</td> \n",
       "        <td id=\"T_628281e4_fb89_11e7_9302_94de80a9d52frow6_col1\" class=\"data row6 col1\" >comparing</td> \n",
       "        <td id=\"T_628281e4_fb89_11e7_9302_94de80a9d52frow6_col2\" class=\"data row6 col2\" >31</td> \n",
       "        <td id=\"T_628281e4_fb89_11e7_9302_94de80a9d52frow6_col3\" class=\"data row6 col3\" >61%</td> \n",
       "        <td id=\"T_628281e4_fb89_11e7_9302_94de80a9d52frow6_col4\" class=\"data row6 col4\" >233s</td> \n",
       "    </tr>    <tr> \n",
       "        <th id=\"T_628281e4_fb89_11e7_9302_94de80a9d52flevel0_row7\" class=\"row_heading level0 row7\" >7</th> \n",
       "        <td id=\"T_628281e4_fb89_11e7_9302_94de80a9d52frow7_col0\" class=\"data row7 col0\" >8</td> \n",
       "        <td id=\"T_628281e4_fb89_11e7_9302_94de80a9d52frow7_col1\" class=\"data row7 col1\" >if-else</td> \n",
       "        <td id=\"T_628281e4_fb89_11e7_9302_94de80a9d52frow7_col2\" class=\"data row7 col2\" >18</td> \n",
       "        <td id=\"T_628281e4_fb89_11e7_9302_94de80a9d52frow7_col3\" class=\"data row7 col3\" >69%</td> \n",
       "        <td id=\"T_628281e4_fb89_11e7_9302_94de80a9d52frow7_col4\" class=\"data row7 col4\" >152s</td> \n",
       "    </tr>    <tr> \n",
       "        <th id=\"T_628281e4_fb89_11e7_9302_94de80a9d52flevel0_row8\" class=\"row_heading level0 row8\" >8</th> \n",
       "        <td id=\"T_628281e4_fb89_11e7_9302_94de80a9d52frow8_col0\" class=\"data row8 col0\" >9</td> \n",
       "        <td id=\"T_628281e4_fb89_11e7_9302_94de80a9d52frow8_col1\" class=\"data row8 col1\" >final-challenge</td> \n",
       "        <td id=\"T_628281e4_fb89_11e7_9302_94de80a9d52frow8_col2\" class=\"data row8 col2\" >69</td> \n",
       "        <td id=\"T_628281e4_fb89_11e7_9302_94de80a9d52frow8_col3\" class=\"data row8 col3\" >44%</td> \n",
       "        <td id=\"T_628281e4_fb89_11e7_9302_94de80a9d52frow8_col4\" class=\"data row8 col4\" >236s</td> \n",
       "    </tr></tbody> \n",
       "</table> "
      ],
      "text/plain": [
       "<pandas.io.formats.style.Styler at 0x7fb05058fa90>"
      ]
     },
     "metadata": {},
     "output_type": "display_data"
    }
   ],
   "source": [
    "grouped_tasks = tasks.groupby('level')\n",
    "metrics = pd.DataFrame(OrderedDict(\n",
    "    time=grouped_tasks.time.median(), # median of medians\n",
    "    success=grouped_tasks.success.mean(),\n",
    "    n_attempts=grouped_tasks.n_attempts.sum(),\n",
    "    n_solved=grouped_tasks.n_solved.sum(),\n",
    "))\n",
    "levels = data['levels'].merge(metrics, left_on='name', right_index=True)\n",
    "display_level_overview(levels)"
   ]
  },
  {
   "cell_type": "code",
   "execution_count": null,
   "metadata": {},
   "outputs": [],
   "source": []
  },
  {
   "cell_type": "code",
   "execution_count": 50,
   "metadata": {},
   "outputs": [],
   "source": [
    "ts = tasks[tasks.level == 'final-challenge']"
   ]
  },
  {
   "cell_type": "code",
   "execution_count": 49,
   "metadata": {
    "scrolled": false
   },
   "outputs": [
    {
     "data": {
      "text/markdown": [
       "# final-challenge"
      ],
      "text/plain": [
       "<IPython.core.display.Markdown object>"
      ]
     },
     "metadata": {},
     "output_type": "display_data"
    },
    {
     "ename": "ValueError",
     "evalue": "('cannot convert float NaN to integer', 'occurred at index success')",
     "output_type": "error",
     "traceback": [
      "\u001b[0;31m---------------------------------------------------------------------------\u001b[0m",
      "\u001b[0;31mValueError\u001b[0m                                Traceback (most recent call last)",
      "\u001b[0;32m~/.virtualenvs/robomission/lib/python3.5/site-packages/IPython/core/formatters.py\u001b[0m in \u001b[0;36m__call__\u001b[0;34m(self, obj)\u001b[0m\n\u001b[1;32m    343\u001b[0m             \u001b[0mmethod\u001b[0m \u001b[0;34m=\u001b[0m \u001b[0mget_real_method\u001b[0m\u001b[0;34m(\u001b[0m\u001b[0mobj\u001b[0m\u001b[0;34m,\u001b[0m \u001b[0mself\u001b[0m\u001b[0;34m.\u001b[0m\u001b[0mprint_method\u001b[0m\u001b[0;34m)\u001b[0m\u001b[0;34m\u001b[0m\u001b[0m\n\u001b[1;32m    344\u001b[0m             \u001b[0;32mif\u001b[0m \u001b[0mmethod\u001b[0m \u001b[0;32mis\u001b[0m \u001b[0;32mnot\u001b[0m \u001b[0;32mNone\u001b[0m\u001b[0;34m:\u001b[0m\u001b[0;34m\u001b[0m\u001b[0m\n\u001b[0;32m--> 345\u001b[0;31m                 \u001b[0;32mreturn\u001b[0m \u001b[0mmethod\u001b[0m\u001b[0;34m(\u001b[0m\u001b[0;34m)\u001b[0m\u001b[0;34m\u001b[0m\u001b[0m\n\u001b[0m\u001b[1;32m    346\u001b[0m             \u001b[0;32mreturn\u001b[0m \u001b[0;32mNone\u001b[0m\u001b[0;34m\u001b[0m\u001b[0m\n\u001b[1;32m    347\u001b[0m         \u001b[0;32melse\u001b[0m\u001b[0;34m:\u001b[0m\u001b[0;34m\u001b[0m\u001b[0m\n",
      "\u001b[0;32m~/.virtualenvs/robomission/lib/python3.5/site-packages/pandas/io/formats/style.py\u001b[0m in \u001b[0;36m_repr_html_\u001b[0;34m(self)\u001b[0m\n\u001b[1;32m    153\u001b[0m     \u001b[0;32mdef\u001b[0m \u001b[0m_repr_html_\u001b[0m\u001b[0;34m(\u001b[0m\u001b[0mself\u001b[0m\u001b[0;34m)\u001b[0m\u001b[0;34m:\u001b[0m\u001b[0;34m\u001b[0m\u001b[0m\n\u001b[1;32m    154\u001b[0m         \u001b[0;34m\"\"\"Hooks into Jupyter notebook rich display system.\"\"\"\u001b[0m\u001b[0;34m\u001b[0m\u001b[0m\n\u001b[0;32m--> 155\u001b[0;31m         \u001b[0;32mreturn\u001b[0m \u001b[0mself\u001b[0m\u001b[0;34m.\u001b[0m\u001b[0mrender\u001b[0m\u001b[0;34m(\u001b[0m\u001b[0;34m)\u001b[0m\u001b[0;34m\u001b[0m\u001b[0m\n\u001b[0m\u001b[1;32m    156\u001b[0m \u001b[0;34m\u001b[0m\u001b[0m\n\u001b[1;32m    157\u001b[0m     @Appender(_shared_docs['to_excel'] % dict(\n",
      "\u001b[0;32m~/.virtualenvs/robomission/lib/python3.5/site-packages/pandas/io/formats/style.py\u001b[0m in \u001b[0;36mrender\u001b[0;34m(self, **kwargs)\u001b[0m\n\u001b[1;32m    432\u001b[0m         \u001b[0;34m*\u001b[0m \u001b[0mtable_attributes\u001b[0m\u001b[0;34m\u001b[0m\u001b[0m\n\u001b[1;32m    433\u001b[0m         \"\"\"\n\u001b[0;32m--> 434\u001b[0;31m         \u001b[0mself\u001b[0m\u001b[0;34m.\u001b[0m\u001b[0m_compute\u001b[0m\u001b[0;34m(\u001b[0m\u001b[0;34m)\u001b[0m\u001b[0;34m\u001b[0m\u001b[0m\n\u001b[0m\u001b[1;32m    435\u001b[0m         \u001b[0;31m# TODO: namespace all the pandas keys\u001b[0m\u001b[0;34m\u001b[0m\u001b[0;34m\u001b[0m\u001b[0m\n\u001b[1;32m    436\u001b[0m         \u001b[0md\u001b[0m \u001b[0;34m=\u001b[0m \u001b[0mself\u001b[0m\u001b[0;34m.\u001b[0m\u001b[0m_translate\u001b[0m\u001b[0;34m(\u001b[0m\u001b[0;34m)\u001b[0m\u001b[0;34m\u001b[0m\u001b[0m\n",
      "\u001b[0;32m~/.virtualenvs/robomission/lib/python3.5/site-packages/pandas/io/formats/style.py\u001b[0m in \u001b[0;36m_compute\u001b[0;34m(self)\u001b[0m\n\u001b[1;32m    500\u001b[0m         \u001b[0mr\u001b[0m \u001b[0;34m=\u001b[0m \u001b[0mself\u001b[0m\u001b[0;34m\u001b[0m\u001b[0m\n\u001b[1;32m    501\u001b[0m         \u001b[0;32mfor\u001b[0m \u001b[0mfunc\u001b[0m\u001b[0;34m,\u001b[0m \u001b[0margs\u001b[0m\u001b[0;34m,\u001b[0m \u001b[0mkwargs\u001b[0m \u001b[0;32min\u001b[0m \u001b[0mself\u001b[0m\u001b[0;34m.\u001b[0m\u001b[0m_todo\u001b[0m\u001b[0;34m:\u001b[0m\u001b[0;34m\u001b[0m\u001b[0m\n\u001b[0;32m--> 502\u001b[0;31m             \u001b[0mr\u001b[0m \u001b[0;34m=\u001b[0m \u001b[0mfunc\u001b[0m\u001b[0;34m(\u001b[0m\u001b[0mself\u001b[0m\u001b[0;34m)\u001b[0m\u001b[0;34m(\u001b[0m\u001b[0;34m*\u001b[0m\u001b[0margs\u001b[0m\u001b[0;34m,\u001b[0m \u001b[0;34m**\u001b[0m\u001b[0mkwargs\u001b[0m\u001b[0;34m)\u001b[0m\u001b[0;34m\u001b[0m\u001b[0m\n\u001b[0m\u001b[1;32m    503\u001b[0m         \u001b[0;32mreturn\u001b[0m \u001b[0mr\u001b[0m\u001b[0;34m\u001b[0m\u001b[0m\n\u001b[1;32m    504\u001b[0m \u001b[0;34m\u001b[0m\u001b[0m\n",
      "\u001b[0;32m~/.virtualenvs/robomission/lib/python3.5/site-packages/pandas/io/formats/style.py\u001b[0m in \u001b[0;36m_applymap\u001b[0;34m(self, func, subset, **kwargs)\u001b[0m\n\u001b[1;32m    589\u001b[0m             \u001b[0msubset\u001b[0m \u001b[0;34m=\u001b[0m \u001b[0mpd\u001b[0m\u001b[0;34m.\u001b[0m\u001b[0mIndexSlice\u001b[0m\u001b[0;34m[\u001b[0m\u001b[0;34m:\u001b[0m\u001b[0;34m]\u001b[0m\u001b[0;34m\u001b[0m\u001b[0m\n\u001b[1;32m    590\u001b[0m         \u001b[0msubset\u001b[0m \u001b[0;34m=\u001b[0m \u001b[0m_non_reducing_slice\u001b[0m\u001b[0;34m(\u001b[0m\u001b[0msubset\u001b[0m\u001b[0;34m)\u001b[0m\u001b[0;34m\u001b[0m\u001b[0m\n\u001b[0;32m--> 591\u001b[0;31m         \u001b[0mresult\u001b[0m \u001b[0;34m=\u001b[0m \u001b[0mself\u001b[0m\u001b[0;34m.\u001b[0m\u001b[0mdata\u001b[0m\u001b[0;34m.\u001b[0m\u001b[0mloc\u001b[0m\u001b[0;34m[\u001b[0m\u001b[0msubset\u001b[0m\u001b[0;34m]\u001b[0m\u001b[0;34m.\u001b[0m\u001b[0mapplymap\u001b[0m\u001b[0;34m(\u001b[0m\u001b[0mfunc\u001b[0m\u001b[0;34m)\u001b[0m\u001b[0;34m\u001b[0m\u001b[0m\n\u001b[0m\u001b[1;32m    592\u001b[0m         \u001b[0mself\u001b[0m\u001b[0;34m.\u001b[0m\u001b[0m_update_ctx\u001b[0m\u001b[0;34m(\u001b[0m\u001b[0mresult\u001b[0m\u001b[0;34m)\u001b[0m\u001b[0;34m\u001b[0m\u001b[0m\n\u001b[1;32m    593\u001b[0m         \u001b[0;32mreturn\u001b[0m \u001b[0mself\u001b[0m\u001b[0;34m\u001b[0m\u001b[0m\n",
      "\u001b[0;32m~/.virtualenvs/robomission/lib/python3.5/site-packages/pandas/core/frame.py\u001b[0m in \u001b[0;36mapplymap\u001b[0;34m(self, func)\u001b[0m\n\u001b[1;32m   4451\u001b[0m             \u001b[0;32mreturn\u001b[0m \u001b[0mlib\u001b[0m\u001b[0;34m.\u001b[0m\u001b[0mmap_infer\u001b[0m\u001b[0;34m(\u001b[0m\u001b[0mx\u001b[0m\u001b[0;34m.\u001b[0m\u001b[0masobject\u001b[0m\u001b[0;34m,\u001b[0m \u001b[0mfunc\u001b[0m\u001b[0;34m)\u001b[0m\u001b[0;34m\u001b[0m\u001b[0m\n\u001b[1;32m   4452\u001b[0m \u001b[0;34m\u001b[0m\u001b[0m\n\u001b[0;32m-> 4453\u001b[0;31m         \u001b[0;32mreturn\u001b[0m \u001b[0mself\u001b[0m\u001b[0;34m.\u001b[0m\u001b[0mapply\u001b[0m\u001b[0;34m(\u001b[0m\u001b[0minfer\u001b[0m\u001b[0;34m)\u001b[0m\u001b[0;34m\u001b[0m\u001b[0m\n\u001b[0m\u001b[1;32m   4454\u001b[0m \u001b[0;34m\u001b[0m\u001b[0m\n\u001b[1;32m   4455\u001b[0m     \u001b[0;31m# ----------------------------------------------------------------------\u001b[0m\u001b[0;34m\u001b[0m\u001b[0;34m\u001b[0m\u001b[0m\n",
      "\u001b[0;32m~/.virtualenvs/robomission/lib/python3.5/site-packages/pandas/core/frame.py\u001b[0m in \u001b[0;36mapply\u001b[0;34m(self, func, axis, broadcast, raw, reduce, args, **kwds)\u001b[0m\n\u001b[1;32m   4260\u001b[0m                         \u001b[0mf\u001b[0m\u001b[0;34m,\u001b[0m \u001b[0maxis\u001b[0m\u001b[0;34m,\u001b[0m\u001b[0;34m\u001b[0m\u001b[0m\n\u001b[1;32m   4261\u001b[0m                         \u001b[0mreduce\u001b[0m\u001b[0;34m=\u001b[0m\u001b[0mreduce\u001b[0m\u001b[0;34m,\u001b[0m\u001b[0;34m\u001b[0m\u001b[0m\n\u001b[0;32m-> 4262\u001b[0;31m                         ignore_failures=ignore_failures)\n\u001b[0m\u001b[1;32m   4263\u001b[0m             \u001b[0;32melse\u001b[0m\u001b[0;34m:\u001b[0m\u001b[0;34m\u001b[0m\u001b[0m\n\u001b[1;32m   4264\u001b[0m                 \u001b[0;32mreturn\u001b[0m \u001b[0mself\u001b[0m\u001b[0;34m.\u001b[0m\u001b[0m_apply_broadcast\u001b[0m\u001b[0;34m(\u001b[0m\u001b[0mf\u001b[0m\u001b[0;34m,\u001b[0m \u001b[0maxis\u001b[0m\u001b[0;34m)\u001b[0m\u001b[0;34m\u001b[0m\u001b[0m\n",
      "\u001b[0;32m~/.virtualenvs/robomission/lib/python3.5/site-packages/pandas/core/frame.py\u001b[0m in \u001b[0;36m_apply_standard\u001b[0;34m(self, func, axis, ignore_failures, reduce)\u001b[0m\n\u001b[1;32m   4356\u001b[0m             \u001b[0;32mtry\u001b[0m\u001b[0;34m:\u001b[0m\u001b[0;34m\u001b[0m\u001b[0m\n\u001b[1;32m   4357\u001b[0m                 \u001b[0;32mfor\u001b[0m \u001b[0mi\u001b[0m\u001b[0;34m,\u001b[0m \u001b[0mv\u001b[0m \u001b[0;32min\u001b[0m \u001b[0menumerate\u001b[0m\u001b[0;34m(\u001b[0m\u001b[0mseries_gen\u001b[0m\u001b[0;34m)\u001b[0m\u001b[0;34m:\u001b[0m\u001b[0;34m\u001b[0m\u001b[0m\n\u001b[0;32m-> 4358\u001b[0;31m                     \u001b[0mresults\u001b[0m\u001b[0;34m[\u001b[0m\u001b[0mi\u001b[0m\u001b[0;34m]\u001b[0m \u001b[0;34m=\u001b[0m \u001b[0mfunc\u001b[0m\u001b[0;34m(\u001b[0m\u001b[0mv\u001b[0m\u001b[0;34m)\u001b[0m\u001b[0;34m\u001b[0m\u001b[0m\n\u001b[0m\u001b[1;32m   4359\u001b[0m                     \u001b[0mkeys\u001b[0m\u001b[0;34m.\u001b[0m\u001b[0mappend\u001b[0m\u001b[0;34m(\u001b[0m\u001b[0mv\u001b[0m\u001b[0;34m.\u001b[0m\u001b[0mname\u001b[0m\u001b[0;34m)\u001b[0m\u001b[0;34m\u001b[0m\u001b[0m\n\u001b[1;32m   4360\u001b[0m             \u001b[0;32mexcept\u001b[0m \u001b[0mException\u001b[0m \u001b[0;32mas\u001b[0m \u001b[0me\u001b[0m\u001b[0;34m:\u001b[0m\u001b[0;34m\u001b[0m\u001b[0m\n",
      "\u001b[0;32m~/.virtualenvs/robomission/lib/python3.5/site-packages/pandas/core/frame.py\u001b[0m in \u001b[0;36minfer\u001b[0;34m(x)\u001b[0m\n\u001b[1;32m   4449\u001b[0m             \u001b[0;32mif\u001b[0m \u001b[0mx\u001b[0m\u001b[0;34m.\u001b[0m\u001b[0mempty\u001b[0m\u001b[0;34m:\u001b[0m\u001b[0;34m\u001b[0m\u001b[0m\n\u001b[1;32m   4450\u001b[0m                 \u001b[0;32mreturn\u001b[0m \u001b[0mlib\u001b[0m\u001b[0;34m.\u001b[0m\u001b[0mmap_infer\u001b[0m\u001b[0;34m(\u001b[0m\u001b[0mx\u001b[0m\u001b[0;34m,\u001b[0m \u001b[0mfunc\u001b[0m\u001b[0;34m)\u001b[0m\u001b[0;34m\u001b[0m\u001b[0m\n\u001b[0;32m-> 4451\u001b[0;31m             \u001b[0;32mreturn\u001b[0m \u001b[0mlib\u001b[0m\u001b[0;34m.\u001b[0m\u001b[0mmap_infer\u001b[0m\u001b[0;34m(\u001b[0m\u001b[0mx\u001b[0m\u001b[0;34m.\u001b[0m\u001b[0masobject\u001b[0m\u001b[0;34m,\u001b[0m \u001b[0mfunc\u001b[0m\u001b[0;34m)\u001b[0m\u001b[0;34m\u001b[0m\u001b[0m\n\u001b[0m\u001b[1;32m   4452\u001b[0m \u001b[0;34m\u001b[0m\u001b[0m\n\u001b[1;32m   4453\u001b[0m         \u001b[0;32mreturn\u001b[0m \u001b[0mself\u001b[0m\u001b[0;34m.\u001b[0m\u001b[0mapply\u001b[0m\u001b[0;34m(\u001b[0m\u001b[0minfer\u001b[0m\u001b[0;34m)\u001b[0m\u001b[0;34m\u001b[0m\u001b[0m\n",
      "\u001b[0;32mpandas/_libs/src/inference.pyx\u001b[0m in \u001b[0;36mpandas._libs.lib.map_infer (pandas/_libs/lib.c:66645)\u001b[0;34m()\u001b[0m\n",
      "\u001b[0;32m~/projects/robomission/backend/monitoring/visualization.py\u001b[0m in \u001b[0;36mpercentage_background\u001b[0;34m(value)\u001b[0m\n\u001b[1;32m     20\u001b[0m \u001b[0;34m\u001b[0m\u001b[0m\n\u001b[1;32m     21\u001b[0m \u001b[0;32mdef\u001b[0m \u001b[0mpercentage_background\u001b[0m\u001b[0;34m(\u001b[0m\u001b[0mvalue\u001b[0m\u001b[0;34m)\u001b[0m\u001b[0;34m:\u001b[0m\u001b[0;34m\u001b[0m\u001b[0m\n\u001b[0;32m---> 22\u001b[0;31m     \u001b[0;32mreturn\u001b[0m \u001b[0mviridis_background\u001b[0m\u001b[0;34m(\u001b[0m\u001b[0mvalue\u001b[0m\u001b[0;34m,\u001b[0m \u001b[0mvmin\u001b[0m\u001b[0;34m=\u001b[0m\u001b[0;36m0\u001b[0m\u001b[0;34m,\u001b[0m \u001b[0mvmax\u001b[0m\u001b[0;34m=\u001b[0m\u001b[0;36m1\u001b[0m\u001b[0;34m)\u001b[0m\u001b[0;34m\u001b[0m\u001b[0m\n\u001b[0m\u001b[1;32m     23\u001b[0m \u001b[0;34m\u001b[0m\u001b[0m\n\u001b[1;32m     24\u001b[0m \u001b[0;34m\u001b[0m\u001b[0m\n",
      "\u001b[0;32m~/projects/robomission/backend/monitoring/visualization.py\u001b[0m in \u001b[0;36mviridis_background\u001b[0;34m(value, vmin, vmax, reverse)\u001b[0m\n\u001b[1;32m     14\u001b[0m     \u001b[0mmax_index\u001b[0m \u001b[0;34m=\u001b[0m \u001b[0mlen\u001b[0m\u001b[0;34m(\u001b[0m\u001b[0mVIRIDIS\u001b[0m\u001b[0;34m)\u001b[0m \u001b[0;34m-\u001b[0m \u001b[0;36m1\u001b[0m\u001b[0;34m\u001b[0m\u001b[0m\n\u001b[1;32m     15\u001b[0m     \u001b[0msoft_index\u001b[0m \u001b[0;34m=\u001b[0m \u001b[0mnorm_value\u001b[0m \u001b[0;34m*\u001b[0m \u001b[0mmax_index\u001b[0m\u001b[0;34m\u001b[0m\u001b[0m\n\u001b[0;32m---> 16\u001b[0;31m     \u001b[0mindex\u001b[0m \u001b[0;34m=\u001b[0m \u001b[0mmax\u001b[0m\u001b[0;34m(\u001b[0m\u001b[0;36m0\u001b[0m\u001b[0;34m,\u001b[0m \u001b[0mmin\u001b[0m\u001b[0;34m(\u001b[0m\u001b[0mmax_index\u001b[0m\u001b[0;34m,\u001b[0m \u001b[0mint\u001b[0m\u001b[0;34m(\u001b[0m\u001b[0msoft_index\u001b[0m\u001b[0;34m)\u001b[0m\u001b[0;34m)\u001b[0m\u001b[0;34m)\u001b[0m\u001b[0;34m\u001b[0m\u001b[0m\n\u001b[0m\u001b[1;32m     17\u001b[0m     \u001b[0mcolor\u001b[0m \u001b[0;34m=\u001b[0m \u001b[0;34m(\u001b[0m\u001b[0mint\u001b[0m\u001b[0;34m(\u001b[0m\u001b[0;36m255\u001b[0m\u001b[0;34m*\u001b[0m\u001b[0mc\u001b[0m\u001b[0;34m)\u001b[0m \u001b[0;32mfor\u001b[0m \u001b[0mc\u001b[0m \u001b[0;32min\u001b[0m \u001b[0mVIRIDIS\u001b[0m\u001b[0;34m[\u001b[0m\u001b[0mindex\u001b[0m\u001b[0;34m]\u001b[0m\u001b[0;34m)\u001b[0m\u001b[0;34m\u001b[0m\u001b[0m\n\u001b[1;32m     18\u001b[0m     \u001b[0;32mreturn\u001b[0m \u001b[0;34m'background-color: rgba({0}, {1}, {2}, 0.6);'\u001b[0m\u001b[0;34m.\u001b[0m\u001b[0mformat\u001b[0m\u001b[0;34m(\u001b[0m\u001b[0;34m*\u001b[0m\u001b[0mcolor\u001b[0m\u001b[0;34m)\u001b[0m\u001b[0;34m\u001b[0m\u001b[0m\n",
      "\u001b[0;31mValueError\u001b[0m: ('cannot convert float NaN to integer', 'occurred at index success')"
     ]
    },
    {
     "data": {
      "text/plain": [
       "<pandas.io.formats.style.Styler at 0x7fb04fe7e208>"
      ]
     },
     "metadata": {},
     "output_type": "display_data"
    },
    {
     "data": {
      "text/plain": [
       "<matplotlib.axes._subplots.AxesSubplot at 0x7fb04ffbc6a0>"
      ]
     },
     "metadata": {},
     "output_type": "display_data"
    },
    {
     "data": {
      "image/png": "[encoded data removed]",
      "text/plain": [
       "<matplotlib.figure.Figure at 0x7fb04fe7ea58>"
      ]
     },
     "metadata": {},
     "output_type": "display_data"
    },
    {
     "data": {
      "text/plain": [
       "<matplotlib.axes._subplots.AxesSubplot at 0x7fb04fe24278>"
      ]
     },
     "metadata": {},
     "output_type": "display_data"
    },
    {
     "data": {
      "image/png": "[encoded data removed]",
      "text/plain": [
       "<matplotlib.figure.Figure at 0x7fb04fe52fd0>"
      ]
     },
     "metadata": {},
     "output_type": "display_data"
    },
    {
     "data": {
      "text/markdown": [
       "-----"
      ],
      "text/plain": [
       "<IPython.core.display.Markdown object>"
      ]
     },
     "metadata": {},
     "output_type": "display_data"
    }
   ],
   "source": [
    "\n",
    "display_level_overview(ts, order_by='time')"
   ]
  },
  {
   "cell_type": "code",
   "execution_count": null,
   "metadata": {},
   "outputs": [],
   "source": []
  },
  {
   "cell_type": "code",
   "execution_count": null,
   "metadata": {},
   "outputs": [],
   "source": []
  },
  {
   "cell_type": "code",
   "execution_count": null,
   "metadata": {},
   "outputs": [],
   "source": []
  },
  {
   "cell_type": "code",
   "execution_count": null,
   "metadata": {},
   "outputs": [],
   "source": []
  },
  {
   "cell_type": "markdown",
   "metadata": {},
   "source": [
    "# Tasks in Levels"
   ]
  },
  {
   "cell_type": "code",
   "execution_count": 48,
   "metadata": {
    "scrolled": false
   },
   "outputs": [
    {
     "data": {
      "text/markdown": [
       "# moves"
      ],
      "text/plain": [
       "<IPython.core.display.Markdown object>"
      ]
     },
     "metadata": {},
     "output_type": "display_data"
    },
    {
     "data": {
      "text/html": [
       "<style  type=\"text/css\" >\n",
       "    #T_6548c578_fb89_11e7_9302_94de80a9d52f tr {\n",
       "          background-color: white;\n",
       "    }    #T_6548c578_fb89_11e7_9302_94de80a9d52f .row_heading, .blank {\n",
       "          display: none;;\n",
       "    }    #T_6548c578_fb89_11e7_9302_94de80a9d52frow0_col3 {\n",
       "            background-color:  rgba(149, 215, 63, 0.6);\n",
       "        }    #T_6548c578_fb89_11e7_9302_94de80a9d52frow0_col4 {\n",
       "            background-color:  rgba(225, 227, 24, 0.6);\n",
       "        }    #T_6548c578_fb89_11e7_9302_94de80a9d52frow1_col3 {\n",
       "            background-color:  rgba(136, 213, 71, 0.6);\n",
       "        }    #T_6548c578_fb89_11e7_9302_94de80a9d52frow1_col4 {\n",
       "            background-color:  rgba(215, 226, 25, 0.6);\n",
       "        }    #T_6548c578_fb89_11e7_9302_94de80a9d52frow2_col3 {\n",
       "            background-color:  rgba(181, 221, 43, 0.6);\n",
       "        }    #T_6548c578_fb89_11e7_9302_94de80a9d52frow2_col4 {\n",
       "            background-color:  rgba(191, 223, 36, 0.6);\n",
       "        }    #T_6548c578_fb89_11e7_9302_94de80a9d52frow3_col3 {\n",
       "            background-color:  rgba(207, 225, 28, 0.6);\n",
       "        }    #T_6548c578_fb89_11e7_9302_94de80a9d52frow3_col4 {\n",
       "            background-color:  rgba(186, 222, 39, 0.6);\n",
       "        }    #T_6548c578_fb89_11e7_9302_94de80a9d52frow4_col3 {\n",
       "            background-color:  rgba(109, 206, 88, 0.6);\n",
       "        }    #T_6548c578_fb89_11e7_9302_94de80a9d52frow4_col4 {\n",
       "            background-color:  rgba(178, 221, 44, 0.6);\n",
       "        }    #T_6548c578_fb89_11e7_9302_94de80a9d52frow5_col3 {\n",
       "            background-color:  rgba(114, 207, 85, 0.6);\n",
       "        }    #T_6548c578_fb89_11e7_9302_94de80a9d52frow5_col4 {\n",
       "            background-color:  rgba(178, 221, 44, 0.6);\n",
       "        }    #T_6548c578_fb89_11e7_9302_94de80a9d52frow6_col3 {\n",
       "            background-color:  rgba(114, 207, 85, 0.6);\n",
       "        }    #T_6548c578_fb89_11e7_9302_94de80a9d52frow6_col4 {\n",
       "            background-color:  rgba(178, 221, 44, 0.6);\n",
       "        }    #T_6548c578_fb89_11e7_9302_94de80a9d52frow7_col3 {\n",
       "            background-color:  rgba(186, 222, 39, 0.6);\n",
       "        }    #T_6548c578_fb89_11e7_9302_94de80a9d52frow7_col4 {\n",
       "            background-color:  rgba(170, 219, 50, 0.6);\n",
       "        }    #T_6548c578_fb89_11e7_9302_94de80a9d52frow8_col3 {\n",
       "            background-color:  rgba(151, 216, 62, 0.6);\n",
       "        }    #T_6548c578_fb89_11e7_9302_94de80a9d52frow8_col4 {\n",
       "            background-color:  rgba(157, 217, 58, 0.6);\n",
       "        }    #T_6548c578_fb89_11e7_9302_94de80a9d52frow9_col3 {\n",
       "            background-color:  rgba(129, 211, 76, 0.6);\n",
       "        }    #T_6548c578_fb89_11e7_9302_94de80a9d52frow9_col4 {\n",
       "            background-color:  rgba(141, 214, 68, 0.6);\n",
       "        }    #T_6548c578_fb89_11e7_9302_94de80a9d52frow10_col3 {\n",
       "            background-color:  rgba(131, 211, 75, 0.6);\n",
       "        }    #T_6548c578_fb89_11e7_9302_94de80a9d52frow10_col4 {\n",
       "            background-color:  rgba(134, 212, 73, 0.6);\n",
       "        }</style>  \n",
       "<table id=\"T_6548c578_fb89_11e7_9302_94de80a9d52f\" > \n",
       "<thead>    <tr> \n",
       "        <th class=\"blank level0\" ></th> \n",
       "        <th class=\"col_heading level0 col0\" >id</th> \n",
       "        <th class=\"col_heading level0 col1\" >name</th> \n",
       "        <th class=\"col_heading level0 col2\" >n_attempts</th> \n",
       "        <th class=\"col_heading level0 col3\" >success</th> \n",
       "        <th class=\"col_heading level0 col4\" >time</th> \n",
       "    </tr></thead> \n",
       "<tbody>    <tr> \n",
       "        <th id=\"T_6548c578_fb89_11e7_9302_94de80a9d52flevel0_row0\" class=\"row_heading level0 row0\" >8</th> \n",
       "        <td id=\"T_6548c578_fb89_11e7_9302_94de80a9d52frow0_col0\" class=\"data row0 col0\" >51</td> \n",
       "        <td id=\"T_6548c578_fb89_11e7_9302_94de80a9d52frow0_col1\" class=\"data row0 col1\" >one-step-forward</td> \n",
       "        <td id=\"T_6548c578_fb89_11e7_9302_94de80a9d52frow0_col2\" class=\"data row0 col2\" >102</td> \n",
       "        <td id=\"T_6548c578_fb89_11e7_9302_94de80a9d52frow0_col3\" class=\"data row0 col3\" >84%</td> \n",
       "        <td id=\"T_6548c578_fb89_11e7_9302_94de80a9d52frow0_col4\" class=\"data row0 col4\" >12s</td> \n",
       "    </tr>    <tr> \n",
       "        <th id=\"T_6548c578_fb89_11e7_9302_94de80a9d52flevel0_row1\" class=\"row_heading level0 row1\" >2</th> \n",
       "        <td id=\"T_6548c578_fb89_11e7_9302_94de80a9d52frow1_col0\" class=\"data row1 col0\" >25</td> \n",
       "        <td id=\"T_6548c578_fb89_11e7_9302_94de80a9d52frow1_col1\" class=\"data row1 col1\" >three-steps-forward</td> \n",
       "        <td id=\"T_6548c578_fb89_11e7_9302_94de80a9d52frow1_col2\" class=\"data row1 col2\" >91</td> \n",
       "        <td id=\"T_6548c578_fb89_11e7_9302_94de80a9d52frow1_col3\" class=\"data row1 col3\" >82%</td> \n",
       "        <td id=\"T_6548c578_fb89_11e7_9302_94de80a9d52frow1_col4\" class=\"data row1 col4\" >17s</td> \n",
       "    </tr>    <tr> \n",
       "        <th id=\"T_6548c578_fb89_11e7_9302_94de80a9d52flevel0_row2\" class=\"row_heading level0 row2\" >7</th> \n",
       "        <td id=\"T_6548c578_fb89_11e7_9302_94de80a9d52frow2_col0\" class=\"data row2 col0\" >49</td> \n",
       "        <td id=\"T_6548c578_fb89_11e7_9302_94de80a9d52frow2_col1\" class=\"data row2 col1\" >turning-right</td> \n",
       "        <td id=\"T_6548c578_fb89_11e7_9302_94de80a9d52frow2_col2\" class=\"data row2 col2\" >83</td> \n",
       "        <td id=\"T_6548c578_fb89_11e7_9302_94de80a9d52frow2_col3\" class=\"data row2 col3\" >89%</td> \n",
       "        <td id=\"T_6548c578_fb89_11e7_9302_94de80a9d52frow2_col4\" class=\"data row2 col4\" >28s</td> \n",
       "    </tr>    <tr> \n",
       "        <th id=\"T_6548c578_fb89_11e7_9302_94de80a9d52flevel0_row3\" class=\"row_heading level0 row3\" >5</th> \n",
       "        <td id=\"T_6548c578_fb89_11e7_9302_94de80a9d52frow3_col0\" class=\"data row3 col0\" >44</td> \n",
       "        <td id=\"T_6548c578_fb89_11e7_9302_94de80a9d52frow3_col1\" class=\"data row3 col1\" >turning-left</td> \n",
       "        <td id=\"T_6548c578_fb89_11e7_9302_94de80a9d52frow3_col2\" class=\"data row3 col2\" >88</td> \n",
       "        <td id=\"T_6548c578_fb89_11e7_9302_94de80a9d52frow3_col3\" class=\"data row3 col3\" >93%</td> \n",
       "        <td id=\"T_6548c578_fb89_11e7_9302_94de80a9d52frow3_col4\" class=\"data row3 col4\" >30s</td> \n",
       "    </tr>    <tr> \n",
       "        <th id=\"T_6548c578_fb89_11e7_9302_94de80a9d52flevel0_row4\" class=\"row_heading level0 row4\" >3</th> \n",
       "        <td id=\"T_6548c578_fb89_11e7_9302_94de80a9d52frow4_col0\" class=\"data row4 col0\" >26</td> \n",
       "        <td id=\"T_6548c578_fb89_11e7_9302_94de80a9d52frow4_col1\" class=\"data row4 col1\" >turning-right-and-left</td> \n",
       "        <td id=\"T_6548c578_fb89_11e7_9302_94de80a9d52frow4_col2\" class=\"data row4 col2\" >82</td> \n",
       "        <td id=\"T_6548c578_fb89_11e7_9302_94de80a9d52frow4_col3\" class=\"data row4 col3\" >78%</td> \n",
       "        <td id=\"T_6548c578_fb89_11e7_9302_94de80a9d52frow4_col4\" class=\"data row4 col4\" >34s</td> \n",
       "    </tr>    <tr> \n",
       "        <th id=\"T_6548c578_fb89_11e7_9302_94de80a9d52flevel0_row5\" class=\"row_heading level0 row5\" >10</th> \n",
       "        <td id=\"T_6548c578_fb89_11e7_9302_94de80a9d52frow5_col0\" class=\"data row5 col0\" >67</td> \n",
       "        <td id=\"T_6548c578_fb89_11e7_9302_94de80a9d52frow5_col1\" class=\"data row5 col1\" >plus</td> \n",
       "        <td id=\"T_6548c578_fb89_11e7_9302_94de80a9d52frow5_col2\" class=\"data row5 col2\" >24</td> \n",
       "        <td id=\"T_6548c578_fb89_11e7_9302_94de80a9d52frow5_col3\" class=\"data row5 col3\" >79%</td> \n",
       "        <td id=\"T_6548c578_fb89_11e7_9302_94de80a9d52frow5_col4\" class=\"data row5 col4\" >34s</td> \n",
       "    </tr>    <tr> \n",
       "        <th id=\"T_6548c578_fb89_11e7_9302_94de80a9d52flevel0_row6\" class=\"row_heading level0 row6\" >6</th> \n",
       "        <td id=\"T_6548c578_fb89_11e7_9302_94de80a9d52frow6_col0\" class=\"data row6 col0\" >86</td> \n",
       "        <td id=\"T_6548c578_fb89_11e7_9302_94de80a9d52frow6_col1\" class=\"data row6 col1\" >diamond-path</td> \n",
       "        <td id=\"T_6548c578_fb89_11e7_9302_94de80a9d52frow6_col2\" class=\"data row6 col2\" >19</td> \n",
       "        <td id=\"T_6548c578_fb89_11e7_9302_94de80a9d52frow6_col3\" class=\"data row6 col3\" >79%</td> \n",
       "        <td id=\"T_6548c578_fb89_11e7_9302_94de80a9d52frow6_col4\" class=\"data row6 col4\" >34s</td> \n",
       "    </tr>    <tr> \n",
       "        <th id=\"T_6548c578_fb89_11e7_9302_94de80a9d52flevel0_row7\" class=\"row_heading level0 row7\" >1</th> \n",
       "        <td id=\"T_6548c578_fb89_11e7_9302_94de80a9d52frow7_col0\" class=\"data row7 col0\" >14</td> \n",
       "        <td id=\"T_6548c578_fb89_11e7_9302_94de80a9d52frow7_col1\" class=\"data row7 col1\" >beware-of-asteroid</td> \n",
       "        <td id=\"T_6548c578_fb89_11e7_9302_94de80a9d52frow7_col2\" class=\"data row7 col2\" >90</td> \n",
       "        <td id=\"T_6548c578_fb89_11e7_9302_94de80a9d52frow7_col3\" class=\"data row7 col3\" >90%</td> \n",
       "        <td id=\"T_6548c578_fb89_11e7_9302_94de80a9d52frow7_col4\" class=\"data row7 col4\" >38s</td> \n",
       "    </tr>    <tr> \n",
       "        <th id=\"T_6548c578_fb89_11e7_9302_94de80a9d52flevel0_row8\" class=\"row_heading level0 row8\" >0</th> \n",
       "        <td id=\"T_6548c578_fb89_11e7_9302_94de80a9d52frow8_col0\" class=\"data row8 col0\" >2</td> \n",
       "        <td id=\"T_6548c578_fb89_11e7_9302_94de80a9d52frow8_col1\" class=\"data row8 col1\" >turning-left-and-right</td> \n",
       "        <td id=\"T_6548c578_fb89_11e7_9302_94de80a9d52frow8_col2\" class=\"data row8 col2\" >105</td> \n",
       "        <td id=\"T_6548c578_fb89_11e7_9302_94de80a9d52frow8_col3\" class=\"data row8 col3\" >85%</td> \n",
       "        <td id=\"T_6548c578_fb89_11e7_9302_94de80a9d52frow8_col4\" class=\"data row8 col4\" >43s</td> \n",
       "    </tr>    <tr> \n",
       "        <th id=\"T_6548c578_fb89_11e7_9302_94de80a9d52flevel0_row9\" class=\"row_heading level0 row9\" >9</th> \n",
       "        <td id=\"T_6548c578_fb89_11e7_9302_94de80a9d52frow9_col0\" class=\"data row9 col0\" >66</td> \n",
       "        <td id=\"T_6548c578_fb89_11e7_9302_94de80a9d52frow9_col1\" class=\"data row9 col1\" >surrounded-diamond</td> \n",
       "        <td id=\"T_6548c578_fb89_11e7_9302_94de80a9d52frow9_col2\" class=\"data row9 col2\" >16</td> \n",
       "        <td id=\"T_6548c578_fb89_11e7_9302_94de80a9d52frow9_col3\" class=\"data row9 col3\" >81%</td> \n",
       "        <td id=\"T_6548c578_fb89_11e7_9302_94de80a9d52frow9_col4\" class=\"data row9 col4\" >50s</td> \n",
       "    </tr>    <tr> \n",
       "        <th id=\"T_6548c578_fb89_11e7_9302_94de80a9d52flevel0_row10\" class=\"row_heading level0 row10\" >4</th> \n",
       "        <td id=\"T_6548c578_fb89_11e7_9302_94de80a9d52frow10_col0\" class=\"data row10 col0\" >31</td> \n",
       "        <td id=\"T_6548c578_fb89_11e7_9302_94de80a9d52frow10_col1\" class=\"data row10 col1\" >diamond-on-right</td> \n",
       "        <td id=\"T_6548c578_fb89_11e7_9302_94de80a9d52frow10_col2\" class=\"data row10 col2\" >87</td> \n",
       "        <td id=\"T_6548c578_fb89_11e7_9302_94de80a9d52frow10_col3\" class=\"data row10 col3\" >82%</td> \n",
       "        <td id=\"T_6548c578_fb89_11e7_9302_94de80a9d52frow10_col4\" class=\"data row10 col4\" >54s</td> \n",
       "    </tr></tbody> \n",
       "</table> "
      ],
      "text/plain": [
       "<pandas.io.formats.style.Styler at 0x7fb04c701fd0>"
      ]
     },
     "metadata": {},
     "output_type": "display_data"
    },
    {
     "data": {
      "text/plain": [
       "<matplotlib.axes._subplots.AxesSubplot at 0x7fb050564828>"
      ]
     },
     "metadata": {},
     "output_type": "display_data"
    },
    {
     "data": {
      "image/png": "[encoded data removed]",
      "text/plain": [
       "<matplotlib.figure.Figure at 0x7fb050235b70>"
      ]
     },
     "metadata": {},
     "output_type": "display_data"
    },
    {
     "data": {
      "text/plain": [
       "<matplotlib.axes._subplots.AxesSubplot at 0x7fb05049a438>"
      ]
     },
     "metadata": {},
     "output_type": "display_data"
    },
    {
     "data": {
      "image/png": "[encoded data removed]",
      "text/plain": [
       "<matplotlib.figure.Figure at 0x7fb0503e36a0>"
      ]
     },
     "metadata": {},
     "output_type": "display_data"
    },
    {
     "data": {
      "text/markdown": [
       "-----"
      ],
      "text/plain": [
       "<IPython.core.display.Markdown object>"
      ]
     },
     "metadata": {},
     "output_type": "display_data"
    },
    {
     "data": {
      "text/markdown": [
       "# world"
      ],
      "text/plain": [
       "<IPython.core.display.Markdown object>"
      ]
     },
     "metadata": {},
     "output_type": "display_data"
    },
    {
     "data": {
      "text/html": [
       "<style  type=\"text/css\" >\n",
       "    #T_6548c579_fb89_11e7_9302_94de80a9d52f tr {\n",
       "          background-color: white;\n",
       "    }    #T_6548c579_fb89_11e7_9302_94de80a9d52f .row_heading, .blank {\n",
       "          display: none;;\n",
       "    }    #T_6548c579_fb89_11e7_9302_94de80a9d52frow0_col3 {\n",
       "            background-color:  rgba(236, 228, 26, 0.6);\n",
       "        }    #T_6548c579_fb89_11e7_9302_94de80a9d52frow0_col4 {\n",
       "            background-color:  rgba(212, 225, 26, 0.6);\n",
       "        }    #T_6548c579_fb89_11e7_9302_94de80a9d52frow1_col3 {\n",
       "            background-color:  rgba(228, 227, 24, 0.6);\n",
       "        }    #T_6548c579_fb89_11e7_9302_94de80a9d52frow1_col4 {\n",
       "            background-color:  rgba(194, 223, 34, 0.6);\n",
       "        }    #T_6548c579_fb89_11e7_9302_94de80a9d52frow2_col3 {\n",
       "            background-color:  rgba(202, 224, 30, 0.6);\n",
       "        }    #T_6548c579_fb89_11e7_9302_94de80a9d52frow2_col4 {\n",
       "            background-color:  rgba(165, 218, 53, 0.6);\n",
       "        }    #T_6548c579_fb89_11e7_9302_94de80a9d52frow3_col3 {\n",
       "            background-color:  rgba(85, 198, 102, 0.6);\n",
       "        }    #T_6548c579_fb89_11e7_9302_94de80a9d52frow3_col4 {\n",
       "            background-color:  rgba(53, 183, 120, 0.6);\n",
       "        }    #T_6548c579_fb89_11e7_9302_94de80a9d52frow4_col3 {\n",
       "            background-color:  rgba(62, 188, 115, 0.6);\n",
       "        }    #T_6548c579_fb89_11e7_9302_94de80a9d52frow4_col4 {\n",
       "            background-color:  rgba(30, 154, 137, 0.6);\n",
       "        }    #T_6548c579_fb89_11e7_9302_94de80a9d52frow5_col3 {\n",
       "            background-color:  rgba(89, 199, 100, 0.6);\n",
       "        }    #T_6548c579_fb89_11e7_9302_94de80a9d52frow5_col4 {\n",
       "            background-color:  rgba(32, 143, 140, 0.6);\n",
       "        }    #T_6548c579_fb89_11e7_9302_94de80a9d52frow6_col3 {\n",
       "            background-color:  rgba(119, 208, 82, 0.6);\n",
       "        }    #T_6548c579_fb89_11e7_9302_94de80a9d52frow6_col4 {\n",
       "            background-color:  rgba(40, 123, 142, 0.6);\n",
       "        }</style>  \n",
       "<table id=\"T_6548c579_fb89_11e7_9302_94de80a9d52f\" > \n",
       "<thead>    <tr> \n",
       "        <th class=\"blank level0\" ></th> \n",
       "        <th class=\"col_heading level0 col0\" >id</th> \n",
       "        <th class=\"col_heading level0 col1\" >name</th> \n",
       "        <th class=\"col_heading level0 col2\" >n_attempts</th> \n",
       "        <th class=\"col_heading level0 col3\" >success</th> \n",
       "        <th class=\"col_heading level0 col4\" >time</th> \n",
       "    </tr></thead> \n",
       "<tbody>    <tr> \n",
       "        <th id=\"T_6548c579_fb89_11e7_9302_94de80a9d52flevel0_row0\" class=\"row_heading level0 row0\" >1</th> \n",
       "        <td id=\"T_6548c579_fb89_11e7_9302_94de80a9d52frow0_col0\" class=\"data row0 col0\" >10</td> \n",
       "        <td id=\"T_6548c579_fb89_11e7_9302_94de80a9d52frow0_col1\" class=\"data row0 col1\" >shot</td> \n",
       "        <td id=\"T_6548c579_fb89_11e7_9302_94de80a9d52frow0_col2\" class=\"data row0 col2\" >75</td> \n",
       "        <td id=\"T_6548c579_fb89_11e7_9302_94de80a9d52frow0_col3\" class=\"data row0 col3\" >97%</td> \n",
       "        <td id=\"T_6548c579_fb89_11e7_9302_94de80a9d52frow0_col4\" class=\"data row0 col4\" >18s</td> \n",
       "    </tr>    <tr> \n",
       "        <th id=\"T_6548c579_fb89_11e7_9302_94de80a9d52flevel0_row1\" class=\"row_heading level0 row1\" >2</th> \n",
       "        <td id=\"T_6548c579_fb89_11e7_9302_94de80a9d52frow1_col0\" class=\"data row1 col0\" >12</td> \n",
       "        <td id=\"T_6548c579_fb89_11e7_9302_94de80a9d52frow1_col1\" class=\"data row1 col1\" >wormhole-demo</td> \n",
       "        <td id=\"T_6548c579_fb89_11e7_9302_94de80a9d52frow1_col2\" class=\"data row1 col2\" >82</td> \n",
       "        <td id=\"T_6548c579_fb89_11e7_9302_94de80a9d52frow1_col3\" class=\"data row1 col3\" >96%</td> \n",
       "        <td id=\"T_6548c579_fb89_11e7_9302_94de80a9d52frow1_col4\" class=\"data row1 col4\" >26s</td> \n",
       "    </tr>    <tr> \n",
       "        <th id=\"T_6548c579_fb89_11e7_9302_94de80a9d52flevel0_row2\" class=\"row_heading level0 row2\" >3</th> \n",
       "        <td id=\"T_6548c579_fb89_11e7_9302_94de80a9d52frow2_col0\" class=\"data row2 col0\" >8</td> \n",
       "        <td id=\"T_6548c579_fb89_11e7_9302_94de80a9d52frow2_col1\" class=\"data row2 col1\" >shooting</td> \n",
       "        <td id=\"T_6548c579_fb89_11e7_9302_94de80a9d52frow2_col2\" class=\"data row2 col2\" >80</td> \n",
       "        <td id=\"T_6548c579_fb89_11e7_9302_94de80a9d52frow2_col3\" class=\"data row2 col3\" >92%</td> \n",
       "        <td id=\"T_6548c579_fb89_11e7_9302_94de80a9d52frow2_col4\" class=\"data row2 col4\" >39s</td> \n",
       "    </tr>    <tr> \n",
       "        <th id=\"T_6548c579_fb89_11e7_9302_94de80a9d52flevel0_row3\" class=\"row_heading level0 row3\" >6</th> \n",
       "        <td id=\"T_6548c579_fb89_11e7_9302_94de80a9d52frow3_col0\" class=\"data row3 col0\" >79</td> \n",
       "        <td id=\"T_6548c579_fb89_11e7_9302_94de80a9d52frow3_col1\" class=\"data row3 col1\" >last-shot</td> \n",
       "        <td id=\"T_6548c579_fb89_11e7_9302_94de80a9d52frow3_col2\" class=\"data row3 col2\" >23</td> \n",
       "        <td id=\"T_6548c579_fb89_11e7_9302_94de80a9d52frow3_col3\" class=\"data row3 col3\" >74%</td> \n",
       "        <td id=\"T_6548c579_fb89_11e7_9302_94de80a9d52frow3_col4\" class=\"data row3 col4\" >99s</td> \n",
       "    </tr>    <tr> \n",
       "        <th id=\"T_6548c579_fb89_11e7_9302_94de80a9d52flevel0_row4\" class=\"row_heading level0 row4\" >5</th> \n",
       "        <td id=\"T_6548c579_fb89_11e7_9302_94de80a9d52frow4_col0\" class=\"data row4 col0\" >23</td> \n",
       "        <td id=\"T_6548c579_fb89_11e7_9302_94de80a9d52frow4_col1\" class=\"data row4 col1\" >dont-forget-shot</td> \n",
       "        <td id=\"T_6548c579_fb89_11e7_9302_94de80a9d52frow4_col2\" class=\"data row4 col2\" >68</td> \n",
       "        <td id=\"T_6548c579_fb89_11e7_9302_94de80a9d52frow4_col3\" class=\"data row4 col3\" >69%</td> \n",
       "        <td id=\"T_6548c579_fb89_11e7_9302_94de80a9d52frow4_col4\" class=\"data row4 col4\" >136s</td> \n",
       "    </tr>    <tr> \n",
       "        <th id=\"T_6548c579_fb89_11e7_9302_94de80a9d52flevel0_row5\" class=\"row_heading level0 row5\" >4</th> \n",
       "        <td id=\"T_6548c579_fb89_11e7_9302_94de80a9d52frow5_col0\" class=\"data row5 col0\" >19</td> \n",
       "        <td id=\"T_6548c579_fb89_11e7_9302_94de80a9d52frow5_col1\" class=\"data row5 col1\" >2diamonds-2meteorids</td> \n",
       "        <td id=\"T_6548c579_fb89_11e7_9302_94de80a9d52frow5_col2\" class=\"data row5 col2\" >59</td> \n",
       "        <td id=\"T_6548c579_fb89_11e7_9302_94de80a9d52frow5_col3\" class=\"data row5 col3\" >75%</td> \n",
       "        <td id=\"T_6548c579_fb89_11e7_9302_94de80a9d52frow5_col4\" class=\"data row5 col4\" >150s</td> \n",
       "    </tr>    <tr> \n",
       "        <th id=\"T_6548c579_fb89_11e7_9302_94de80a9d52flevel0_row6\" class=\"row_heading level0 row6\" >0</th> \n",
       "        <td id=\"T_6548c579_fb89_11e7_9302_94de80a9d52frow6_col0\" class=\"data row6 col0\" >6</td> \n",
       "        <td id=\"T_6548c579_fb89_11e7_9302_94de80a9d52frow6_col1\" class=\"data row6 col1\" >tunnel</td> \n",
       "        <td id=\"T_6548c579_fb89_11e7_9302_94de80a9d52frow6_col2\" class=\"data row6 col2\" >69</td> \n",
       "        <td id=\"T_6548c579_fb89_11e7_9302_94de80a9d52frow6_col3\" class=\"data row6 col3\" >80%</td> \n",
       "        <td id=\"T_6548c579_fb89_11e7_9302_94de80a9d52frow6_col4\" class=\"data row6 col4\" >175s</td> \n",
       "    </tr></tbody> \n",
       "</table> "
      ],
      "text/plain": [
       "<pandas.io.formats.style.Styler at 0x7fb0504b0dd8>"
      ]
     },
     "metadata": {},
     "output_type": "display_data"
    },
    {
     "data": {
      "text/plain": [
       "<matplotlib.axes._subplots.AxesSubplot at 0x7fb050614898>"
      ]
     },
     "metadata": {},
     "output_type": "display_data"
    },
    {
     "data": {
      "image/png": "[encoded data removed]",
      "text/plain": [
       "<matplotlib.figure.Figure at 0x7fb0504b0cf8>"
      ]
     },
     "metadata": {},
     "output_type": "display_data"
    },
    {
     "data": {
      "text/plain": [
       "<matplotlib.axes._subplots.AxesSubplot at 0x7fb0504b0a90>"
      ]
     },
     "metadata": {},
     "output_type": "display_data"
    },
    {
     "data": {
      "image/png": "[encoded data removed]",
      "text/plain": [
       "<matplotlib.figure.Figure at 0x7fb050505d68>"
      ]
     },
     "metadata": {},
     "output_type": "display_data"
    },
    {
     "data": {
      "text/markdown": [
       "-----"
      ],
      "text/plain": [
       "<IPython.core.display.Markdown object>"
      ]
     },
     "metadata": {},
     "output_type": "display_data"
    },
    {
     "data": {
      "text/markdown": [
       "# repeat"
      ],
      "text/plain": [
       "<IPython.core.display.Markdown object>"
      ]
     },
     "metadata": {},
     "output_type": "display_data"
    },
    {
     "data": {
      "text/html": [
       "<style  type=\"text/css\" >\n",
       "    #T_6548c57a_fb89_11e7_9302_94de80a9d52f tr {\n",
       "          background-color: white;\n",
       "    }    #T_6548c57a_fb89_11e7_9302_94de80a9d52f .row_heading, .blank {\n",
       "          display: none;;\n",
       "    }    #T_6548c57a_fb89_11e7_9302_94de80a9d52frow0_col3 {\n",
       "            background-color:  rgba(253, 231, 36, 0.6);\n",
       "        }    #T_6548c57a_fb89_11e7_9302_94de80a9d52frow0_col4 {\n",
       "            background-color:  rgba(151, 216, 62, 0.6);\n",
       "        }    #T_6548c57a_fb89_11e7_9302_94de80a9d52frow1_col3 {\n",
       "            background-color:  rgba(253, 231, 36, 0.6);\n",
       "        }    #T_6548c57a_fb89_11e7_9302_94de80a9d52frow1_col4 {\n",
       "            background-color:  rgba(131, 211, 75, 0.6);\n",
       "        }    #T_6548c57a_fb89_11e7_9302_94de80a9d52frow2_col3 {\n",
       "            background-color:  rgba(225, 227, 24, 0.6);\n",
       "        }    #T_6548c57a_fb89_11e7_9302_94de80a9d52frow2_col4 {\n",
       "            background-color:  rgba(112, 206, 86, 0.6);\n",
       "        }    #T_6548c57a_fb89_11e7_9302_94de80a9d52frow3_col3 {\n",
       "            background-color:  rgba(183, 221, 41, 0.6);\n",
       "        }    #T_6548c57a_fb89_11e7_9302_94de80a9d52frow3_col4 {\n",
       "            background-color:  rgba(75, 194, 108, 0.6);\n",
       "        }    #T_6548c57a_fb89_11e7_9302_94de80a9d52frow4_col3 {\n",
       "            background-color:  rgba(186, 222, 39, 0.6);\n",
       "        }    #T_6548c57a_fb89_11e7_9302_94de80a9d52frow4_col4 {\n",
       "            background-color:  rgba(66, 190, 113, 0.6);\n",
       "        }    #T_6548c57a_fb89_11e7_9302_94de80a9d52frow5_col3 {\n",
       "            background-color:  rgba(129, 211, 76, 0.6);\n",
       "        }    #T_6548c57a_fb89_11e7_9302_94de80a9d52frow5_col4 {\n",
       "            background-color:  rgba(36, 170, 130, 0.6);\n",
       "        }    #T_6548c57a_fb89_11e7_9302_94de80a9d52frow6_col3 {\n",
       "            background-color:  rgba(91, 200, 98, 0.6);\n",
       "        }    #T_6548c57a_fb89_11e7_9302_94de80a9d52frow6_col4 {\n",
       "            background-color:  rgba(35, 169, 130, 0.6);\n",
       "        }    #T_6548c57a_fb89_11e7_9302_94de80a9d52frow7_col3 {\n",
       "            background-color:  rgba(53, 183, 120, 0.6);\n",
       "        }    #T_6548c57a_fb89_11e7_9302_94de80a9d52frow7_col4 {\n",
       "            background-color:  rgba(32, 165, 133, 0.6);\n",
       "        }    #T_6548c57a_fb89_11e7_9302_94de80a9d52frow8_col3 {\n",
       "            background-color:  rgba(61, 187, 116, 0.6);\n",
       "        }    #T_6548c57a_fb89_11e7_9302_94de80a9d52frow8_col4 {\n",
       "            background-color:  rgba(30, 153, 138, 0.6);\n",
       "        }    #T_6548c57a_fb89_11e7_9302_94de80a9d52frow9_col3 {\n",
       "            background-color:  rgba(89, 199, 100, 0.6);\n",
       "        }    #T_6548c57a_fb89_11e7_9302_94de80a9d52frow9_col4 {\n",
       "            background-color:  rgba(33, 142, 140, 0.6);\n",
       "        }    #T_6548c57a_fb89_11e7_9302_94de80a9d52frow10_col3 {\n",
       "            background-color:  rgba(41, 175, 127, 0.6);\n",
       "        }    #T_6548c57a_fb89_11e7_9302_94de80a9d52frow10_col4 {\n",
       "            background-color:  rgba(39, 126, 142, 0.6);\n",
       "        }</style>  \n",
       "<table id=\"T_6548c57a_fb89_11e7_9302_94de80a9d52f\" > \n",
       "<thead>    <tr> \n",
       "        <th class=\"blank level0\" ></th> \n",
       "        <th class=\"col_heading level0 col0\" >id</th> \n",
       "        <th class=\"col_heading level0 col1\" >name</th> \n",
       "        <th class=\"col_heading level0 col2\" >n_attempts</th> \n",
       "        <th class=\"col_heading level0 col3\" >success</th> \n",
       "        <th class=\"col_heading level0 col4\" >time</th> \n",
       "    </tr></thead> \n",
       "<tbody>    <tr> \n",
       "        <th id=\"T_6548c57a_fb89_11e7_9302_94de80a9d52flevel0_row0\" class=\"row_heading level0 row0\" >9</th> \n",
       "        <td id=\"T_6548c57a_fb89_11e7_9302_94de80a9d52frow0_col0\" class=\"data row0 col0\" >71</td> \n",
       "        <td id=\"T_6548c57a_fb89_11e7_9302_94de80a9d52frow0_col1\" class=\"data row0 col1\" >big-left-turn</td> \n",
       "        <td id=\"T_6548c57a_fb89_11e7_9302_94de80a9d52frow0_col2\" class=\"data row0 col2\" >9</td> \n",
       "        <td id=\"T_6548c57a_fb89_11e7_9302_94de80a9d52frow0_col3\" class=\"data row0 col3\" >100%</td> \n",
       "        <td id=\"T_6548c57a_fb89_11e7_9302_94de80a9d52frow0_col4\" class=\"data row0 col4\" >45s</td> \n",
       "    </tr>    <tr> \n",
       "        <th id=\"T_6548c57a_fb89_11e7_9302_94de80a9d52flevel0_row1\" class=\"row_heading level0 row1\" >8</th> \n",
       "        <td id=\"T_6548c57a_fb89_11e7_9302_94de80a9d52frow1_col0\" class=\"data row1 col0\" >70</td> \n",
       "        <td id=\"T_6548c57a_fb89_11e7_9302_94de80a9d52frow1_col1\" class=\"data row1 col1\" >big-right-turn</td> \n",
       "        <td id=\"T_6548c57a_fb89_11e7_9302_94de80a9d52frow1_col2\" class=\"data row1 col2\" >11</td> \n",
       "        <td id=\"T_6548c57a_fb89_11e7_9302_94de80a9d52frow1_col3\" class=\"data row1 col3\" >100%</td> \n",
       "        <td id=\"T_6548c57a_fb89_11e7_9302_94de80a9d52frow1_col4\" class=\"data row1 col4\" >55s</td> \n",
       "    </tr>    <tr> \n",
       "        <th id=\"T_6548c57a_fb89_11e7_9302_94de80a9d52flevel0_row2\" class=\"row_heading level0 row2\" >0</th> \n",
       "        <td id=\"T_6548c57a_fb89_11e7_9302_94de80a9d52frow2_col0\" class=\"data row2 col0\" >11</td> \n",
       "        <td id=\"T_6548c57a_fb89_11e7_9302_94de80a9d52frow2_col1\" class=\"data row2 col1\" >ladder</td> \n",
       "        <td id=\"T_6548c57a_fb89_11e7_9302_94de80a9d52frow2_col2\" class=\"data row2 col2\" >48</td> \n",
       "        <td id=\"T_6548c57a_fb89_11e7_9302_94de80a9d52frow2_col3\" class=\"data row2 col3\" >96%</td> \n",
       "        <td id=\"T_6548c57a_fb89_11e7_9302_94de80a9d52frow2_col4\" class=\"data row2 col4\" >64s</td> \n",
       "    </tr>    <tr> \n",
       "        <th id=\"T_6548c57a_fb89_11e7_9302_94de80a9d52flevel0_row3\" class=\"row_heading level0 row3\" >3</th> \n",
       "        <td id=\"T_6548c57a_fb89_11e7_9302_94de80a9d52frow3_col0\" class=\"data row3 col0\" >1</td> \n",
       "        <td id=\"T_6548c57a_fb89_11e7_9302_94de80a9d52frow3_col1\" class=\"data row3 col1\" >diamonds-in-meteoroid-cloud</td> \n",
       "        <td id=\"T_6548c57a_fb89_11e7_9302_94de80a9d52frow3_col2\" class=\"data row3 col2\" >39</td> \n",
       "        <td id=\"T_6548c57a_fb89_11e7_9302_94de80a9d52frow3_col3\" class=\"data row3 col3\" >90%</td> \n",
       "        <td id=\"T_6548c57a_fb89_11e7_9302_94de80a9d52frow3_col4\" class=\"data row3 col4\" >84s</td> \n",
       "    </tr>    <tr> \n",
       "        <th id=\"T_6548c57a_fb89_11e7_9302_94de80a9d52flevel0_row4\" class=\"row_heading level0 row4\" >10</th> \n",
       "        <td id=\"T_6548c57a_fb89_11e7_9302_94de80a9d52frow4_col0\" class=\"data row4 col0\" >76</td> \n",
       "        <td id=\"T_6548c57a_fb89_11e7_9302_94de80a9d52frow4_col1\" class=\"data row4 col1\" >blocked-wormhole</td> \n",
       "        <td id=\"T_6548c57a_fb89_11e7_9302_94de80a9d52frow4_col2\" class=\"data row4 col2\" >10</td> \n",
       "        <td id=\"T_6548c57a_fb89_11e7_9302_94de80a9d52frow4_col3\" class=\"data row4 col3\" >90%</td> \n",
       "        <td id=\"T_6548c57a_fb89_11e7_9302_94de80a9d52frow4_col4\" class=\"data row4 col4\" >90s</td> \n",
       "    </tr>    <tr> \n",
       "        <th id=\"T_6548c57a_fb89_11e7_9302_94de80a9d52flevel0_row5\" class=\"row_heading level0 row5\" >1</th> \n",
       "        <td id=\"T_6548c57a_fb89_11e7_9302_94de80a9d52frow5_col0\" class=\"data row5 col0\" >13</td> \n",
       "        <td id=\"T_6548c57a_fb89_11e7_9302_94de80a9d52frow5_col1\" class=\"data row5 col1\" >n</td> \n",
       "        <td id=\"T_6548c57a_fb89_11e7_9302_94de80a9d52frow5_col2\" class=\"data row5 col2\" >48</td> \n",
       "        <td id=\"T_6548c57a_fb89_11e7_9302_94de80a9d52frow5_col3\" class=\"data row5 col3\" >81%</td> \n",
       "        <td id=\"T_6548c57a_fb89_11e7_9302_94de80a9d52frow5_col4\" class=\"data row5 col4\" >116s</td> \n",
       "    </tr>    <tr> \n",
       "        <th id=\"T_6548c57a_fb89_11e7_9302_94de80a9d52flevel0_row6\" class=\"row_heading level0 row6\" >7</th> \n",
       "        <td id=\"T_6548c57a_fb89_11e7_9302_94de80a9d52frow6_col0\" class=\"data row6 col0\" >84</td> \n",
       "        <td id=\"T_6548c57a_fb89_11e7_9302_94de80a9d52frow6_col1\" class=\"data row6 col1\" >triangle</td> \n",
       "        <td id=\"T_6548c57a_fb89_11e7_9302_94de80a9d52frow6_col2\" class=\"data row6 col2\" >8</td> \n",
       "        <td id=\"T_6548c57a_fb89_11e7_9302_94de80a9d52frow6_col3\" class=\"data row6 col3\" >75%</td> \n",
       "        <td id=\"T_6548c57a_fb89_11e7_9302_94de80a9d52frow6_col4\" class=\"data row6 col4\" >118s</td> \n",
       "    </tr>    <tr> \n",
       "        <th id=\"T_6548c57a_fb89_11e7_9302_94de80a9d52flevel0_row7\" class=\"row_heading level0 row7\" >4</th> \n",
       "        <td id=\"T_6548c57a_fb89_11e7_9302_94de80a9d52frow7_col0\" class=\"data row7 col0\" >46</td> \n",
       "        <td id=\"T_6548c57a_fb89_11e7_9302_94de80a9d52frow7_col1\" class=\"data row7 col1\" >find-the-path</td> \n",
       "        <td id=\"T_6548c57a_fb89_11e7_9302_94de80a9d52frow7_col2\" class=\"data row7 col2\" >45</td> \n",
       "        <td id=\"T_6548c57a_fb89_11e7_9302_94de80a9d52frow7_col3\" class=\"data row7 col3\" >67%</td> \n",
       "        <td id=\"T_6548c57a_fb89_11e7_9302_94de80a9d52frow7_col4\" class=\"data row7 col4\" >123s</td> \n",
       "    </tr>    <tr> \n",
       "        <th id=\"T_6548c57a_fb89_11e7_9302_94de80a9d52flevel0_row8\" class=\"row_heading level0 row8\" >5</th> \n",
       "        <td id=\"T_6548c57a_fb89_11e7_9302_94de80a9d52frow8_col0\" class=\"data row8 col0\" >57</td> \n",
       "        <td id=\"T_6548c57a_fb89_11e7_9302_94de80a9d52frow8_col1\" class=\"data row8 col1\" >stairs</td> \n",
       "        <td id=\"T_6548c57a_fb89_11e7_9302_94de80a9d52frow8_col2\" class=\"data row8 col2\" >45</td> \n",
       "        <td id=\"T_6548c57a_fb89_11e7_9302_94de80a9d52frow8_col3\" class=\"data row8 col3\" >69%</td> \n",
       "        <td id=\"T_6548c57a_fb89_11e7_9302_94de80a9d52frow8_col4\" class=\"data row8 col4\" >137s</td> \n",
       "    </tr>    <tr> \n",
       "        <th id=\"T_6548c57a_fb89_11e7_9302_94de80a9d52flevel0_row9\" class=\"row_heading level0 row9\" >2</th> \n",
       "        <td id=\"T_6548c57a_fb89_11e7_9302_94de80a9d52frow9_col0\" class=\"data row9 col0\" >21</td> \n",
       "        <td id=\"T_6548c57a_fb89_11e7_9302_94de80a9d52frow9_col1\" class=\"data row9 col1\" >steal-the-nose</td> \n",
       "        <td id=\"T_6548c57a_fb89_11e7_9302_94de80a9d52frow9_col2\" class=\"data row9 col2\" >55</td> \n",
       "        <td id=\"T_6548c57a_fb89_11e7_9302_94de80a9d52frow9_col3\" class=\"data row9 col3\" >75%</td> \n",
       "        <td id=\"T_6548c57a_fb89_11e7_9302_94de80a9d52frow9_col4\" class=\"data row9 col4\" >151s</td> \n",
       "    </tr>    <tr> \n",
       "        <th id=\"T_6548c57a_fb89_11e7_9302_94de80a9d52flevel0_row10\" class=\"row_heading level0 row10\" >6</th> \n",
       "        <td id=\"T_6548c57a_fb89_11e7_9302_94de80a9d52frow10_col0\" class=\"data row10 col0\" >18</td> \n",
       "        <td id=\"T_6548c57a_fb89_11e7_9302_94de80a9d52frow10_col1\" class=\"data row10 col1\" >clean-your-path</td> \n",
       "        <td id=\"T_6548c57a_fb89_11e7_9302_94de80a9d52frow10_col2\" class=\"data row10 col2\" >41</td> \n",
       "        <td id=\"T_6548c57a_fb89_11e7_9302_94de80a9d52frow10_col3\" class=\"data row10 col3\" >63%</td> \n",
       "        <td id=\"T_6548c57a_fb89_11e7_9302_94de80a9d52frow10_col4\" class=\"data row10 col4\" >171s</td> \n",
       "    </tr></tbody> \n",
       "</table> "
      ],
      "text/plain": [
       "<pandas.io.formats.style.Styler at 0x7fb04cb67080>"
      ]
     },
     "metadata": {},
     "output_type": "display_data"
    },
    {
     "data": {
      "text/plain": [
       "<matplotlib.axes._subplots.AxesSubplot at 0x7fb05034a0b8>"
      ]
     },
     "metadata": {},
     "output_type": "display_data"
    },
    {
     "data": {
      "image/png": "[encoded data removed]",
      "text/plain": [
       "<matplotlib.figure.Figure at 0x7fb04cc3f1d0>"
      ]
     },
     "metadata": {},
     "output_type": "display_data"
    },
    {
     "data": {
      "text/plain": [
       "<matplotlib.axes._subplots.AxesSubplot at 0x7fb04b0eeac8>"
      ]
     },
     "metadata": {},
     "output_type": "display_data"
    },
    {
     "data": {
      "image/png": "[encoded data removed]",
      "text/plain": [
       "<matplotlib.figure.Figure at 0x7fb04c9bf5c0>"
      ]
     },
     "metadata": {},
     "output_type": "display_data"
    },
    {
     "data": {
      "text/markdown": [
       "-----"
      ],
      "text/plain": [
       "<IPython.core.display.Markdown object>"
      ]
     },
     "metadata": {},
     "output_type": "display_data"
    },
    {
     "data": {
      "text/markdown": [
       "# while"
      ],
      "text/plain": [
       "<IPython.core.display.Markdown object>"
      ]
     },
     "metadata": {},
     "output_type": "display_data"
    },
    {
     "data": {
      "text/html": [
       "<style  type=\"text/css\" >\n",
       "    #T_6548c57b_fb89_11e7_9302_94de80a9d52f tr {\n",
       "          background-color: white;\n",
       "    }    #T_6548c57b_fb89_11e7_9302_94de80a9d52f .row_heading, .blank {\n",
       "          display: none;;\n",
       "    }    #T_6548c57b_fb89_11e7_9302_94de80a9d52frow0_col3 {\n",
       "            background-color:  rgba(191, 223, 36, 0.6);\n",
       "        }    #T_6548c57b_fb89_11e7_9302_94de80a9d52frow0_col4 {\n",
       "            background-color:  rgba(129, 211, 76, 0.6);\n",
       "        }    #T_6548c57b_fb89_11e7_9302_94de80a9d52frow1_col3 {\n",
       "            background-color:  rgba(253, 231, 36, 0.6);\n",
       "        }    #T_6548c57b_fb89_11e7_9302_94de80a9d52frow1_col4 {\n",
       "            background-color:  rgba(119, 208, 82, 0.6);\n",
       "        }    #T_6548c57b_fb89_11e7_9302_94de80a9d52frow2_col3 {\n",
       "            background-color:  rgba(186, 222, 39, 0.6);\n",
       "        }    #T_6548c57b_fb89_11e7_9302_94de80a9d52frow2_col4 {\n",
       "            background-color:  rgba(116, 208, 84, 0.6);\n",
       "        }    #T_6548c57b_fb89_11e7_9302_94de80a9d52frow3_col3 {\n",
       "            background-color:  rgba(105, 204, 91, 0.6);\n",
       "        }    #T_6548c57b_fb89_11e7_9302_94de80a9d52frow3_col4 {\n",
       "            background-color:  rgba(94, 201, 97, 0.6);\n",
       "        }    #T_6548c57b_fb89_11e7_9302_94de80a9d52frow4_col3 {\n",
       "            background-color:  rgba(69, 191, 111, 0.6);\n",
       "        }    #T_6548c57b_fb89_11e7_9302_94de80a9d52frow4_col4 {\n",
       "            background-color:  rgba(85, 198, 102, 0.6);\n",
       "        }    #T_6548c57b_fb89_11e7_9302_94de80a9d52frow5_col3 {\n",
       "            background-color:  rgba(253, 231, 36, 0.6);\n",
       "        }    #T_6548c57b_fb89_11e7_9302_94de80a9d52frow5_col4 {\n",
       "            background-color:  rgba(41, 175, 127, 0.6);\n",
       "        }    #T_6548c57b_fb89_11e7_9302_94de80a9d52frow6_col3 {\n",
       "            background-color:  rgba(69, 191, 111, 0.6);\n",
       "        }    #T_6548c57b_fb89_11e7_9302_94de80a9d52frow6_col4 {\n",
       "            background-color:  rgba(37, 171, 129, 0.6);\n",
       "        }</style>  \n",
       "<table id=\"T_6548c57b_fb89_11e7_9302_94de80a9d52f\" > \n",
       "<thead>    <tr> \n",
       "        <th class=\"blank level0\" ></th> \n",
       "        <th class=\"col_heading level0 col0\" >id</th> \n",
       "        <th class=\"col_heading level0 col1\" >name</th> \n",
       "        <th class=\"col_heading level0 col2\" >n_attempts</th> \n",
       "        <th class=\"col_heading level0 col3\" >success</th> \n",
       "        <th class=\"col_heading level0 col4\" >time</th> \n",
       "    </tr></thead> \n",
       "<tbody>    <tr> \n",
       "        <th id=\"T_6548c57b_fb89_11e7_9302_94de80a9d52flevel0_row0\" class=\"row_heading level0 row0\" >4</th> \n",
       "        <td id=\"T_6548c57b_fb89_11e7_9302_94de80a9d52frow0_col0\" class=\"data row0 col0\" >53</td> \n",
       "        <td id=\"T_6548c57b_fb89_11e7_9302_94de80a9d52frow0_col1\" class=\"data row0 col1\" >direct-flight-ahead</td> \n",
       "        <td id=\"T_6548c57b_fb89_11e7_9302_94de80a9d52frow0_col2\" class=\"data row0 col2\" >22</td> \n",
       "        <td id=\"T_6548c57b_fb89_11e7_9302_94de80a9d52frow0_col3\" class=\"data row0 col3\" >91%</td> \n",
       "        <td id=\"T_6548c57b_fb89_11e7_9302_94de80a9d52frow0_col4\" class=\"data row0 col4\" >56s</td> \n",
       "    </tr>    <tr> \n",
       "        <th id=\"T_6548c57b_fb89_11e7_9302_94de80a9d52flevel0_row1\" class=\"row_heading level0 row1\" >5</th> \n",
       "        <td id=\"T_6548c57b_fb89_11e7_9302_94de80a9d52frow1_col0\" class=\"data row1 col0\" >73</td> \n",
       "        <td id=\"T_6548c57b_fb89_11e7_9302_94de80a9d52frow1_col1\" class=\"data row1 col1\" >stop-on-red</td> \n",
       "        <td id=\"T_6548c57b_fb89_11e7_9302_94de80a9d52frow1_col2\" class=\"data row1 col2\" >8</td> \n",
       "        <td id=\"T_6548c57b_fb89_11e7_9302_94de80a9d52frow1_col3\" class=\"data row1 col3\" >100%</td> \n",
       "        <td id=\"T_6548c57b_fb89_11e7_9302_94de80a9d52frow1_col4\" class=\"data row1 col4\" >61s</td> \n",
       "    </tr>    <tr> \n",
       "        <th id=\"T_6548c57b_fb89_11e7_9302_94de80a9d52flevel0_row2\" class=\"row_heading level0 row2\" >3</th> \n",
       "        <td id=\"T_6548c57b_fb89_11e7_9302_94de80a9d52frow2_col0\" class=\"data row2 col0\" >41</td> \n",
       "        <td id=\"T_6548c57b_fb89_11e7_9302_94de80a9d52frow2_col1\" class=\"data row2 col1\" >yellow-hint</td> \n",
       "        <td id=\"T_6548c57b_fb89_11e7_9302_94de80a9d52frow2_col2\" class=\"data row2 col2\" >30</td> \n",
       "        <td id=\"T_6548c57b_fb89_11e7_9302_94de80a9d52frow2_col3\" class=\"data row2 col3\" >90%</td> \n",
       "        <td id=\"T_6548c57b_fb89_11e7_9302_94de80a9d52frow2_col4\" class=\"data row2 col4\" >62s</td> \n",
       "    </tr>    <tr> \n",
       "        <th id=\"T_6548c57b_fb89_11e7_9302_94de80a9d52flevel0_row3\" class=\"row_heading level0 row3\" >0</th> \n",
       "        <td id=\"T_6548c57b_fb89_11e7_9302_94de80a9d52frow3_col0\" class=\"data row3 col0\" >3</td> \n",
       "        <td id=\"T_6548c57b_fb89_11e7_9302_94de80a9d52frow3_col1\" class=\"data row3 col1\" >zig-zag</td> \n",
       "        <td id=\"T_6548c57b_fb89_11e7_9302_94de80a9d52frow3_col2\" class=\"data row3 col2\" >31</td> \n",
       "        <td id=\"T_6548c57b_fb89_11e7_9302_94de80a9d52frow3_col3\" class=\"data row3 col3\" >77%</td> \n",
       "        <td id=\"T_6548c57b_fb89_11e7_9302_94de80a9d52frow3_col4\" class=\"data row3 col4\" >74s</td> \n",
       "    </tr>    <tr> \n",
       "        <th id=\"T_6548c57b_fb89_11e7_9302_94de80a9d52flevel0_row4\" class=\"row_heading level0 row4\" >1</th> \n",
       "        <td id=\"T_6548c57b_fb89_11e7_9302_94de80a9d52frow4_col0\" class=\"data row4 col0\" >17</td> \n",
       "        <td id=\"T_6548c57b_fb89_11e7_9302_94de80a9d52frow4_col1\" class=\"data row4 col1\" >yellow-is-not-red</td> \n",
       "        <td id=\"T_6548c57b_fb89_11e7_9302_94de80a9d52frow4_col2\" class=\"data row4 col2\" >24</td> \n",
       "        <td id=\"T_6548c57b_fb89_11e7_9302_94de80a9d52frow4_col3\" class=\"data row4 col3\" >71%</td> \n",
       "        <td id=\"T_6548c57b_fb89_11e7_9302_94de80a9d52frow4_col4\" class=\"data row4 col4\" >78s</td> \n",
       "    </tr>    <tr> \n",
       "        <th id=\"T_6548c57b_fb89_11e7_9302_94de80a9d52flevel0_row5\" class=\"row_heading level0 row5\" >6</th> \n",
       "        <td id=\"T_6548c57b_fb89_11e7_9302_94de80a9d52frow5_col0\" class=\"data row5 col0\" >69</td> \n",
       "        <td id=\"T_6548c57b_fb89_11e7_9302_94de80a9d52frow5_col1\" class=\"data row5 col1\" >diamond-in-house</td> \n",
       "        <td id=\"T_6548c57b_fb89_11e7_9302_94de80a9d52frow5_col2\" class=\"data row5 col2\" >10</td> \n",
       "        <td id=\"T_6548c57b_fb89_11e7_9302_94de80a9d52frow5_col3\" class=\"data row5 col3\" >100%</td> \n",
       "        <td id=\"T_6548c57b_fb89_11e7_9302_94de80a9d52frow5_col4\" class=\"data row5 col4\" >110s</td> \n",
       "    </tr>    <tr> \n",
       "        <th id=\"T_6548c57b_fb89_11e7_9302_94de80a9d52flevel0_row6\" class=\"row_heading level0 row6\" >2</th> \n",
       "        <td id=\"T_6548c57b_fb89_11e7_9302_94de80a9d52frow6_col0\" class=\"data row6 col0\" >38</td> \n",
       "        <td id=\"T_6548c57b_fb89_11e7_9302_94de80a9d52frow6_col1\" class=\"data row6 col1\" >direction-change</td> \n",
       "        <td id=\"T_6548c57b_fb89_11e7_9302_94de80a9d52frow6_col2\" class=\"data row6 col2\" >34</td> \n",
       "        <td id=\"T_6548c57b_fb89_11e7_9302_94de80a9d52frow6_col3\" class=\"data row6 col3\" >71%</td> \n",
       "        <td id=\"T_6548c57b_fb89_11e7_9302_94de80a9d52frow6_col4\" class=\"data row6 col4\" >114s</td> \n",
       "    </tr></tbody> \n",
       "</table> "
      ],
      "text/plain": [
       "<pandas.io.formats.style.Styler at 0x7fb0505932b0>"
      ]
     },
     "metadata": {},
     "output_type": "display_data"
    },
    {
     "data": {
      "text/plain": [
       "<matplotlib.axes._subplots.AxesSubplot at 0x7fb04b26fbe0>"
      ]
     },
     "metadata": {},
     "output_type": "display_data"
    },
    {
     "data": {
      "image/png": "[encoded data removed]",
      "text/plain": [
       "<matplotlib.figure.Figure at 0x7fb0503be400>"
      ]
     },
     "metadata": {},
     "output_type": "display_data"
    },
    {
     "data": {
      "text/plain": [
       "<matplotlib.axes._subplots.AxesSubplot at 0x7fb04cb67080>"
      ]
     },
     "metadata": {},
     "output_type": "display_data"
    },
    {
     "data": {
      "image/png": "[encoded data removed]",
      "text/plain": [
       "<matplotlib.figure.Figure at 0x7fb04b287978>"
      ]
     },
     "metadata": {},
     "output_type": "display_data"
    },
    {
     "data": {
      "text/markdown": [
       "-----"
      ],
      "text/plain": [
       "<IPython.core.display.Markdown object>"
      ]
     },
     "metadata": {},
     "output_type": "display_data"
    },
    {
     "data": {
      "text/markdown": [
       "# loops"
      ],
      "text/plain": [
       "<IPython.core.display.Markdown object>"
      ]
     },
     "metadata": {},
     "output_type": "display_data"
    },
    {
     "data": {
      "text/html": [
       "<style  type=\"text/css\" >\n",
       "    #T_6548c57c_fb89_11e7_9302_94de80a9d52f tr {\n",
       "          background-color: white;\n",
       "    }    #T_6548c57c_fb89_11e7_9302_94de80a9d52f .row_heading, .blank {\n",
       "          display: none;;\n",
       "    }    #T_6548c57c_fb89_11e7_9302_94de80a9d52frow0_col3 {\n",
       "            background-color:  rgba(178, 221, 44, 0.6);\n",
       "        }    #T_6548c57c_fb89_11e7_9302_94de80a9d52frow0_col4 {\n",
       "            background-color:  rgba(139, 213, 70, 0.6);\n",
       "        }    #T_6548c57c_fb89_11e7_9302_94de80a9d52frow1_col3 {\n",
       "            background-color:  rgba(253, 231, 36, 0.6);\n",
       "        }    #T_6548c57c_fb89_11e7_9302_94de80a9d52frow1_col4 {\n",
       "            background-color:  rgba(121, 209, 81, 0.6);\n",
       "        }    #T_6548c57c_fb89_11e7_9302_94de80a9d52frow2_col3 {\n",
       "            background-color:  rgba(149, 215, 63, 0.6);\n",
       "        }    #T_6548c57c_fb89_11e7_9302_94de80a9d52frow2_col4 {\n",
       "            background-color:  rgba(68, 190, 112, 0.6);\n",
       "        }    #T_6548c57c_fb89_11e7_9302_94de80a9d52frow3_col3 {\n",
       "            background-color:  rgba(253, 231, 36, 0.6);\n",
       "        }    #T_6548c57c_fb89_11e7_9302_94de80a9d52frow3_col4 {\n",
       "            background-color:  rgba(61, 187, 116, 0.6);\n",
       "        }    #T_6548c57c_fb89_11e7_9302_94de80a9d52frow4_col3 {\n",
       "            background-color:  rgba(34, 167, 132, 0.6);\n",
       "        }    #T_6548c57c_fb89_11e7_9302_94de80a9d52frow4_col4 {\n",
       "            background-color:  rgba(51, 182, 121, 0.6);\n",
       "        }    #T_6548c57c_fb89_11e7_9302_94de80a9d52frow5_col3 {\n",
       "            background-color:  rgba(41, 175, 127, 0.6);\n",
       "        }    #T_6548c57c_fb89_11e7_9302_94de80a9d52frow5_col4 {\n",
       "            background-color:  rgba(44, 177, 125, 0.6);\n",
       "        }    #T_6548c57c_fb89_11e7_9302_94de80a9d52frow6_col3 {\n",
       "            background-color:  rgba(157, 217, 58, 0.6);\n",
       "        }    #T_6548c57c_fb89_11e7_9302_94de80a9d52frow6_col4 {\n",
       "            background-color:  rgba(30, 152, 138, 0.6);\n",
       "        }    #T_6548c57c_fb89_11e7_9302_94de80a9d52frow7_col3 {\n",
       "            background-color:  rgba(107, 205, 89, 0.6);\n",
       "        }    #T_6548c57c_fb89_11e7_9302_94de80a9d52frow7_col4 {\n",
       "            background-color:  rgba(34, 139, 141, 0.6);\n",
       "        }    #T_6548c57c_fb89_11e7_9302_94de80a9d52frow8_col3 {\n",
       "            background-color:  rgba(66, 190, 113, 0.6);\n",
       "        }    #T_6548c57c_fb89_11e7_9302_94de80a9d52frow8_col4 {\n",
       "            background-color:  rgba(44, 112, 142, 0.6);\n",
       "        }    #T_6548c57c_fb89_11e7_9302_94de80a9d52frow9_col3 {\n",
       "            background-color:  rgba(37, 130, 142, 0.6);\n",
       "        }    #T_6548c57c_fb89_11e7_9302_94de80a9d52frow9_col4 {\n",
       "            background-color:  rgba(65, 66, 134, 0.6);\n",
       "        }    #T_6548c57c_fb89_11e7_9302_94de80a9d52frow10_col3 {\n",
       "            background-color:  rgba(178, 221, 44, 0.6);\n",
       "        }    #T_6548c57c_fb89_11e7_9302_94de80a9d52frow10_col4 {\n",
       "            background-color:  rgba(68, 1, 84, 0.6);\n",
       "        }</style>  \n",
       "<table id=\"T_6548c57c_fb89_11e7_9302_94de80a9d52f\" > \n",
       "<thead>    <tr> \n",
       "        <th class=\"blank level0\" ></th> \n",
       "        <th class=\"col_heading level0 col0\" >id</th> \n",
       "        <th class=\"col_heading level0 col1\" >name</th> \n",
       "        <th class=\"col_heading level0 col2\" >n_attempts</th> \n",
       "        <th class=\"col_heading level0 col3\" >success</th> \n",
       "        <th class=\"col_heading level0 col4\" >time</th> \n",
       "    </tr></thead> \n",
       "<tbody>    <tr> \n",
       "        <th id=\"T_6548c57c_fb89_11e7_9302_94de80a9d52flevel0_row0\" class=\"row_heading level0 row0\" >3</th> \n",
       "        <td id=\"T_6548c57c_fb89_11e7_9302_94de80a9d52frow0_col0\" class=\"data row0 col0\" >56</td> \n",
       "        <td id=\"T_6548c57c_fb89_11e7_9302_94de80a9d52frow0_col1\" class=\"data row0 col1\" >diamond-cross</td> \n",
       "        <td id=\"T_6548c57c_fb89_11e7_9302_94de80a9d52frow0_col2\" class=\"data row0 col2\" >18</td> \n",
       "        <td id=\"T_6548c57c_fb89_11e7_9302_94de80a9d52frow0_col3\" class=\"data row0 col3\" >89%</td> \n",
       "        <td id=\"T_6548c57c_fb89_11e7_9302_94de80a9d52frow0_col4\" class=\"data row0 col4\" >52s</td> \n",
       "    </tr>    <tr> \n",
       "        <th id=\"T_6548c57c_fb89_11e7_9302_94de80a9d52flevel0_row1\" class=\"row_heading level0 row1\" >8</th> \n",
       "        <td id=\"T_6548c57c_fb89_11e7_9302_94de80a9d52frow1_col0\" class=\"data row1 col0\" >68</td> \n",
       "        <td id=\"T_6548c57c_fb89_11e7_9302_94de80a9d52frow1_col1\" class=\"data row1 col1\" >stripes</td> \n",
       "        <td id=\"T_6548c57c_fb89_11e7_9302_94de80a9d52frow1_col2\" class=\"data row1 col2\" >6</td> \n",
       "        <td id=\"T_6548c57c_fb89_11e7_9302_94de80a9d52frow1_col3\" class=\"data row1 col3\" >100%</td> \n",
       "        <td id=\"T_6548c57c_fb89_11e7_9302_94de80a9d52frow1_col4\" class=\"data row1 col4\" >60s</td> \n",
       "    </tr>    <tr> \n",
       "        <th id=\"T_6548c57c_fb89_11e7_9302_94de80a9d52flevel0_row2\" class=\"row_heading level0 row2\" >1</th> \n",
       "        <td id=\"T_6548c57c_fb89_11e7_9302_94de80a9d52frow2_col0\" class=\"data row2 col0\" >50</td> \n",
       "        <td id=\"T_6548c57c_fb89_11e7_9302_94de80a9d52frow2_col1\" class=\"data row2 col1\" >double-bend</td> \n",
       "        <td id=\"T_6548c57c_fb89_11e7_9302_94de80a9d52frow2_col2\" class=\"data row2 col2\" >13</td> \n",
       "        <td id=\"T_6548c57c_fb89_11e7_9302_94de80a9d52frow2_col3\" class=\"data row2 col3\" >85%</td> \n",
       "        <td id=\"T_6548c57c_fb89_11e7_9302_94de80a9d52frow2_col4\" class=\"data row2 col4\" >89s</td> \n",
       "    </tr>    <tr> \n",
       "        <th id=\"T_6548c57c_fb89_11e7_9302_94de80a9d52flevel0_row3\" class=\"row_heading level0 row3\" >9</th> \n",
       "        <td id=\"T_6548c57c_fb89_11e7_9302_94de80a9d52frow3_col0\" class=\"data row3 col0\" >72</td> \n",
       "        <td id=\"T_6548c57c_fb89_11e7_9302_94de80a9d52frow3_col1\" class=\"data row3 col1\" >four-vs</td> \n",
       "        <td id=\"T_6548c57c_fb89_11e7_9302_94de80a9d52frow3_col2\" class=\"data row3 col2\" >4</td> \n",
       "        <td id=\"T_6548c57c_fb89_11e7_9302_94de80a9d52frow3_col3\" class=\"data row3 col3\" >100%</td> \n",
       "        <td id=\"T_6548c57c_fb89_11e7_9302_94de80a9d52frow3_col4\" class=\"data row3 col4\" >93s</td> \n",
       "    </tr>    <tr> \n",
       "        <th id=\"T_6548c57c_fb89_11e7_9302_94de80a9d52flevel0_row4\" class=\"row_heading level0 row4\" >4</th> \n",
       "        <td id=\"T_6548c57c_fb89_11e7_9302_94de80a9d52frow4_col0\" class=\"data row4 col0\" >55</td> \n",
       "        <td id=\"T_6548c57c_fb89_11e7_9302_94de80a9d52frow4_col1\" class=\"data row4 col1\" >color-slalom</td> \n",
       "        <td id=\"T_6548c57c_fb89_11e7_9302_94de80a9d52frow4_col2\" class=\"data row4 col2\" >10</td> \n",
       "        <td id=\"T_6548c57c_fb89_11e7_9302_94de80a9d52frow4_col3\" class=\"data row4 col3\" >60%</td> \n",
       "        <td id=\"T_6548c57c_fb89_11e7_9302_94de80a9d52frow4_col4\" class=\"data row4 col4\" >101s</td> \n",
       "    </tr>    <tr> \n",
       "        <th id=\"T_6548c57c_fb89_11e7_9302_94de80a9d52flevel0_row5\" class=\"row_heading level0 row5\" >0</th> \n",
       "        <td id=\"T_6548c57c_fb89_11e7_9302_94de80a9d52frow5_col0\" class=\"data row5 col0\" >37</td> \n",
       "        <td id=\"T_6548c57c_fb89_11e7_9302_94de80a9d52frow5_col1\" class=\"data row5 col1\" >big-slalom</td> \n",
       "        <td id=\"T_6548c57c_fb89_11e7_9302_94de80a9d52frow5_col2\" class=\"data row5 col2\" >19</td> \n",
       "        <td id=\"T_6548c57c_fb89_11e7_9302_94de80a9d52frow5_col3\" class=\"data row5 col3\" >63%</td> \n",
       "        <td id=\"T_6548c57c_fb89_11e7_9302_94de80a9d52frow5_col4\" class=\"data row5 col4\" >107s</td> \n",
       "    </tr>    <tr> \n",
       "        <th id=\"T_6548c57c_fb89_11e7_9302_94de80a9d52flevel0_row6\" class=\"row_heading level0 row6\" >7</th> \n",
       "        <td id=\"T_6548c57c_fb89_11e7_9302_94de80a9d52frow6_col0\" class=\"data row6 col0\" >63</td> \n",
       "        <td id=\"T_6548c57c_fb89_11e7_9302_94de80a9d52frow6_col1\" class=\"data row6 col1\" >rectangle</td> \n",
       "        <td id=\"T_6548c57c_fb89_11e7_9302_94de80a9d52frow6_col2\" class=\"data row6 col2\" >7</td> \n",
       "        <td id=\"T_6548c57c_fb89_11e7_9302_94de80a9d52frow6_col3\" class=\"data row6 col3\" >86%</td> \n",
       "        <td id=\"T_6548c57c_fb89_11e7_9302_94de80a9d52frow6_col4\" class=\"data row6 col4\" >140s</td> \n",
       "    </tr>    <tr> \n",
       "        <th id=\"T_6548c57c_fb89_11e7_9302_94de80a9d52flevel0_row7\" class=\"row_heading level0 row7\" >6</th> \n",
       "        <td id=\"T_6548c57c_fb89_11e7_9302_94de80a9d52frow7_col0\" class=\"data row7 col0\" >58</td> \n",
       "        <td id=\"T_6548c57c_fb89_11e7_9302_94de80a9d52frow7_col1\" class=\"data row7 col1\" >collect-diamonds</td> \n",
       "        <td id=\"T_6548c57c_fb89_11e7_9302_94de80a9d52frow7_col2\" class=\"data row7 col2\" >9</td> \n",
       "        <td id=\"T_6548c57c_fb89_11e7_9302_94de80a9d52frow7_col3\" class=\"data row7 col3\" >78%</td> \n",
       "        <td id=\"T_6548c57c_fb89_11e7_9302_94de80a9d52frow7_col4\" class=\"data row7 col4\" >155s</td> \n",
       "    </tr>    <tr> \n",
       "        <th id=\"T_6548c57c_fb89_11e7_9302_94de80a9d52flevel0_row8\" class=\"row_heading level0 row8\" >2</th> \n",
       "        <td id=\"T_6548c57c_fb89_11e7_9302_94de80a9d52frow8_col0\" class=\"data row8 col0\" >47</td> \n",
       "        <td id=\"T_6548c57c_fb89_11e7_9302_94de80a9d52frow8_col1\" class=\"data row8 col1\" >arrow</td> \n",
       "        <td id=\"T_6548c57c_fb89_11e7_9302_94de80a9d52frow8_col2\" class=\"data row8 col2\" >10</td> \n",
       "        <td id=\"T_6548c57c_fb89_11e7_9302_94de80a9d52frow8_col3\" class=\"data row8 col3\" >70%</td> \n",
       "        <td id=\"T_6548c57c_fb89_11e7_9302_94de80a9d52frow8_col4\" class=\"data row8 col4\" >188s</td> \n",
       "    </tr>    <tr> \n",
       "        <th id=\"T_6548c57c_fb89_11e7_9302_94de80a9d52flevel0_row9\" class=\"row_heading level0 row9\" >10</th> \n",
       "        <td id=\"T_6548c57c_fb89_11e7_9302_94de80a9d52frow9_col0\" class=\"data row9 col0\" >32</td> \n",
       "        <td id=\"T_6548c57c_fb89_11e7_9302_94de80a9d52frow9_col1\" class=\"data row9 col1\" >double-track</td> \n",
       "        <td id=\"T_6548c57c_fb89_11e7_9302_94de80a9d52frow9_col2\" class=\"data row9 col2\" >9</td> \n",
       "        <td id=\"T_6548c57c_fb89_11e7_9302_94de80a9d52frow9_col3\" class=\"data row9 col3\" >44%</td> \n",
       "        <td id=\"T_6548c57c_fb89_11e7_9302_94de80a9d52frow9_col4\" class=\"data row9 col4\" >241s</td> \n",
       "    </tr>    <tr> \n",
       "        <th id=\"T_6548c57c_fb89_11e7_9302_94de80a9d52flevel0_row10\" class=\"row_heading level0 row10\" >5</th> \n",
       "        <td id=\"T_6548c57c_fb89_11e7_9302_94de80a9d52frow10_col0\" class=\"data row10 col0\" >52</td> \n",
       "        <td id=\"T_6548c57c_fb89_11e7_9302_94de80a9d52frow10_col1\" class=\"data row10 col1\" >zig-zag-plus</td> \n",
       "        <td id=\"T_6548c57c_fb89_11e7_9302_94de80a9d52frow10_col2\" class=\"data row10 col2\" >9</td> \n",
       "        <td id=\"T_6548c57c_fb89_11e7_9302_94de80a9d52frow10_col3\" class=\"data row10 col3\" >89%</td> \n",
       "        <td id=\"T_6548c57c_fb89_11e7_9302_94de80a9d52frow10_col4\" class=\"data row10 col4\" >338s</td> \n",
       "    </tr></tbody> \n",
       "</table> "
      ],
      "text/plain": [
       "<pandas.io.formats.style.Styler at 0x7fb04f481d30>"
      ]
     },
     "metadata": {},
     "output_type": "display_data"
    },
    {
     "data": {
      "text/plain": [
       "<matplotlib.axes._subplots.AxesSubplot at 0x7fb04fb168d0>"
      ]
     },
     "metadata": {},
     "output_type": "display_data"
    },
    {
     "data": {
      "image/png": "[encoded data removed]",
      "text/plain": [
       "<matplotlib.figure.Figure at 0x7fb04fb195c0>"
      ]
     },
     "metadata": {},
     "output_type": "display_data"
    },
    {
     "data": {
      "text/plain": [
       "<matplotlib.axes._subplots.AxesSubplot at 0x7fb050614748>"
      ]
     },
     "metadata": {},
     "output_type": "display_data"
    },
    {
     "data": {
      "image/png": "[encoded data removed]",
      "text/plain": [
       "<matplotlib.figure.Figure at 0x7fb04f461898>"
      ]
     },
     "metadata": {},
     "output_type": "display_data"
    },
    {
     "data": {
      "text/markdown": [
       "-----"
      ],
      "text/plain": [
       "<IPython.core.display.Markdown object>"
      ]
     },
     "metadata": {},
     "output_type": "display_data"
    },
    {
     "data": {
      "text/markdown": [
       "# if"
      ],
      "text/plain": [
       "<IPython.core.display.Markdown object>"
      ]
     },
     "metadata": {},
     "output_type": "display_data"
    },
    {
     "data": {
      "text/html": [
       "<style  type=\"text/css\" >\n",
       "    #T_6548c57d_fb89_11e7_9302_94de80a9d52f tr {\n",
       "          background-color: white;\n",
       "    }    #T_6548c57d_fb89_11e7_9302_94de80a9d52f .row_heading, .blank {\n",
       "          display: none;;\n",
       "    }    #T_6548c57d_fb89_11e7_9302_94de80a9d52frow0_col3 {\n",
       "            background-color:  rgba(54, 90, 140, 0.6);\n",
       "        }    #T_6548c57d_fb89_11e7_9302_94de80a9d52frow0_col4 {\n",
       "            background-color:  rgba(42, 176, 126, 0.6);\n",
       "        }    #T_6548c57d_fb89_11e7_9302_94de80a9d52frow1_col3 {\n",
       "            background-color:  rgba(34, 167, 132, 0.6);\n",
       "        }    #T_6548c57d_fb89_11e7_9302_94de80a9d52frow1_col4 {\n",
       "            background-color:  rgba(37, 130, 142, 0.6);\n",
       "        }    #T_6548c57d_fb89_11e7_9302_94de80a9d52frow2_col3 {\n",
       "            background-color:  rgba(37, 130, 142, 0.6);\n",
       "        }    #T_6548c57d_fb89_11e7_9302_94de80a9d52frow2_col4 {\n",
       "            background-color:  rgba(48, 104, 141, 0.6);\n",
       "        }    #T_6548c57d_fb89_11e7_9302_94de80a9d52frow3_col3 {\n",
       "            background-color:  rgba(64, 67, 135, 0.6);\n",
       "        }    #T_6548c57d_fb89_11e7_9302_94de80a9d52frow3_col4 {\n",
       "            background-color:  rgba(69, 54, 129, 0.6);\n",
       "        }    #T_6548c57d_fb89_11e7_9302_94de80a9d52frow4_col3 {\n",
       "            background-color:  rgba(68, 57, 130, 0.6);\n",
       "        }    #T_6548c57d_fb89_11e7_9302_94de80a9d52frow4_col4 {\n",
       "            background-color:  rgba(71, 38, 118, 0.6);\n",
       "        }    #T_6548c57d_fb89_11e7_9302_94de80a9d52frow5_col3 {\n",
       "            background-color:  rgba(39, 126, 142, 0.6);\n",
       "        }    #T_6548c57d_fb89_11e7_9302_94de80a9d52frow5_col4 {\n",
       "            background-color:  rgba(68, 1, 84, 0.6);\n",
       "        }    #T_6548c57d_fb89_11e7_9302_94de80a9d52frow6_col3 {\n",
       "            background-color:  rgba(48, 103, 141, 0.6);\n",
       "        }    #T_6548c57d_fb89_11e7_9302_94de80a9d52frow6_col4 {\n",
       "            background-color:  rgba(68, 1, 84, 0.6);\n",
       "        }</style>  \n",
       "<table id=\"T_6548c57d_fb89_11e7_9302_94de80a9d52f\" > \n",
       "<thead>    <tr> \n",
       "        <th class=\"blank level0\" ></th> \n",
       "        <th class=\"col_heading level0 col0\" >id</th> \n",
       "        <th class=\"col_heading level0 col1\" >name</th> \n",
       "        <th class=\"col_heading level0 col2\" >n_attempts</th> \n",
       "        <th class=\"col_heading level0 col3\" >success</th> \n",
       "        <th class=\"col_heading level0 col4\" >time</th> \n",
       "    </tr></thead> \n",
       "<tbody>    <tr> \n",
       "        <th id=\"T_6548c57d_fb89_11e7_9302_94de80a9d52flevel0_row0\" class=\"row_heading level0 row0\" >3</th> \n",
       "        <td id=\"T_6548c57d_fb89_11e7_9302_94de80a9d52frow0_col0\" class=\"data row0 col0\" >60</td> \n",
       "        <td id=\"T_6548c57d_fb89_11e7_9302_94de80a9d52frow0_col1\" class=\"data row0 col1\" >red-shooting</td> \n",
       "        <td id=\"T_6548c57d_fb89_11e7_9302_94de80a9d52frow0_col2\" class=\"data row0 col2\" >7</td> \n",
       "        <td id=\"T_6548c57d_fb89_11e7_9302_94de80a9d52frow0_col3\" class=\"data row0 col3\" >29%</td> \n",
       "        <td id=\"T_6548c57d_fb89_11e7_9302_94de80a9d52frow0_col4\" class=\"data row0 col4\" >109s</td> \n",
       "    </tr>    <tr> \n",
       "        <th id=\"T_6548c57d_fb89_11e7_9302_94de80a9d52flevel0_row1\" class=\"row_heading level0 row1\" >4</th> \n",
       "        <td id=\"T_6548c57d_fb89_11e7_9302_94de80a9d52frow1_col0\" class=\"data row1 col0\" >34</td> \n",
       "        <td id=\"T_6548c57d_fb89_11e7_9302_94de80a9d52frow1_col1\" class=\"data row1 col1\" >follow-colors</td> \n",
       "        <td id=\"T_6548c57d_fb89_11e7_9302_94de80a9d52frow1_col2\" class=\"data row1 col2\" >5</td> \n",
       "        <td id=\"T_6548c57d_fb89_11e7_9302_94de80a9d52frow1_col3\" class=\"data row1 col3\" >60%</td> \n",
       "        <td id=\"T_6548c57d_fb89_11e7_9302_94de80a9d52frow1_col4\" class=\"data row1 col4\" >166s</td> \n",
       "    </tr>    <tr> \n",
       "        <th id=\"T_6548c57d_fb89_11e7_9302_94de80a9d52flevel0_row2\" class=\"row_heading level0 row2\" >0</th> \n",
       "        <td id=\"T_6548c57d_fb89_11e7_9302_94de80a9d52frow2_col0\" class=\"data row2 col0\" >5</td> \n",
       "        <td id=\"T_6548c57d_fb89_11e7_9302_94de80a9d52frow2_col1\" class=\"data row2 col1\" >diamonds-with-signals</td> \n",
       "        <td id=\"T_6548c57d_fb89_11e7_9302_94de80a9d52frow2_col2\" class=\"data row2 col2\" >9</td> \n",
       "        <td id=\"T_6548c57d_fb89_11e7_9302_94de80a9d52frow2_col3\" class=\"data row2 col3\" >44%</td> \n",
       "        <td id=\"T_6548c57d_fb89_11e7_9302_94de80a9d52frow2_col4\" class=\"data row2 col4\" >198s</td> \n",
       "    </tr>    <tr> \n",
       "        <th id=\"T_6548c57d_fb89_11e7_9302_94de80a9d52flevel0_row3\" class=\"row_heading level0 row3\" >6</th> \n",
       "        <td id=\"T_6548c57d_fb89_11e7_9302_94de80a9d52frow3_col0\" class=\"data row3 col0\" >81</td> \n",
       "        <td id=\"T_6548c57d_fb89_11e7_9302_94de80a9d52frow3_col1\" class=\"data row3 col1\" >belgian-flag</td> \n",
       "        <td id=\"T_6548c57d_fb89_11e7_9302_94de80a9d52frow3_col2\" class=\"data row3 col2\" >5</td> \n",
       "        <td id=\"T_6548c57d_fb89_11e7_9302_94de80a9d52frow3_col3\" class=\"data row3 col3\" >20%</td> \n",
       "        <td id=\"T_6548c57d_fb89_11e7_9302_94de80a9d52frow3_col4\" class=\"data row3 col4\" >252s</td> \n",
       "    </tr>    <tr> \n",
       "        <th id=\"T_6548c57d_fb89_11e7_9302_94de80a9d52flevel0_row4\" class=\"row_heading level0 row4\" >2</th> \n",
       "        <td id=\"T_6548c57d_fb89_11e7_9302_94de80a9d52frow4_col0\" class=\"data row4 col0\" >59</td> \n",
       "        <td id=\"T_6548c57d_fb89_11e7_9302_94de80a9d52frow4_col1\" class=\"data row4 col1\" >two-diamonds</td> \n",
       "        <td id=\"T_6548c57d_fb89_11e7_9302_94de80a9d52frow4_col2\" class=\"data row4 col2\" >6</td> \n",
       "        <td id=\"T_6548c57d_fb89_11e7_9302_94de80a9d52frow4_col3\" class=\"data row4 col3\" >17%</td> \n",
       "        <td id=\"T_6548c57d_fb89_11e7_9302_94de80a9d52frow4_col4\" class=\"data row4 col4\" >268s</td> \n",
       "    </tr>    <tr> \n",
       "        <th id=\"T_6548c57d_fb89_11e7_9302_94de80a9d52flevel0_row5\" class=\"row_heading level0 row5\" >1</th> \n",
       "        <td id=\"T_6548c57d_fb89_11e7_9302_94de80a9d52frow5_col0\" class=\"data row5 col0\" >27</td> \n",
       "        <td id=\"T_6548c57d_fb89_11e7_9302_94de80a9d52frow5_col1\" class=\"data row5 col1\" >on-yellow-to-left</td> \n",
       "        <td id=\"T_6548c57d_fb89_11e7_9302_94de80a9d52frow5_col2\" class=\"data row5 col2\" >7</td> \n",
       "        <td id=\"T_6548c57d_fb89_11e7_9302_94de80a9d52frow5_col3\" class=\"data row5 col3\" >43%</td> \n",
       "        <td id=\"T_6548c57d_fb89_11e7_9302_94de80a9d52frow5_col4\" class=\"data row5 col4\" >315s</td> \n",
       "    </tr>    <tr> \n",
       "        <th id=\"T_6548c57d_fb89_11e7_9302_94de80a9d52flevel0_row6\" class=\"row_heading level0 row6\" >5</th> \n",
       "        <td id=\"T_6548c57d_fb89_11e7_9302_94de80a9d52frow6_col0\" class=\"data row6 col0\" >78</td> \n",
       "        <td id=\"T_6548c57d_fb89_11e7_9302_94de80a9d52frow6_col1\" class=\"data row6 col1\" >yellow-squares</td> \n",
       "        <td id=\"T_6548c57d_fb89_11e7_9302_94de80a9d52frow6_col2\" class=\"data row6 col2\" >3</td> \n",
       "        <td id=\"T_6548c57d_fb89_11e7_9302_94de80a9d52frow6_col3\" class=\"data row6 col3\" >33%</td> \n",
       "        <td id=\"T_6548c57d_fb89_11e7_9302_94de80a9d52frow6_col4\" class=\"data row6 col4\" >342s</td> \n",
       "    </tr></tbody> \n",
       "</table> "
      ],
      "text/plain": [
       "<pandas.io.formats.style.Styler at 0x7fb050133198>"
      ]
     },
     "metadata": {},
     "output_type": "display_data"
    },
    {
     "data": {
      "text/plain": [
       "<matplotlib.axes._subplots.AxesSubplot at 0x7fb04fdee4e0>"
      ]
     },
     "metadata": {},
     "output_type": "display_data"
    },
    {
     "data": {
      "image/png": "[encoded data removed]",
      "text/plain": [
       "<matplotlib.figure.Figure at 0x7fb05013b0f0>"
      ]
     },
     "metadata": {},
     "output_type": "display_data"
    },
    {
     "data": {
      "text/plain": [
       "<matplotlib.axes._subplots.AxesSubplot at 0x7fb04fdd91d0>"
      ]
     },
     "metadata": {},
     "output_type": "display_data"
    },
    {
     "data": {
      "image/png": "[encoded data removed]",
      "text/plain": [
       "<matplotlib.figure.Figure at 0x7fb0501029b0>"
      ]
     },
     "metadata": {},
     "output_type": "display_data"
    },
    {
     "data": {
      "text/markdown": [
       "-----"
      ],
      "text/plain": [
       "<IPython.core.display.Markdown object>"
      ]
     },
     "metadata": {},
     "output_type": "display_data"
    },
    {
     "data": {
      "text/markdown": [
       "# comparing"
      ],
      "text/plain": [
       "<IPython.core.display.Markdown object>"
      ]
     },
     "metadata": {},
     "output_type": "display_data"
    },
    {
     "data": {
      "text/html": [
       "<style  type=\"text/css\" >\n",
       "    #T_6625a70e_fb89_11e7_9302_94de80a9d52f tr {\n",
       "          background-color: white;\n",
       "    }    #T_6625a70e_fb89_11e7_9302_94de80a9d52f .row_heading, .blank {\n",
       "          display: none;;\n",
       "    }    #T_6625a70e_fb89_11e7_9302_94de80a9d52frow0_col3 {\n",
       "            background-color:  rgba(48, 103, 141, 0.6);\n",
       "        }    #T_6625a70e_fb89_11e7_9302_94de80a9d52frow0_col4 {\n",
       "            background-color:  rgba(94, 201, 97, 0.6);\n",
       "        }    #T_6625a70e_fb89_11e7_9302_94de80a9d52frow1_col3 {\n",
       "            background-color:  rgba(32, 143, 140, 0.6);\n",
       "        }    #T_6625a70e_fb89_11e7_9302_94de80a9d52frow1_col4 {\n",
       "            background-color:  rgba(48, 180, 122, 0.6);\n",
       "        }    #T_6625a70e_fb89_11e7_9302_94de80a9d52frow2_col3 {\n",
       "            background-color:  rgba(253, 231, 36, 0.6);\n",
       "        }    #T_6625a70e_fb89_11e7_9302_94de80a9d52frow2_col4 {\n",
       "            background-color:  rgba(40, 174, 127, 0.6);\n",
       "        }    #T_6625a70e_fb89_11e7_9302_94de80a9d52frow3_col3 {\n",
       "            background-color:  rgba(253, 231, 36, 0.6);\n",
       "        }    #T_6625a70e_fb89_11e7_9302_94de80a9d52frow3_col4 {\n",
       "            background-color:  rgba(30, 155, 137, 0.6);\n",
       "        }    #T_6625a70e_fb89_11e7_9302_94de80a9d52frow4_col3 {\n",
       "            background-color:  rgba(32, 143, 140, 0.6);\n",
       "        }    #T_6625a70e_fb89_11e7_9302_94de80a9d52frow4_col4 {\n",
       "            background-color:  rgba(62, 73, 137, 0.6);\n",
       "        }    #T_6625a70e_fb89_11e7_9302_94de80a9d52frow5_col3 {\n",
       "            background-color:  rgba(34, 167, 132, 0.6);\n",
       "        }    #T_6625a70e_fb89_11e7_9302_94de80a9d52frow5_col4 {\n",
       "            background-color:  rgba(68, 1, 84, 0.6);\n",
       "        }    #T_6625a70e_fb89_11e7_9302_94de80a9d52frow6_col3 {\n",
       "            background-color:  rgba(68, 1, 84, 0.6);\n",
       "        }    #T_6625a70e_fb89_11e7_9302_94de80a9d52frow6_col4 {\n",
       "            background-color:  rgba(68, 1, 84, 0.6);\n",
       "        }    #T_6625a70e_fb89_11e7_9302_94de80a9d52frow7_col3 {\n",
       "            background-color:  rgba(30, 160, 135, 0.6);\n",
       "        }    #T_6625a70e_fb89_11e7_9302_94de80a9d52frow7_col4 {\n",
       "            background-color:  rgba(68, 1, 84, 0.6);\n",
       "        }    #T_6625a70e_fb89_11e7_9302_94de80a9d52frow8_col3 {\n",
       "            background-color:  rgba(253, 231, 36, 0.6);\n",
       "        }    #T_6625a70e_fb89_11e7_9302_94de80a9d52frow8_col4 {\n",
       "            background-color:  rgba(68, 1, 84, 0.6);\n",
       "        }</style>  \n",
       "<table id=\"T_6625a70e_fb89_11e7_9302_94de80a9d52f\" > \n",
       "<thead>    <tr> \n",
       "        <th class=\"blank level0\" ></th> \n",
       "        <th class=\"col_heading level0 col0\" >id</th> \n",
       "        <th class=\"col_heading level0 col1\" >name</th> \n",
       "        <th class=\"col_heading level0 col2\" >n_attempts</th> \n",
       "        <th class=\"col_heading level0 col3\" >success</th> \n",
       "        <th class=\"col_heading level0 col4\" >time</th> \n",
       "    </tr></thead> \n",
       "<tbody>    <tr> \n",
       "        <th id=\"T_6625a70e_fb89_11e7_9302_94de80a9d52flevel0_row0\" class=\"row_heading level0 row0\" >2</th> \n",
       "        <td id=\"T_6625a70e_fb89_11e7_9302_94de80a9d52frow0_col0\" class=\"data row0 col0\" >85</td> \n",
       "        <td id=\"T_6625a70e_fb89_11e7_9302_94de80a9d52frow0_col1\" class=\"data row0 col1\" >chessboard</td> \n",
       "        <td id=\"T_6625a70e_fb89_11e7_9302_94de80a9d52frow0_col2\" class=\"data row0 col2\" >3</td> \n",
       "        <td id=\"T_6625a70e_fb89_11e7_9302_94de80a9d52frow0_col3\" class=\"data row0 col3\" >33%</td> \n",
       "        <td id=\"T_6625a70e_fb89_11e7_9302_94de80a9d52frow0_col4\" class=\"data row0 col4\" >73s</td> \n",
       "    </tr>    <tr> \n",
       "        <th id=\"T_6625a70e_fb89_11e7_9302_94de80a9d52flevel0_row1\" class=\"row_heading level0 row1\" >4</th> \n",
       "        <td id=\"T_6625a70e_fb89_11e7_9302_94de80a9d52frow1_col0\" class=\"data row1 col0\" >83</td> \n",
       "        <td id=\"T_6625a70e_fb89_11e7_9302_94de80a9d52frow1_col1\" class=\"data row1 col1\" >maneuvers-on-left</td> \n",
       "        <td id=\"T_6625a70e_fb89_11e7_9302_94de80a9d52frow1_col2\" class=\"data row1 col2\" >2</td> \n",
       "        <td id=\"T_6625a70e_fb89_11e7_9302_94de80a9d52frow1_col3\" class=\"data row1 col3\" >50%</td> \n",
       "        <td id=\"T_6625a70e_fb89_11e7_9302_94de80a9d52frow1_col4\" class=\"data row1 col4\" >104s</td> \n",
       "    </tr>    <tr> \n",
       "        <th id=\"T_6625a70e_fb89_11e7_9302_94de80a9d52flevel0_row2\" class=\"row_heading level0 row2\" >5</th> \n",
       "        <td id=\"T_6625a70e_fb89_11e7_9302_94de80a9d52frow2_col0\" class=\"data row2 col0\" >64</td> \n",
       "        <td id=\"T_6625a70e_fb89_11e7_9302_94de80a9d52frow2_col1\" class=\"data row2 col1\" >wave</td> \n",
       "        <td id=\"T_6625a70e_fb89_11e7_9302_94de80a9d52frow2_col2\" class=\"data row2 col2\" >1</td> \n",
       "        <td id=\"T_6625a70e_fb89_11e7_9302_94de80a9d52frow2_col3\" class=\"data row2 col3\" >100%</td> \n",
       "        <td id=\"T_6625a70e_fb89_11e7_9302_94de80a9d52frow2_col4\" class=\"data row2 col4\" >111s</td> \n",
       "    </tr>    <tr> \n",
       "        <th id=\"T_6625a70e_fb89_11e7_9302_94de80a9d52flevel0_row3\" class=\"row_heading level0 row3\" >0</th> \n",
       "        <td id=\"T_6625a70e_fb89_11e7_9302_94de80a9d52frow3_col0\" class=\"data row3 col0\" >9</td> \n",
       "        <td id=\"T_6625a70e_fb89_11e7_9302_94de80a9d52frow3_col1\" class=\"data row3 col1\" >diamond-lines</td> \n",
       "        <td id=\"T_6625a70e_fb89_11e7_9302_94de80a9d52frow3_col2\" class=\"data row3 col2\" >2</td> \n",
       "        <td id=\"T_6625a70e_fb89_11e7_9302_94de80a9d52frow3_col3\" class=\"data row3 col3\" >100%</td> \n",
       "        <td id=\"T_6625a70e_fb89_11e7_9302_94de80a9d52frow3_col4\" class=\"data row3 col4\" >134s</td> \n",
       "    </tr>    <tr> \n",
       "        <th id=\"T_6625a70e_fb89_11e7_9302_94de80a9d52flevel0_row4\" class=\"row_heading level0 row4\" >8</th> \n",
       "        <td id=\"T_6625a70e_fb89_11e7_9302_94de80a9d52frow4_col0\" class=\"data row4 col0\" >82</td> \n",
       "        <td id=\"T_6625a70e_fb89_11e7_9302_94de80a9d52frow4_col1\" class=\"data row4 col1\" >free-column</td> \n",
       "        <td id=\"T_6625a70e_fb89_11e7_9302_94de80a9d52frow4_col2\" class=\"data row4 col2\" >4</td> \n",
       "        <td id=\"T_6625a70e_fb89_11e7_9302_94de80a9d52frow4_col3\" class=\"data row4 col3\" >50%</td> \n",
       "        <td id=\"T_6625a70e_fb89_11e7_9302_94de80a9d52frow4_col4\" class=\"data row4 col4\" >233s</td> \n",
       "    </tr>    <tr> \n",
       "        <th id=\"T_6625a70e_fb89_11e7_9302_94de80a9d52flevel0_row5\" class=\"row_heading level0 row5\" >3</th> \n",
       "        <td id=\"T_6625a70e_fb89_11e7_9302_94de80a9d52frow5_col0\" class=\"data row5 col0\" >48</td> \n",
       "        <td id=\"T_6625a70e_fb89_11e7_9302_94de80a9d52frow5_col1\" class=\"data row5 col1\" >edge-to-edge</td> \n",
       "        <td id=\"T_6625a70e_fb89_11e7_9302_94de80a9d52frow5_col2\" class=\"data row5 col2\" >5</td> \n",
       "        <td id=\"T_6625a70e_fb89_11e7_9302_94de80a9d52frow5_col3\" class=\"data row5 col3\" >60%</td> \n",
       "        <td id=\"T_6625a70e_fb89_11e7_9302_94de80a9d52frow5_col4\" class=\"data row5 col4\" >325s</td> \n",
       "    </tr>    <tr> \n",
       "        <th id=\"T_6625a70e_fb89_11e7_9302_94de80a9d52flevel0_row6\" class=\"row_heading level0 row6\" >7</th> \n",
       "        <td id=\"T_6625a70e_fb89_11e7_9302_94de80a9d52frow6_col0\" class=\"data row6 col0\" >65</td> \n",
       "        <td id=\"T_6625a70e_fb89_11e7_9302_94de80a9d52frow6_col1\" class=\"data row6 col1\" >letter-h</td> \n",
       "        <td id=\"T_6625a70e_fb89_11e7_9302_94de80a9d52frow6_col2\" class=\"data row6 col2\" >3</td> \n",
       "        <td id=\"T_6625a70e_fb89_11e7_9302_94de80a9d52frow6_col3\" class=\"data row6 col3\" >0%</td> \n",
       "        <td id=\"T_6625a70e_fb89_11e7_9302_94de80a9d52frow6_col4\" class=\"data row6 col4\" >346s</td> \n",
       "    </tr>    <tr> \n",
       "        <th id=\"T_6625a70e_fb89_11e7_9302_94de80a9d52flevel0_row7\" class=\"row_heading level0 row7\" >1</th> \n",
       "        <td id=\"T_6625a70e_fb89_11e7_9302_94de80a9d52frow7_col0\" class=\"data row7 col0\" >28</td> \n",
       "        <td id=\"T_6625a70e_fb89_11e7_9302_94de80a9d52frow7_col1\" class=\"data row7 col1\" >slalom-position-testing</td> \n",
       "        <td id=\"T_6625a70e_fb89_11e7_9302_94de80a9d52frow7_col2\" class=\"data row7 col2\" >7</td> \n",
       "        <td id=\"T_6625a70e_fb89_11e7_9302_94de80a9d52frow7_col3\" class=\"data row7 col3\" >57%</td> \n",
       "        <td id=\"T_6625a70e_fb89_11e7_9302_94de80a9d52frow7_col4\" class=\"data row7 col4\" >383s</td> \n",
       "    </tr>    <tr> \n",
       "        <th id=\"T_6625a70e_fb89_11e7_9302_94de80a9d52flevel0_row8\" class=\"row_heading level0 row8\" >6</th> \n",
       "        <td id=\"T_6625a70e_fb89_11e7_9302_94de80a9d52frow8_col0\" class=\"data row8 col0\" >7</td> \n",
       "        <td id=\"T_6625a70e_fb89_11e7_9302_94de80a9d52frow8_col1\" class=\"data row8 col1\" >meteoroids-and-wormholes</td> \n",
       "        <td id=\"T_6625a70e_fb89_11e7_9302_94de80a9d52frow8_col2\" class=\"data row8 col2\" >4</td> \n",
       "        <td id=\"T_6625a70e_fb89_11e7_9302_94de80a9d52frow8_col3\" class=\"data row8 col3\" >100%</td> \n",
       "        <td id=\"T_6625a70e_fb89_11e7_9302_94de80a9d52frow8_col4\" class=\"data row8 col4\" >722s</td> \n",
       "    </tr></tbody> \n",
       "</table> "
      ],
      "text/plain": [
       "<pandas.io.formats.style.Styler at 0x7fb04f46f390>"
      ]
     },
     "metadata": {},
     "output_type": "display_data"
    },
    {
     "data": {
      "text/plain": [
       "<matplotlib.axes._subplots.AxesSubplot at 0x7fb0500bdb38>"
      ]
     },
     "metadata": {},
     "output_type": "display_data"
    },
    {
     "data": {
      "image/png": "[encoded data removed]",
      "text/plain": [
       "<matplotlib.figure.Figure at 0x7fb0500bb240>"
      ]
     },
     "metadata": {},
     "output_type": "display_data"
    },
    {
     "data": {
      "text/plain": [
       "<matplotlib.axes._subplots.AxesSubplot at 0x7fb04f48a630>"
      ]
     },
     "metadata": {},
     "output_type": "display_data"
    },
    {
     "data": {
      "image/png": "[encoded data removed]",
      "text/plain": [
       "<matplotlib.figure.Figure at 0x7fb050083f98>"
      ]
     },
     "metadata": {},
     "output_type": "display_data"
    },
    {
     "data": {
      "text/markdown": [
       "-----"
      ],
      "text/plain": [
       "<IPython.core.display.Markdown object>"
      ]
     },
     "metadata": {},
     "output_type": "display_data"
    },
    {
     "data": {
      "text/markdown": [
       "# if-else"
      ],
      "text/plain": [
       "<IPython.core.display.Markdown object>"
      ]
     },
     "metadata": {},
     "output_type": "display_data"
    },
    {
     "data": {
      "text/html": [
       "<style  type=\"text/css\" >\n",
       "    #T_6625a70f_fb89_11e7_9302_94de80a9d52f tr {\n",
       "          background-color: white;\n",
       "    }    #T_6625a70f_fb89_11e7_9302_94de80a9d52f .row_heading, .blank {\n",
       "          display: none;;\n",
       "    }    #T_6625a70f_fb89_11e7_9302_94de80a9d52frow0_col3 {\n",
       "            background-color:  rgba(253, 231, 36, 0.6);\n",
       "        }    #T_6625a70f_fb89_11e7_9302_94de80a9d52frow0_col4 {\n",
       "            background-color:  rgba(66, 190, 113, 0.6);\n",
       "        }    #T_6625a70f_fb89_11e7_9302_94de80a9d52frow1_col3 {\n",
       "            background-color:  rgba(32, 143, 140, 0.6);\n",
       "        }    #T_6625a70f_fb89_11e7_9302_94de80a9d52frow1_col4 {\n",
       "            background-color:  rgba(61, 187, 116, 0.6);\n",
       "        }    #T_6625a70f_fb89_11e7_9302_94de80a9d52frow2_col3 {\n",
       "            background-color:  rgba(253, 231, 36, 0.6);\n",
       "        }    #T_6625a70f_fb89_11e7_9302_94de80a9d52frow2_col4 {\n",
       "            background-color:  rgba(32, 145, 140, 0.6);\n",
       "        }    #T_6625a70f_fb89_11e7_9302_94de80a9d52frow3_col3 {\n",
       "            background-color:  rgba(32, 143, 140, 0.6);\n",
       "        }    #T_6625a70f_fb89_11e7_9302_94de80a9d52frow3_col4 {\n",
       "            background-color:  rgba(33, 141, 140, 0.6);\n",
       "        }    #T_6625a70f_fb89_11e7_9302_94de80a9d52frow4_col3 {\n",
       "            background-color:  rgba(53, 183, 120, 0.6);\n",
       "        }    #T_6625a70f_fb89_11e7_9302_94de80a9d52frow4_col4 {\n",
       "            background-color:  rgba(39, 124, 142, 0.6);\n",
       "        }    #T_6625a70f_fb89_11e7_9302_94de80a9d52frow5_col3 {\n",
       "            background-color:  rgba(32, 143, 140, 0.6);\n",
       "        }    #T_6625a70f_fb89_11e7_9302_94de80a9d52frow5_col4 {\n",
       "            background-color:  rgba(40, 123, 142, 0.6);\n",
       "        }    #T_6625a70f_fb89_11e7_9302_94de80a9d52frow6_col3 {\n",
       "            background-color:  rgba(53, 183, 120, 0.6);\n",
       "        }    #T_6625a70f_fb89_11e7_9302_94de80a9d52frow6_col4 {\n",
       "            background-color:  rgba(56, 86, 139, 0.6);\n",
       "        }</style>  \n",
       "<table id=\"T_6625a70f_fb89_11e7_9302_94de80a9d52f\" > \n",
       "<thead>    <tr> \n",
       "        <th class=\"blank level0\" ></th> \n",
       "        <th class=\"col_heading level0 col0\" >id</th> \n",
       "        <th class=\"col_heading level0 col1\" >name</th> \n",
       "        <th class=\"col_heading level0 col2\" >n_attempts</th> \n",
       "        <th class=\"col_heading level0 col3\" >success</th> \n",
       "        <th class=\"col_heading level0 col4\" >time</th> \n",
       "    </tr></thead> \n",
       "<tbody>    <tr> \n",
       "        <th id=\"T_6625a70f_fb89_11e7_9302_94de80a9d52flevel0_row0\" class=\"row_heading level0 row0\" >3</th> \n",
       "        <td id=\"T_6625a70f_fb89_11e7_9302_94de80a9d52frow0_col0\" class=\"data row0 col0\" >29</td> \n",
       "        <td id=\"T_6625a70f_fb89_11e7_9302_94de80a9d52frow0_col1\" class=\"data row0 col1\" >color-navigation</td> \n",
       "        <td id=\"T_6625a70f_fb89_11e7_9302_94de80a9d52frow0_col2\" class=\"data row0 col2\" >2</td> \n",
       "        <td id=\"T_6625a70f_fb89_11e7_9302_94de80a9d52frow0_col3\" class=\"data row0 col3\" >100%</td> \n",
       "        <td id=\"T_6625a70f_fb89_11e7_9302_94de80a9d52frow0_col4\" class=\"data row0 col4\" >90s</td> \n",
       "    </tr>    <tr> \n",
       "        <th id=\"T_6625a70f_fb89_11e7_9302_94de80a9d52flevel0_row1\" class=\"row_heading level0 row1\" >5</th> \n",
       "        <td id=\"T_6625a70f_fb89_11e7_9302_94de80a9d52frow1_col0\" class=\"data row1 col0\" >24</td> \n",
       "        <td id=\"T_6625a70f_fb89_11e7_9302_94de80a9d52frow1_col1\" class=\"data row1 col1\" >narrow-passage</td> \n",
       "        <td id=\"T_6625a70f_fb89_11e7_9302_94de80a9d52frow1_col2\" class=\"data row1 col2\" >4</td> \n",
       "        <td id=\"T_6625a70f_fb89_11e7_9302_94de80a9d52frow1_col3\" class=\"data row1 col3\" >50%</td> \n",
       "        <td id=\"T_6625a70f_fb89_11e7_9302_94de80a9d52frow1_col4\" class=\"data row1 col4\" >93s</td> \n",
       "    </tr>    <tr> \n",
       "        <th id=\"T_6625a70f_fb89_11e7_9302_94de80a9d52flevel0_row2\" class=\"row_heading level0 row2\" >6</th> \n",
       "        <td id=\"T_6625a70f_fb89_11e7_9302_94de80a9d52frow2_col0\" class=\"data row2 col0\" >80</td> \n",
       "        <td id=\"T_6625a70f_fb89_11e7_9302_94de80a9d52frow2_col1\" class=\"data row2 col1\" >letter-e</td> \n",
       "        <td id=\"T_6625a70f_fb89_11e7_9302_94de80a9d52frow2_col2\" class=\"data row2 col2\" >2</td> \n",
       "        <td id=\"T_6625a70f_fb89_11e7_9302_94de80a9d52frow2_col3\" class=\"data row2 col3\" >100%</td> \n",
       "        <td id=\"T_6625a70f_fb89_11e7_9302_94de80a9d52frow2_col4\" class=\"data row2 col4\" >148s</td> \n",
       "    </tr>    <tr> \n",
       "        <th id=\"T_6625a70f_fb89_11e7_9302_94de80a9d52flevel0_row3\" class=\"row_heading level0 row3\" >1</th> \n",
       "        <td id=\"T_6625a70f_fb89_11e7_9302_94de80a9d52frow3_col0\" class=\"data row3 col0\" >75</td> \n",
       "        <td id=\"T_6625a70f_fb89_11e7_9302_94de80a9d52frow3_col1\" class=\"data row3 col1\" >bouncing-from-edge</td> \n",
       "        <td id=\"T_6625a70f_fb89_11e7_9302_94de80a9d52frow3_col2\" class=\"data row3 col2\" >2</td> \n",
       "        <td id=\"T_6625a70f_fb89_11e7_9302_94de80a9d52frow3_col3\" class=\"data row3 col3\" >50%</td> \n",
       "        <td id=\"T_6625a70f_fb89_11e7_9302_94de80a9d52frow3_col4\" class=\"data row3 col4\" >152s</td> \n",
       "    </tr>    <tr> \n",
       "        <th id=\"T_6625a70f_fb89_11e7_9302_94de80a9d52flevel0_row4\" class=\"row_heading level0 row4\" >0</th> \n",
       "        <td id=\"T_6625a70f_fb89_11e7_9302_94de80a9d52frow4_col0\" class=\"data row4 col0\" >43</td> \n",
       "        <td id=\"T_6625a70f_fb89_11e7_9302_94de80a9d52frow4_col1\" class=\"data row4 col1\" >colorful-flowers</td> \n",
       "        <td id=\"T_6625a70f_fb89_11e7_9302_94de80a9d52frow4_col2\" class=\"data row4 col2\" >3</td> \n",
       "        <td id=\"T_6625a70f_fb89_11e7_9302_94de80a9d52frow4_col3\" class=\"data row4 col3\" >67%</td> \n",
       "        <td id=\"T_6625a70f_fb89_11e7_9302_94de80a9d52frow4_col4\" class=\"data row4 col4\" >173s</td> \n",
       "    </tr>    <tr> \n",
       "        <th id=\"T_6625a70f_fb89_11e7_9302_94de80a9d52flevel0_row5\" class=\"row_heading level0 row5\" >4</th> \n",
       "        <td id=\"T_6625a70f_fb89_11e7_9302_94de80a9d52frow5_col0\" class=\"data row5 col0\" >16</td> \n",
       "        <td id=\"T_6625a70f_fb89_11e7_9302_94de80a9d52frow5_col1\" class=\"data row5 col1\" >diamonds-on-yellow</td> \n",
       "        <td id=\"T_6625a70f_fb89_11e7_9302_94de80a9d52frow5_col2\" class=\"data row5 col2\" >2</td> \n",
       "        <td id=\"T_6625a70f_fb89_11e7_9302_94de80a9d52frow5_col3\" class=\"data row5 col3\" >50%</td> \n",
       "        <td id=\"T_6625a70f_fb89_11e7_9302_94de80a9d52frow5_col4\" class=\"data row5 col4\" >174s</td> \n",
       "    </tr>    <tr> \n",
       "        <th id=\"T_6625a70f_fb89_11e7_9302_94de80a9d52flevel0_row6\" class=\"row_heading level0 row6\" >2</th> \n",
       "        <td id=\"T_6625a70f_fb89_11e7_9302_94de80a9d52frow6_col0\" class=\"data row6 col0\" >22</td> \n",
       "        <td id=\"T_6625a70f_fb89_11e7_9302_94de80a9d52frow6_col1\" class=\"data row6 col1\" >triple-steps</td> \n",
       "        <td id=\"T_6625a70f_fb89_11e7_9302_94de80a9d52frow6_col2\" class=\"data row6 col2\" >3</td> \n",
       "        <td id=\"T_6625a70f_fb89_11e7_9302_94de80a9d52frow6_col3\" class=\"data row6 col3\" >67%</td> \n",
       "        <td id=\"T_6625a70f_fb89_11e7_9302_94de80a9d52frow6_col4\" class=\"data row6 col4\" >219s</td> \n",
       "    </tr></tbody> \n",
       "</table> "
      ],
      "text/plain": [
       "<pandas.io.formats.style.Styler at 0x7fb050043f60>"
      ]
     },
     "metadata": {},
     "output_type": "display_data"
    },
    {
     "data": {
      "text/plain": [
       "<matplotlib.axes._subplots.AxesSubplot at 0x7fb0500784e0>"
      ]
     },
     "metadata": {},
     "output_type": "display_data"
    },
    {
     "data": {
      "image/png": "[encoded data removed]",
      "text/plain": [
       "<matplotlib.figure.Figure at 0x7fb050043470>"
      ]
     },
     "metadata": {},
     "output_type": "display_data"
    },
    {
     "data": {
      "text/plain": [
       "<matplotlib.axes._subplots.AxesSubplot at 0x7fb050053940>"
      ]
     },
     "metadata": {},
     "output_type": "display_data"
    },
    {
     "data": {
      "image/png": "[encoded data removed]",
      "text/plain": [
       "<matplotlib.figure.Figure at 0x7fb04ffe8278>"
      ]
     },
     "metadata": {},
     "output_type": "display_data"
    },
    {
     "data": {
      "text/markdown": [
       "-----"
      ],
      "text/plain": [
       "<IPython.core.display.Markdown object>"
      ]
     },
     "metadata": {},
     "output_type": "display_data"
    },
    {
     "data": {
      "text/markdown": [
       "# final-challenge"
      ],
      "text/plain": [
       "<IPython.core.display.Markdown object>"
      ]
     },
     "metadata": {},
     "output_type": "display_data"
    },
    {
     "ename": "ValueError",
     "evalue": "('cannot convert float NaN to integer', 'occurred at index success')",
     "output_type": "error",
     "traceback": [
      "\u001b[0;31m---------------------------------------------------------------------------\u001b[0m",
      "\u001b[0;31mValueError\u001b[0m                                Traceback (most recent call last)",
      "\u001b[0;32m~/.virtualenvs/robomission/lib/python3.5/site-packages/IPython/core/formatters.py\u001b[0m in \u001b[0;36m__call__\u001b[0;34m(self, obj)\u001b[0m\n\u001b[1;32m    343\u001b[0m             \u001b[0mmethod\u001b[0m \u001b[0;34m=\u001b[0m \u001b[0mget_real_method\u001b[0m\u001b[0;34m(\u001b[0m\u001b[0mobj\u001b[0m\u001b[0;34m,\u001b[0m \u001b[0mself\u001b[0m\u001b[0;34m.\u001b[0m\u001b[0mprint_method\u001b[0m\u001b[0;34m)\u001b[0m\u001b[0;34m\u001b[0m\u001b[0m\n\u001b[1;32m    344\u001b[0m             \u001b[0;32mif\u001b[0m \u001b[0mmethod\u001b[0m \u001b[0;32mis\u001b[0m \u001b[0;32mnot\u001b[0m \u001b[0;32mNone\u001b[0m\u001b[0;34m:\u001b[0m\u001b[0;34m\u001b[0m\u001b[0m\n\u001b[0;32m--> 345\u001b[0;31m                 \u001b[0;32mreturn\u001b[0m \u001b[0mmethod\u001b[0m\u001b[0;34m(\u001b[0m\u001b[0;34m)\u001b[0m\u001b[0;34m\u001b[0m\u001b[0m\n\u001b[0m\u001b[1;32m    346\u001b[0m             \u001b[0;32mreturn\u001b[0m \u001b[0;32mNone\u001b[0m\u001b[0;34m\u001b[0m\u001b[0m\n\u001b[1;32m    347\u001b[0m         \u001b[0;32melse\u001b[0m\u001b[0;34m:\u001b[0m\u001b[0;34m\u001b[0m\u001b[0m\n",
      "\u001b[0;32m~/.virtualenvs/robomission/lib/python3.5/site-packages/pandas/io/formats/style.py\u001b[0m in \u001b[0;36m_repr_html_\u001b[0;34m(self)\u001b[0m\n\u001b[1;32m    153\u001b[0m     \u001b[0;32mdef\u001b[0m \u001b[0m_repr_html_\u001b[0m\u001b[0;34m(\u001b[0m\u001b[0mself\u001b[0m\u001b[0;34m)\u001b[0m\u001b[0;34m:\u001b[0m\u001b[0;34m\u001b[0m\u001b[0m\n\u001b[1;32m    154\u001b[0m         \u001b[0;34m\"\"\"Hooks into Jupyter notebook rich display system.\"\"\"\u001b[0m\u001b[0;34m\u001b[0m\u001b[0m\n\u001b[0;32m--> 155\u001b[0;31m         \u001b[0;32mreturn\u001b[0m \u001b[0mself\u001b[0m\u001b[0;34m.\u001b[0m\u001b[0mrender\u001b[0m\u001b[0;34m(\u001b[0m\u001b[0;34m)\u001b[0m\u001b[0;34m\u001b[0m\u001b[0m\n\u001b[0m\u001b[1;32m    156\u001b[0m \u001b[0;34m\u001b[0m\u001b[0m\n\u001b[1;32m    157\u001b[0m     @Appender(_shared_docs['to_excel'] % dict(\n",
      "\u001b[0;32m~/.virtualenvs/robomission/lib/python3.5/site-packages/pandas/io/formats/style.py\u001b[0m in \u001b[0;36mrender\u001b[0;34m(self, **kwargs)\u001b[0m\n\u001b[1;32m    432\u001b[0m         \u001b[0;34m*\u001b[0m \u001b[0mtable_attributes\u001b[0m\u001b[0;34m\u001b[0m\u001b[0m\n\u001b[1;32m    433\u001b[0m         \"\"\"\n\u001b[0;32m--> 434\u001b[0;31m         \u001b[0mself\u001b[0m\u001b[0;34m.\u001b[0m\u001b[0m_compute\u001b[0m\u001b[0;34m(\u001b[0m\u001b[0;34m)\u001b[0m\u001b[0;34m\u001b[0m\u001b[0m\n\u001b[0m\u001b[1;32m    435\u001b[0m         \u001b[0;31m# TODO: namespace all the pandas keys\u001b[0m\u001b[0;34m\u001b[0m\u001b[0;34m\u001b[0m\u001b[0m\n\u001b[1;32m    436\u001b[0m         \u001b[0md\u001b[0m \u001b[0;34m=\u001b[0m \u001b[0mself\u001b[0m\u001b[0;34m.\u001b[0m\u001b[0m_translate\u001b[0m\u001b[0;34m(\u001b[0m\u001b[0;34m)\u001b[0m\u001b[0;34m\u001b[0m\u001b[0m\n",
      "\u001b[0;32m~/.virtualenvs/robomission/lib/python3.5/site-packages/pandas/io/formats/style.py\u001b[0m in \u001b[0;36m_compute\u001b[0;34m(self)\u001b[0m\n\u001b[1;32m    500\u001b[0m         \u001b[0mr\u001b[0m \u001b[0;34m=\u001b[0m \u001b[0mself\u001b[0m\u001b[0;34m\u001b[0m\u001b[0m\n\u001b[1;32m    501\u001b[0m         \u001b[0;32mfor\u001b[0m \u001b[0mfunc\u001b[0m\u001b[0;34m,\u001b[0m \u001b[0margs\u001b[0m\u001b[0;34m,\u001b[0m \u001b[0mkwargs\u001b[0m \u001b[0;32min\u001b[0m \u001b[0mself\u001b[0m\u001b[0;34m.\u001b[0m\u001b[0m_todo\u001b[0m\u001b[0;34m:\u001b[0m\u001b[0;34m\u001b[0m\u001b[0m\n\u001b[0;32m--> 502\u001b[0;31m             \u001b[0mr\u001b[0m \u001b[0;34m=\u001b[0m \u001b[0mfunc\u001b[0m\u001b[0;34m(\u001b[0m\u001b[0mself\u001b[0m\u001b[0;34m)\u001b[0m\u001b[0;34m(\u001b[0m\u001b[0;34m*\u001b[0m\u001b[0margs\u001b[0m\u001b[0;34m,\u001b[0m \u001b[0;34m**\u001b[0m\u001b[0mkwargs\u001b[0m\u001b[0;34m)\u001b[0m\u001b[0;34m\u001b[0m\u001b[0m\n\u001b[0m\u001b[1;32m    503\u001b[0m         \u001b[0;32mreturn\u001b[0m \u001b[0mr\u001b[0m\u001b[0;34m\u001b[0m\u001b[0m\n\u001b[1;32m    504\u001b[0m \u001b[0;34m\u001b[0m\u001b[0m\n",
      "\u001b[0;32m~/.virtualenvs/robomission/lib/python3.5/site-packages/pandas/io/formats/style.py\u001b[0m in \u001b[0;36m_applymap\u001b[0;34m(self, func, subset, **kwargs)\u001b[0m\n\u001b[1;32m    589\u001b[0m             \u001b[0msubset\u001b[0m \u001b[0;34m=\u001b[0m \u001b[0mpd\u001b[0m\u001b[0;34m.\u001b[0m\u001b[0mIndexSlice\u001b[0m\u001b[0;34m[\u001b[0m\u001b[0;34m:\u001b[0m\u001b[0;34m]\u001b[0m\u001b[0;34m\u001b[0m\u001b[0m\n\u001b[1;32m    590\u001b[0m         \u001b[0msubset\u001b[0m \u001b[0;34m=\u001b[0m \u001b[0m_non_reducing_slice\u001b[0m\u001b[0;34m(\u001b[0m\u001b[0msubset\u001b[0m\u001b[0;34m)\u001b[0m\u001b[0;34m\u001b[0m\u001b[0m\n\u001b[0;32m--> 591\u001b[0;31m         \u001b[0mresult\u001b[0m \u001b[0;34m=\u001b[0m \u001b[0mself\u001b[0m\u001b[0;34m.\u001b[0m\u001b[0mdata\u001b[0m\u001b[0;34m.\u001b[0m\u001b[0mloc\u001b[0m\u001b[0;34m[\u001b[0m\u001b[0msubset\u001b[0m\u001b[0;34m]\u001b[0m\u001b[0;34m.\u001b[0m\u001b[0mapplymap\u001b[0m\u001b[0;34m(\u001b[0m\u001b[0mfunc\u001b[0m\u001b[0;34m)\u001b[0m\u001b[0;34m\u001b[0m\u001b[0m\n\u001b[0m\u001b[1;32m    592\u001b[0m         \u001b[0mself\u001b[0m\u001b[0;34m.\u001b[0m\u001b[0m_update_ctx\u001b[0m\u001b[0;34m(\u001b[0m\u001b[0mresult\u001b[0m\u001b[0;34m)\u001b[0m\u001b[0;34m\u001b[0m\u001b[0m\n\u001b[1;32m    593\u001b[0m         \u001b[0;32mreturn\u001b[0m \u001b[0mself\u001b[0m\u001b[0;34m\u001b[0m\u001b[0m\n",
      "\u001b[0;32m~/.virtualenvs/robomission/lib/python3.5/site-packages/pandas/core/frame.py\u001b[0m in \u001b[0;36mapplymap\u001b[0;34m(self, func)\u001b[0m\n\u001b[1;32m   4451\u001b[0m             \u001b[0;32mreturn\u001b[0m \u001b[0mlib\u001b[0m\u001b[0;34m.\u001b[0m\u001b[0mmap_infer\u001b[0m\u001b[0;34m(\u001b[0m\u001b[0mx\u001b[0m\u001b[0;34m.\u001b[0m\u001b[0masobject\u001b[0m\u001b[0;34m,\u001b[0m \u001b[0mfunc\u001b[0m\u001b[0;34m)\u001b[0m\u001b[0;34m\u001b[0m\u001b[0m\n\u001b[1;32m   4452\u001b[0m \u001b[0;34m\u001b[0m\u001b[0m\n\u001b[0;32m-> 4453\u001b[0;31m         \u001b[0;32mreturn\u001b[0m \u001b[0mself\u001b[0m\u001b[0;34m.\u001b[0m\u001b[0mapply\u001b[0m\u001b[0;34m(\u001b[0m\u001b[0minfer\u001b[0m\u001b[0;34m)\u001b[0m\u001b[0;34m\u001b[0m\u001b[0m\n\u001b[0m\u001b[1;32m   4454\u001b[0m \u001b[0;34m\u001b[0m\u001b[0m\n\u001b[1;32m   4455\u001b[0m     \u001b[0;31m# ----------------------------------------------------------------------\u001b[0m\u001b[0;34m\u001b[0m\u001b[0;34m\u001b[0m\u001b[0m\n",
      "\u001b[0;32m~/.virtualenvs/robomission/lib/python3.5/site-packages/pandas/core/frame.py\u001b[0m in \u001b[0;36mapply\u001b[0;34m(self, func, axis, broadcast, raw, reduce, args, **kwds)\u001b[0m\n\u001b[1;32m   4260\u001b[0m                         \u001b[0mf\u001b[0m\u001b[0;34m,\u001b[0m \u001b[0maxis\u001b[0m\u001b[0;34m,\u001b[0m\u001b[0;34m\u001b[0m\u001b[0m\n\u001b[1;32m   4261\u001b[0m                         \u001b[0mreduce\u001b[0m\u001b[0;34m=\u001b[0m\u001b[0mreduce\u001b[0m\u001b[0;34m,\u001b[0m\u001b[0;34m\u001b[0m\u001b[0m\n\u001b[0;32m-> 4262\u001b[0;31m                         ignore_failures=ignore_failures)\n\u001b[0m\u001b[1;32m   4263\u001b[0m             \u001b[0;32melse\u001b[0m\u001b[0;34m:\u001b[0m\u001b[0;34m\u001b[0m\u001b[0m\n\u001b[1;32m   4264\u001b[0m                 \u001b[0;32mreturn\u001b[0m \u001b[0mself\u001b[0m\u001b[0;34m.\u001b[0m\u001b[0m_apply_broadcast\u001b[0m\u001b[0;34m(\u001b[0m\u001b[0mf\u001b[0m\u001b[0;34m,\u001b[0m \u001b[0maxis\u001b[0m\u001b[0;34m)\u001b[0m\u001b[0;34m\u001b[0m\u001b[0m\n",
      "\u001b[0;32m~/.virtualenvs/robomission/lib/python3.5/site-packages/pandas/core/frame.py\u001b[0m in \u001b[0;36m_apply_standard\u001b[0;34m(self, func, axis, ignore_failures, reduce)\u001b[0m\n\u001b[1;32m   4356\u001b[0m             \u001b[0;32mtry\u001b[0m\u001b[0;34m:\u001b[0m\u001b[0;34m\u001b[0m\u001b[0m\n\u001b[1;32m   4357\u001b[0m                 \u001b[0;32mfor\u001b[0m \u001b[0mi\u001b[0m\u001b[0;34m,\u001b[0m \u001b[0mv\u001b[0m \u001b[0;32min\u001b[0m \u001b[0menumerate\u001b[0m\u001b[0;34m(\u001b[0m\u001b[0mseries_gen\u001b[0m\u001b[0;34m)\u001b[0m\u001b[0;34m:\u001b[0m\u001b[0;34m\u001b[0m\u001b[0m\n\u001b[0;32m-> 4358\u001b[0;31m                     \u001b[0mresults\u001b[0m\u001b[0;34m[\u001b[0m\u001b[0mi\u001b[0m\u001b[0;34m]\u001b[0m \u001b[0;34m=\u001b[0m \u001b[0mfunc\u001b[0m\u001b[0;34m(\u001b[0m\u001b[0mv\u001b[0m\u001b[0;34m)\u001b[0m\u001b[0;34m\u001b[0m\u001b[0m\n\u001b[0m\u001b[1;32m   4359\u001b[0m                     \u001b[0mkeys\u001b[0m\u001b[0;34m.\u001b[0m\u001b[0mappend\u001b[0m\u001b[0;34m(\u001b[0m\u001b[0mv\u001b[0m\u001b[0;34m.\u001b[0m\u001b[0mname\u001b[0m\u001b[0;34m)\u001b[0m\u001b[0;34m\u001b[0m\u001b[0m\n\u001b[1;32m   4360\u001b[0m             \u001b[0;32mexcept\u001b[0m \u001b[0mException\u001b[0m \u001b[0;32mas\u001b[0m \u001b[0me\u001b[0m\u001b[0;34m:\u001b[0m\u001b[0;34m\u001b[0m\u001b[0m\n",
      "\u001b[0;32m~/.virtualenvs/robomission/lib/python3.5/site-packages/pandas/core/frame.py\u001b[0m in \u001b[0;36minfer\u001b[0;34m(x)\u001b[0m\n\u001b[1;32m   4449\u001b[0m             \u001b[0;32mif\u001b[0m \u001b[0mx\u001b[0m\u001b[0;34m.\u001b[0m\u001b[0mempty\u001b[0m\u001b[0;34m:\u001b[0m\u001b[0;34m\u001b[0m\u001b[0m\n\u001b[1;32m   4450\u001b[0m                 \u001b[0;32mreturn\u001b[0m \u001b[0mlib\u001b[0m\u001b[0;34m.\u001b[0m\u001b[0mmap_infer\u001b[0m\u001b[0;34m(\u001b[0m\u001b[0mx\u001b[0m\u001b[0;34m,\u001b[0m \u001b[0mfunc\u001b[0m\u001b[0;34m)\u001b[0m\u001b[0;34m\u001b[0m\u001b[0m\n\u001b[0;32m-> 4451\u001b[0;31m             \u001b[0;32mreturn\u001b[0m \u001b[0mlib\u001b[0m\u001b[0;34m.\u001b[0m\u001b[0mmap_infer\u001b[0m\u001b[0;34m(\u001b[0m\u001b[0mx\u001b[0m\u001b[0;34m.\u001b[0m\u001b[0masobject\u001b[0m\u001b[0;34m,\u001b[0m \u001b[0mfunc\u001b[0m\u001b[0;34m)\u001b[0m\u001b[0;34m\u001b[0m\u001b[0m\n\u001b[0m\u001b[1;32m   4452\u001b[0m \u001b[0;34m\u001b[0m\u001b[0m\n\u001b[1;32m   4453\u001b[0m         \u001b[0;32mreturn\u001b[0m \u001b[0mself\u001b[0m\u001b[0;34m.\u001b[0m\u001b[0mapply\u001b[0m\u001b[0;34m(\u001b[0m\u001b[0minfer\u001b[0m\u001b[0;34m)\u001b[0m\u001b[0;34m\u001b[0m\u001b[0m\n",
      "\u001b[0;32mpandas/_libs/src/inference.pyx\u001b[0m in \u001b[0;36mpandas._libs.lib.map_infer (pandas/_libs/lib.c:66645)\u001b[0;34m()\u001b[0m\n",
      "\u001b[0;32m~/projects/robomission/backend/monitoring/visualization.py\u001b[0m in \u001b[0;36mpercentage_background\u001b[0;34m(value)\u001b[0m\n\u001b[1;32m     20\u001b[0m \u001b[0;34m\u001b[0m\u001b[0m\n\u001b[1;32m     21\u001b[0m \u001b[0;32mdef\u001b[0m \u001b[0mpercentage_background\u001b[0m\u001b[0;34m(\u001b[0m\u001b[0mvalue\u001b[0m\u001b[0;34m)\u001b[0m\u001b[0;34m:\u001b[0m\u001b[0;34m\u001b[0m\u001b[0m\n\u001b[0;32m---> 22\u001b[0;31m     \u001b[0;32mreturn\u001b[0m \u001b[0mviridis_background\u001b[0m\u001b[0;34m(\u001b[0m\u001b[0mvalue\u001b[0m\u001b[0;34m,\u001b[0m \u001b[0mvmin\u001b[0m\u001b[0;34m=\u001b[0m\u001b[0;36m0\u001b[0m\u001b[0;34m,\u001b[0m \u001b[0mvmax\u001b[0m\u001b[0;34m=\u001b[0m\u001b[0;36m1\u001b[0m\u001b[0;34m)\u001b[0m\u001b[0;34m\u001b[0m\u001b[0m\n\u001b[0m\u001b[1;32m     23\u001b[0m \u001b[0;34m\u001b[0m\u001b[0m\n\u001b[1;32m     24\u001b[0m \u001b[0;34m\u001b[0m\u001b[0m\n",
      "\u001b[0;32m~/projects/robomission/backend/monitoring/visualization.py\u001b[0m in \u001b[0;36mviridis_background\u001b[0;34m(value, vmin, vmax, reverse)\u001b[0m\n\u001b[1;32m     14\u001b[0m     \u001b[0mmax_index\u001b[0m \u001b[0;34m=\u001b[0m \u001b[0mlen\u001b[0m\u001b[0;34m(\u001b[0m\u001b[0mVIRIDIS\u001b[0m\u001b[0;34m)\u001b[0m \u001b[0;34m-\u001b[0m \u001b[0;36m1\u001b[0m\u001b[0;34m\u001b[0m\u001b[0m\n\u001b[1;32m     15\u001b[0m     \u001b[0msoft_index\u001b[0m \u001b[0;34m=\u001b[0m \u001b[0mnorm_value\u001b[0m \u001b[0;34m*\u001b[0m \u001b[0mmax_index\u001b[0m\u001b[0;34m\u001b[0m\u001b[0m\n\u001b[0;32m---> 16\u001b[0;31m     \u001b[0mindex\u001b[0m \u001b[0;34m=\u001b[0m \u001b[0mmax\u001b[0m\u001b[0;34m(\u001b[0m\u001b[0;36m0\u001b[0m\u001b[0;34m,\u001b[0m \u001b[0mmin\u001b[0m\u001b[0;34m(\u001b[0m\u001b[0mmax_index\u001b[0m\u001b[0;34m,\u001b[0m \u001b[0mint\u001b[0m\u001b[0;34m(\u001b[0m\u001b[0msoft_index\u001b[0m\u001b[0;34m)\u001b[0m\u001b[0;34m)\u001b[0m\u001b[0;34m)\u001b[0m\u001b[0;34m\u001b[0m\u001b[0m\n\u001b[0m\u001b[1;32m     17\u001b[0m     \u001b[0mcolor\u001b[0m \u001b[0;34m=\u001b[0m \u001b[0;34m(\u001b[0m\u001b[0mint\u001b[0m\u001b[0;34m(\u001b[0m\u001b[0;36m255\u001b[0m\u001b[0;34m*\u001b[0m\u001b[0mc\u001b[0m\u001b[0;34m)\u001b[0m \u001b[0;32mfor\u001b[0m \u001b[0mc\u001b[0m \u001b[0;32min\u001b[0m \u001b[0mVIRIDIS\u001b[0m\u001b[0;34m[\u001b[0m\u001b[0mindex\u001b[0m\u001b[0;34m]\u001b[0m\u001b[0;34m)\u001b[0m\u001b[0;34m\u001b[0m\u001b[0m\n\u001b[1;32m     18\u001b[0m     \u001b[0;32mreturn\u001b[0m \u001b[0;34m'background-color: rgba({0}, {1}, {2}, 0.6);'\u001b[0m\u001b[0;34m.\u001b[0m\u001b[0mformat\u001b[0m\u001b[0;34m(\u001b[0m\u001b[0;34m*\u001b[0m\u001b[0mcolor\u001b[0m\u001b[0;34m)\u001b[0m\u001b[0;34m\u001b[0m\u001b[0m\n",
      "\u001b[0;31mValueError\u001b[0m: ('cannot convert float NaN to integer', 'occurred at index success')"
     ]
    },
    {
     "data": {
      "text/plain": [
       "<pandas.io.formats.style.Styler at 0x7fb04ffccf98>"
      ]
     },
     "metadata": {},
     "output_type": "display_data"
    },
    {
     "data": {
      "text/plain": [
       "<matplotlib.axes._subplots.AxesSubplot at 0x7fb04ffd6358>"
      ]
     },
     "metadata": {},
     "output_type": "display_data"
    },
    {
     "data": {
      "image/png": "[encoded data removed]",
      "text/plain": [
       "<matplotlib.figure.Figure at 0x7fb04ffcce10>"
      ]
     },
     "metadata": {},
     "output_type": "display_data"
    },
    {
     "data": {
      "text/plain": [
       "<matplotlib.axes._subplots.AxesSubplot at 0x7fb04ff15198>"
      ]
     },
     "metadata": {},
     "output_type": "display_data"
    },
    {
     "data": {
      "image/png": "[encoded data removed]",
      "text/plain": [
       "<matplotlib.figure.Figure at 0x7fb050049b70>"
      ]
     },
     "metadata": {},
     "output_type": "display_data"
    },
    {
     "data": {
      "text/markdown": [
       "-----"
      ],
      "text/plain": [
       "<IPython.core.display.Markdown object>"
      ]
     },
     "metadata": {},
     "output_type": "display_data"
    }
   ],
   "source": [
    "def display_plot(ax):\n",
    "    display(ax)\n",
    "    plt.show()  # forcing to display here\n",
    "\n",
    "def display_success_rate_hist(tasks):\n",
    "    ax = tasks.success.plot.hist(\n",
    "        bins=np.linspace(0, 1, 11),\n",
    "        title='success rate')\n",
    "    ax.set_xlim(0, 1)\n",
    "    ax.set_ylim(0, 10)\n",
    "    display_plot(ax)\n",
    "    \n",
    "def display_time_vs_success(tasks):\n",
    "    ax = tasks.plot.scatter(x='success', y='time')\n",
    "    ax.set_xlim(0, 1)\n",
    "    display_plot(ax)\n",
    "    \n",
    "def analyze_level(name):\n",
    "    ts = tasks[tasks.level == name]\n",
    "    ts = ts[['name', 'n_attempts', 'success', 'time']]\n",
    "    display(Markdown('# {name}'.format(name=name)))\n",
    "    display_level_overview(ts, order_by='time')\n",
    "    display_success_rate_hist(ts)\n",
    "    display_time_vs_success(ts)\n",
    "    display(Markdown('-----'))\n",
    "\n",
    "for name in levels.name:\n",
    "    analyze_level(name)"
   ]
  },
  {
   "cell_type": "code",
   "execution_count": null,
   "metadata": {},
   "outputs": [],
   "source": []
  },
  {
   "cell_type": "code",
   "execution_count": null,
   "metadata": {},
   "outputs": [],
   "source": []
  },
  {
   "cell_type": "code",
   "execution_count": null,
   "metadata": {},
   "outputs": [],
   "source": []
  },
  {
   "cell_type": "code",
   "execution_count": null,
   "metadata": {},
   "outputs": [],
   "source": []
  },
  {
   "cell_type": "code",
   "execution_count": null,
   "metadata": {},
   "outputs": [],
   "source": []
  },
  {
   "cell_type": "code",
   "execution_count": null,
   "metadata": {},
   "outputs": [],
   "source": []
  }
 ],
 "metadata": {
  "kernelspec": {
   "display_name": "Django Shell-Plus",
   "language": "python",
   "name": "django_extensions"
  },
  "language_info": {
   "codemirror_mode": {
    "name": "ipython",
    "version": 3
   },
   "file_extension": ".py",
   "mimetype": "text/x-python",
   "name": "python",
   "nbconvert_exporter": "python",
   "pygments_lexer": "ipython3",
   "version": "3.5.2"
  }
 },
 "nbformat": 4,
 "nbformat_minor": 2
}
