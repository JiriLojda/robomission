{
 "cells": [
  {
   "cell_type": "code",
   "execution_count": 1,
   "metadata": {},
   "outputs": [],
   "source": [
    "# Setting and imports.\n",
    "%matplotlib inline\n",
    "import numpy as np\n",
    "import matplotlib.pyplot as plt\n",
    "import pandas as pd\n",
    "import seaborn as sns\n",
    "import learn\n",
    "from monitoring.data import get_production_data"
   ]
  },
  {
   "cell_type": "code",
   "execution_count": 2,
   "metadata": {},
   "outputs": [
    {
     "name": "stdout",
     "output_type": "stream",
     "text": [
      "Data loaded from cache (/home/xeffenb1/projects/robomission/backend/monitoring/.data/robomission-2017-12-30/).\n"
     ]
    }
   ],
   "source": [
    "# Load data from local cache, fetch and store if not available.\n",
    "data = get_production_data('2017-12-30')"
   ]
  },
  {
   "cell_type": "code",
   "execution_count": 3,
   "metadata": {},
   "outputs": [
    {
     "data": {
      "text/html": [
       "<div>\n",
       "<style>\n",
       "    .dataframe thead tr:only-child th {\n",
       "        text-align: right;\n",
       "    }\n",
       "\n",
       "    .dataframe thead th {\n",
       "        text-align: left;\n",
       "    }\n",
       "\n",
       "    .dataframe tbody tr th {\n",
       "        vertical-align: top;\n",
       "    }\n",
       "</style>\n",
       "<table border=\"1\" class=\"dataframe\">\n",
       "  <thead>\n",
       "    <tr style=\"text-align: right;\">\n",
       "      <th></th>\n",
       "      <th>student</th>\n",
       "      <th>task</th>\n",
       "      <th>solved</th>\n",
       "      <th>start</th>\n",
       "      <th>end</th>\n",
       "      <th>time_spent</th>\n",
       "    </tr>\n",
       "    <tr>\n",
       "      <th>id</th>\n",
       "      <th></th>\n",
       "      <th></th>\n",
       "      <th></th>\n",
       "      <th></th>\n",
       "      <th></th>\n",
       "      <th></th>\n",
       "    </tr>\n",
       "  </thead>\n",
       "  <tbody>\n",
       "    <tr>\n",
       "      <th>1800</th>\n",
       "      <td>8694</td>\n",
       "      <td>21</td>\n",
       "      <td>True</td>\n",
       "      <td>2017-12-29T11:26:48.203415Z</td>\n",
       "      <td>2017-12-29T11:27:46.170989Z</td>\n",
       "      <td>57</td>\n",
       "    </tr>\n",
       "    <tr>\n",
       "      <th>1794</th>\n",
       "      <td>8694</td>\n",
       "      <td>44</td>\n",
       "      <td>True</td>\n",
       "      <td>2017-12-29T11:09:36.585977Z</td>\n",
       "      <td>2017-12-29T11:10:33.592476Z</td>\n",
       "      <td>57</td>\n",
       "    </tr>\n",
       "    <tr>\n",
       "      <th>1795</th>\n",
       "      <td>8694</td>\n",
       "      <td>26</td>\n",
       "      <td>True</td>\n",
       "      <td>2017-12-29T11:11:01.153506Z</td>\n",
       "      <td>2017-12-29T11:11:15.674378Z</td>\n",
       "      <td>14</td>\n",
       "    </tr>\n",
       "    <tr>\n",
       "      <th>1801</th>\n",
       "      <td>8694</td>\n",
       "      <td>18</td>\n",
       "      <td>True</td>\n",
       "      <td>2017-12-29T11:27:50.108638Z</td>\n",
       "      <td>2017-12-29T11:29:33.879208Z</td>\n",
       "      <td>103</td>\n",
       "    </tr>\n",
       "    <tr>\n",
       "      <th>1802</th>\n",
       "      <td>8694</td>\n",
       "      <td>41</td>\n",
       "      <td>True</td>\n",
       "      <td>2017-12-29T11:29:39.062362Z</td>\n",
       "      <td>2017-12-29T11:33:29.109295Z</td>\n",
       "      <td>230</td>\n",
       "    </tr>\n",
       "  </tbody>\n",
       "</table>\n",
       "</div>"
      ],
      "text/plain": [
       "      student  task  solved                        start  \\\n",
       "id                                                         \n",
       "1800     8694    21    True  2017-12-29T11:26:48.203415Z   \n",
       "1794     8694    44    True  2017-12-29T11:09:36.585977Z   \n",
       "1795     8694    26    True  2017-12-29T11:11:01.153506Z   \n",
       "1801     8694    18    True  2017-12-29T11:27:50.108638Z   \n",
       "1802     8694    41    True  2017-12-29T11:29:39.062362Z   \n",
       "\n",
       "                              end  time_spent  \n",
       "id                                             \n",
       "1800  2017-12-29T11:27:46.170989Z          57  \n",
       "1794  2017-12-29T11:10:33.592476Z          57  \n",
       "1795  2017-12-29T11:11:15.674378Z          14  \n",
       "1801  2017-12-29T11:29:33.879208Z         103  \n",
       "1802  2017-12-29T11:33:29.109295Z         230  "
      ]
     },
     "execution_count": 3,
     "metadata": {},
     "output_type": "execute_result"
    }
   ],
   "source": [
    "# Example: look at the data\n",
    "data['task_sessions'].tail()"
   ]
  },
  {
   "cell_type": "code",
   "execution_count": 6,
   "metadata": {},
   "outputs": [
    {
     "data": {
      "text/plain": [
       "<matplotlib.axes._subplots.AxesSubplot at 0x7f0b8adaef98>"
      ]
     },
     "execution_count": 6,
     "metadata": {},
     "output_type": "execute_result"
    },
    {
     "data": {
      "image/png": "[encoded data removed]",
      "text/plain": [
       "<matplotlib.figure.Figure at 0x7f0b8adae978>"
      ]
     },
     "metadata": {},
     "output_type": "display_data"
    }
   ],
   "source": [
    "# Example: plot histogram of log-times of task sessions\n",
    "d = data['task_sessions']\n",
    "d.time_spent[d.time_spent > 0].apply(np.log).hist()"
   ]
  },
  {
   "cell_type": "code",
   "execution_count": null,
   "metadata": {},
   "outputs": [],
   "source": []
  },
  {
   "cell_type": "code",
   "execution_count": null,
   "metadata": {},
   "outputs": [],
   "source": []
  },
  {
   "cell_type": "code",
   "execution_count": null,
   "metadata": {},
   "outputs": [],
   "source": []
  },
  {
   "cell_type": "code",
   "execution_count": null,
   "metadata": {},
   "outputs": [],
   "source": []
  },
  {
   "cell_type": "code",
   "execution_count": null,
   "metadata": {},
   "outputs": [],
   "source": []
  },
  {
   "cell_type": "code",
   "execution_count": null,
   "metadata": {},
   "outputs": [],
   "source": []
  },
  {
   "cell_type": "code",
   "execution_count": null,
   "metadata": {},
   "outputs": [],
   "source": []
  }
 ],
 "metadata": {
  "kernelspec": {
   "display_name": "Django Shell-Plus",
   "language": "python",
   "name": "django_extensions"
  },
  "language_info": {
   "codemirror_mode": {
    "name": "ipython",
    "version": 3
   },
   "file_extension": ".py",
   "mimetype": "text/x-python",
   "name": "python",
   "nbconvert_exporter": "python",
   "pygments_lexer": "ipython3",
   "version": "3.5.2"
  }
 },
 "nbformat": 4,
 "nbformat_minor": 2
}
