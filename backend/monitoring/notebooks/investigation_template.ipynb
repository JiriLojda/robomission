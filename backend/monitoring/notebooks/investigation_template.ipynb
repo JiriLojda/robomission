{
 "cells": [
  {
   "cell_type": "code",
   "execution_count": 1,
   "metadata": {},
   "outputs": [],
   "source": [
    "# Setting and imports.\n",
    "\n",
    "%matplotlib inline\n",
    "import numpy as np\n",
    "import matplotlib.pyplot as plt\n",
    "import pandas as pd\n",
    "import seaborn as sns\n",
    "\n",
    "# Hack to allow importing from monitoring app before\n",
    "# it's included into the robomission project.\n",
    "# TODO: Remove once the monitoring app is included.\n",
    "import sys\n",
    "sys.path.append('../..')\n",
    "\n",
    "import learn\n",
    "from monitoring import livedata"
   ]
  },
  {
   "cell_type": "code",
   "execution_count": 2,
   "metadata": {},
   "outputs": [
    {
     "name": "stdout",
     "output_type": "stream",
     "text": [
      "Fetching https://robomise.cz/learn/export/current/blocks/\n",
      "Fetching https://robomise.cz/learn/export/current/toolboxes/\n",
      "Fetching https://robomise.cz/learn/export/current/levels/\n",
      "Fetching https://robomise.cz/learn/export/current/instructions/\n",
      "Fetching https://robomise.cz/learn/export/current/tasks/\n",
      "Fetching https://robomise.cz/learn/export/current/students/\n",
      "Fetching https://robomise.cz/learn/export/current/task_sessions/\n",
      "Fetching https://robomise.cz/learn/export/current/program_snapshots/\n",
      "Fetching https://robomise.cz/learn/export/current/actions/\n"
     ]
    }
   ],
   "source": [
    "# Fetch current data (and store it in local cache)\n",
    "data = livedata.get_current_data()"
   ]
  },
  {
   "cell_type": "code",
   "execution_count": 3,
   "metadata": {},
   "outputs": [
    {
     "data": {
      "text/html": [
       "<div>\n",
       "<style>\n",
       "    .dataframe thead tr:only-child th {\n",
       "        text-align: right;\n",
       "    }\n",
       "\n",
       "    .dataframe thead th {\n",
       "        text-align: left;\n",
       "    }\n",
       "\n",
       "    .dataframe tbody tr th {\n",
       "        vertical-align: top;\n",
       "    }\n",
       "</style>\n",
       "<table border=\"1\" class=\"dataframe\">\n",
       "  <thead>\n",
       "    <tr style=\"text-align: right;\">\n",
       "      <th></th>\n",
       "      <th>student</th>\n",
       "      <th>task</th>\n",
       "      <th>solved</th>\n",
       "      <th>start</th>\n",
       "      <th>end</th>\n",
       "      <th>time_spent</th>\n",
       "    </tr>\n",
       "    <tr>\n",
       "      <th>id</th>\n",
       "      <th></th>\n",
       "      <th></th>\n",
       "      <th></th>\n",
       "      <th></th>\n",
       "      <th></th>\n",
       "      <th></th>\n",
       "    </tr>\n",
       "  </thead>\n",
       "  <tbody>\n",
       "    <tr>\n",
       "      <th>158</th>\n",
       "      <td>2481</td>\n",
       "      <td>28</td>\n",
       "      <td>False</td>\n",
       "      <td>2017-11-18T13:44:28.806928Z</td>\n",
       "      <td>2017-11-18T13:46:07.877931Z</td>\n",
       "      <td>99</td>\n",
       "    </tr>\n",
       "    <tr>\n",
       "      <th>173</th>\n",
       "      <td>2200</td>\n",
       "      <td>59</td>\n",
       "      <td>False</td>\n",
       "      <td>2017-11-18T13:57:32.080610Z</td>\n",
       "      <td>2017-11-18T13:58:32.532179Z</td>\n",
       "      <td>60</td>\n",
       "    </tr>\n",
       "    <tr>\n",
       "      <th>159</th>\n",
       "      <td>2481</td>\n",
       "      <td>32</td>\n",
       "      <td>False</td>\n",
       "      <td>2017-11-18T13:47:13.601008Z</td>\n",
       "      <td>2017-11-18T13:47:13.601036Z</td>\n",
       "      <td>0</td>\n",
       "    </tr>\n",
       "    <tr>\n",
       "      <th>174</th>\n",
       "      <td>2856</td>\n",
       "      <td>31</td>\n",
       "      <td>False</td>\n",
       "      <td>2017-11-19T18:03:13.076000Z</td>\n",
       "      <td>2017-11-19T18:03:32.026320Z</td>\n",
       "      <td>18</td>\n",
       "    </tr>\n",
       "    <tr>\n",
       "      <th>160</th>\n",
       "      <td>2481</td>\n",
       "      <td>20</td>\n",
       "      <td>False</td>\n",
       "      <td>2017-11-18T13:47:36.283033Z</td>\n",
       "      <td>2017-11-18T13:48:41.430786Z</td>\n",
       "      <td>65</td>\n",
       "    </tr>\n",
       "  </tbody>\n",
       "</table>\n",
       "</div>"
      ],
      "text/plain": [
       "     student  task  solved                        start  \\\n",
       "id                                                        \n",
       "158     2481    28   False  2017-11-18T13:44:28.806928Z   \n",
       "173     2200    59   False  2017-11-18T13:57:32.080610Z   \n",
       "159     2481    32   False  2017-11-18T13:47:13.601008Z   \n",
       "174     2856    31   False  2017-11-19T18:03:13.076000Z   \n",
       "160     2481    20   False  2017-11-18T13:47:36.283033Z   \n",
       "\n",
       "                             end  time_spent  \n",
       "id                                            \n",
       "158  2017-11-18T13:46:07.877931Z          99  \n",
       "173  2017-11-18T13:58:32.532179Z          60  \n",
       "159  2017-11-18T13:47:13.601036Z           0  \n",
       "174  2017-11-19T18:03:32.026320Z          18  \n",
       "160  2017-11-18T13:48:41.430786Z          65  "
      ]
     },
     "execution_count": 3,
     "metadata": {},
     "output_type": "execute_result"
    }
   ],
   "source": [
    "# Example: look at the data\n",
    "data['task_sessions'].tail()"
   ]
  },
  {
   "cell_type": "code",
   "execution_count": 16,
   "metadata": {},
   "outputs": [
    {
     "data": {
      "text/plain": [
       "<matplotlib.axes._subplots.AxesSubplot at 0x7f68591e18d0>"
      ]
     },
     "execution_count": 16,
     "metadata": {},
     "output_type": "execute_result"
    },
    {
     "data": {
      "image/png": "[encoded data removed]",
      "text/plain": [
       "<matplotlib.figure.Figure at 0x7f685a46eb38>"
      ]
     },
     "metadata": {},
     "output_type": "display_data"
    }
   ],
   "source": [
    "# Example: plot histogram of log-times of task sessions\n",
    "d.time_spent[d.time_spent > 0].apply(np.log).hist()"
   ]
  },
  {
   "cell_type": "code",
   "execution_count": null,
   "metadata": {},
   "outputs": [],
   "source": []
  },
  {
   "cell_type": "code",
   "execution_count": null,
   "metadata": {},
   "outputs": [],
   "source": []
  },
  {
   "cell_type": "code",
   "execution_count": null,
   "metadata": {},
   "outputs": [],
   "source": []
  },
  {
   "cell_type": "code",
   "execution_count": null,
   "metadata": {},
   "outputs": [],
   "source": []
  },
  {
   "cell_type": "code",
   "execution_count": null,
   "metadata": {},
   "outputs": [],
   "source": []
  },
  {
   "cell_type": "code",
   "execution_count": null,
   "metadata": {},
   "outputs": [],
   "source": []
  },
  {
   "cell_type": "code",
   "execution_count": null,
   "metadata": {},
   "outputs": [],
   "source": []
  }
 ],
 "metadata": {
  "kernelspec": {
   "display_name": "Django Shell-Plus",
   "language": "python",
   "name": "django_extensions"
  },
  "language_info": {
   "codemirror_mode": {
    "name": "ipython",
    "version": 3
   },
   "file_extension": ".py",
   "mimetype": "text/x-python",
   "name": "python",
   "nbconvert_exporter": "python",
   "pygments_lexer": "ipython3",
   "version": "3.6.2"
  }
 },
 "nbformat": 4,
 "nbformat_minor": 2
}
