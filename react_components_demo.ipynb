{
 "cells": [
  {
   "cell_type": "code",
   "execution_count": 1,
   "metadata": {},
   "outputs": [],
   "source": [
    "from visualization import FieldBackground, SpaceWorld\n",
    "from IPython.display import display\n",
    "\n",
    "bg = FieldBackground(props={'color':'g', 'size': 60})\n",
    "display(bg)"
   ]
  },
  {
   "cell_type": "code",
   "execution_count": 9,
   "metadata": {},
   "outputs": [],
   "source": [
    "fields = [[[\"b\", []], [\"b\", []], [\"b\", []], [\"b\", []], [\"b\", []], [\"b\", []]], [[\"k\", [\"A\"]], [\"k\", [\"A\"]], [\"k\", [\"A\"]], [\"k\", [\"A\"]], [\"k\", [\"A\"]], [\"k\", [\"M\"]]], [[\"k\", []], [\"k\", []], [\"k\", [\"W\"]], [\"k\", []], [\"k\", []], [\"k\", []]], [[\"k\", []], [\"y\", []], [\"k\", []], [\"k\", []], [\"k\", []], [\"r\", []]], [[\"k\", [\"M\"]], [\"k\", [\"M\"]], [\"k\", [\"A\"]], [\"k\", []], [\"y\", []], [\"k\", []]], [[\"k\", []], [\"k\", []], [\"k\", [\"A\"]], [\"k\", []], [\"k\", []], [\"k\", []]], [[\"k\", []], [\"r\", []], [\"k\", [\"A\"]], [\"y\", []], [\"k\", []], [\"k\", []]], [[\"y\", []], [\"k\", []], [\"k\", [\"A\"]], [\"k\", []], [\"k\", []], [\"k\", []]], [[\"k\", [\"S\"]], [\"k\", []], [\"k\", []], [\"k\", [\"W\"]], [\"k\", []], [\"k\", []]]]\n",
    "w = SpaceWorld(props={'fields': fields})\n",
    "display(w)"
   ]
  },
  {
   "cell_type": "code",
   "execution_count": null,
   "metadata": {},
   "outputs": [],
   "source": []
  },
  {
   "cell_type": "code",
   "execution_count": null,
   "metadata": {},
   "outputs": [],
   "source": []
  },
  {
   "cell_type": "code",
   "execution_count": null,
   "metadata": {},
   "outputs": [],
   "source": []
  },
  {
   "cell_type": "code",
   "execution_count": null,
   "metadata": {},
   "outputs": [],
   "source": []
  }
 ],
 "metadata": {
  "kernelspec": {
   "display_name": "Django Shell-Plus",
   "language": "python",
   "name": "django_extensions"
  },
  "language_info": {
   "codemirror_mode": {
    "name": "ipython",
    "version": 3
   },
   "file_extension": ".py",
   "mimetype": "text/x-python",
   "name": "python",
   "nbconvert_exporter": "python",
   "pygments_lexer": "ipython3",
   "version": "3.6.4"
  }
 },
 "nbformat": 4,
 "nbformat_minor": 2
}
