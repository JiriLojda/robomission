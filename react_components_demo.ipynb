{
 "cells": [
  {
   "cell_type": "code",
   "execution_count": 6,
   "metadata": {},
   "outputs": [],
   "source": [
    "import time\n",
    "from visualization import SpaceWorld"
   ]
  },
  {
   "cell_type": "code",
   "execution_count": 7,
   "metadata": {},
   "outputs": [],
   "source": [
    "w = SpaceWorld()\n",
    "w.set('''\n",
    "|b |b |bD|b |b |\n",
    "|k |k |kA|k |k |\n",
    "|k |kA|kA|kA|k |\n",
    "|k |k |kA|k |k |\n",
    "|k |k |kS|k |k |\n",
    "''')\n",
    "time.sleep(1)\n",
    "w.set('''\n",
    "|b |b |bD|b |b |\n",
    "|k |k |kA|k |k |\n",
    "|k |kA|kA|kA|k |\n",
    "|k |k |kA|kS|k |\n",
    "|k |k |k |k |k |\n",
    "''')\n",
    "time.sleep(1)\n",
    "w.set('''\n",
    "|b |b |bD|b |b |\n",
    "|k |k |kA|k |k |\n",
    "|k |kA|kA|kA|kS|\n",
    "|k |k |kA|k |k |\n",
    "|k |k |k |k |k |\n",
    "''')"
   ]
  },
  {
   "cell_type": "code",
   "execution_count": null,
   "metadata": {},
   "outputs": [],
   "source": []
  }
 ],
 "metadata": {
  "kernelspec": {
   "display_name": "Django Shell-Plus",
   "language": "python",
   "name": "django_extensions"
  },
  "language_info": {
   "codemirror_mode": {
    "name": "ipython",
    "version": 3
   },
   "file_extension": ".py",
   "mimetype": "text/x-python",
   "name": "python",
   "nbconvert_exporter": "python",
   "pygments_lexer": "ipython3",
   "version": "3.6.4"
  }
 },
 "nbformat": 4,
 "nbformat_minor": 2
}
